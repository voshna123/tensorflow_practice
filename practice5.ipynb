{
  "nbformat": 4,
  "nbformat_minor": 0,
  "metadata": {
    "colab": {
      "provenance": [],
      "gpuType": "T4",
      "authorship_tag": "ABX9TyNjIXzwZ7CiLDjdRhyuVXPY",
      "include_colab_link": true
    },
    "kernelspec": {
      "name": "python3",
      "display_name": "Python 3"
    },
    "language_info": {
      "name": "python"
    },
    "accelerator": "GPU"
  },
  "cells": [
    {
      "cell_type": "markdown",
      "metadata": {
        "id": "view-in-github",
        "colab_type": "text"
      },
      "source": [
        "<a href=\"https://colab.research.google.com/github/voshna123/tensorflow_practice/blob/main/practice5.ipynb\" target=\"_parent\"><img src=\"https://colab.research.google.com/assets/colab-badge.svg\" alt=\"Open In Colab\"/></a>"
      ]
    },
    {
      "cell_type": "code",
      "execution_count": 1,
      "metadata": {
        "id": "zbSkcU668gvl"
      },
      "outputs": [],
      "source": [
        "import tensorflow as tf\n",
        "import pandas as pd\n",
        "import matplotlib as plt"
      ]
    },
    {
      "cell_type": "code",
      "source": [
        "!wget https://storage.googleapis.com/ztm_tf_course/food_vision/10_food_classes_10_percent.zip"
      ],
      "metadata": {
        "colab": {
          "base_uri": "https://localhost:8080/"
        },
        "id": "P5yoZUxF8tFK",
        "outputId": "c895c69c-aa6b-41e0-bc8d-f4ef17847e1f"
      },
      "execution_count": 2,
      "outputs": [
        {
          "output_type": "stream",
          "name": "stdout",
          "text": [
            "--2025-01-08 03:26:31--  https://storage.googleapis.com/ztm_tf_course/food_vision/10_food_classes_10_percent.zip\n",
            "Resolving storage.googleapis.com (storage.googleapis.com)... 173.194.79.207, 108.177.96.207, 108.177.119.207, ...\n",
            "Connecting to storage.googleapis.com (storage.googleapis.com)|173.194.79.207|:443... connected.\n",
            "HTTP request sent, awaiting response... 200 OK\n",
            "Length: 168546183 (161M) [application/zip]\n",
            "Saving to: ‘10_food_classes_10_percent.zip’\n",
            "\n",
            "10_food_classes_10_ 100%[===================>] 160.74M  40.4MB/s    in 4.6s    \n",
            "\n",
            "2025-01-08 03:26:36 (35.0 MB/s) - ‘10_food_classes_10_percent.zip’ saved [168546183/168546183]\n",
            "\n"
          ]
        }
      ]
    },
    {
      "cell_type": "code",
      "source": [
        "import zipfile\n",
        "\n",
        "zip_ref = zipfile.ZipFile(\"10_food_classes_10_percent.zip\")\n",
        "zip_ref.extractall()\n",
        "zip_ref.close()"
      ],
      "metadata": {
        "id": "im6-U4HG8yXP"
      },
      "execution_count": 3,
      "outputs": []
    },
    {
      "cell_type": "code",
      "source": [
        "base = tf.keras.applications.EfficientNetB0()\n",
        "base.trainable = False"
      ],
      "metadata": {
        "id": "4d9f5gUz9W7K"
      },
      "execution_count": 16,
      "outputs": []
    },
    {
      "cell_type": "code",
      "source": [
        "data_aug = tf.keras.Sequential([\n",
        "    tf.keras.layers.Resizing(224,224),\n",
        "    tf.keras.layers.RandomFlip(\"Horizontal\"),\n",
        "])"
      ],
      "metadata": {
        "id": "H9766Yzu-JIg"
      },
      "execution_count": 20,
      "outputs": []
    },
    {
      "cell_type": "code",
      "source": [
        "inputs = tf.keras.layers.Input(shape = (224,224,3))\n",
        "\n",
        "x = data_aug(inputs)\n",
        "\n",
        "x = base(x, training = False)\n",
        "\n",
        "x= tf.keras.layers.GlobalAveragePooling2D()(x)\n",
        "\n",
        "outputs = tf.keras.layers.Dense(10, activation = 'softmax')(x)\n",
        "\n",
        "model_1 = tf.keras.Model(inputs, outputs)\n",
        "\n",
        "model_1.compile(loss = tf.keras.losses.CategoricalCrossentropy(),\n",
        "                optimizer = tf.keras.optimizers.Adam(),\n",
        "                metrics = ['accuracy'])"
      ],
      "metadata": {
        "id": "JGE8FPfP9sE8"
      },
      "execution_count": 22,
      "outputs": []
    },
    {
      "cell_type": "code",
      "source": [
        "train_dir = \"/content/10_food_classes_10_percent/train\"\n",
        "test_dir =\"/content/10_food_classes_10_percent/test\""
      ],
      "metadata": {
        "id": "du7ciGbsBlS5"
      },
      "execution_count": 23,
      "outputs": []
    },
    {
      "cell_type": "code",
      "source": [
        "train_data = tf.keras.preprocessing.image_dataset_from_directory(\n",
        "    train_dir,\n",
        "    shuffle = True,\n",
        "    label_mode = \"categorical\",\n",
        "    image_size = (224,224),\n",
        "    seed= 42\n",
        ")\n",
        "\n",
        "test_data = tf.keras.preprocessing.image_dataset_from_directory(\n",
        "    test_dir,\n",
        "    shuffle = True,\n",
        "    label_mode = \"categorical\",\n",
        "    image_size = (224,224)\n",
        ")"
      ],
      "metadata": {
        "colab": {
          "base_uri": "https://localhost:8080/"
        },
        "id": "3qerIk3vBYmu",
        "outputId": "665b1ef6-a3f8-42ab-a597-36b56c6831c3"
      },
      "execution_count": 24,
      "outputs": [
        {
          "output_type": "stream",
          "name": "stdout",
          "text": [
            "Found 750 files belonging to 10 classes.\n",
            "Found 2500 files belonging to 10 classes.\n"
          ]
        }
      ]
    },
    {
      "cell_type": "code",
      "source": [
        "path = \"model_weight.weights.h5\"\n",
        "\n",
        "callback = tf.keras.callbacks.ModelCheckpoint(path,\n",
        "                                              save_best_only = True,\n",
        "                                              save_weights_only=True)"
      ],
      "metadata": {
        "id": "him9DAGhCKAX"
      },
      "execution_count": 25,
      "outputs": []
    },
    {
      "cell_type": "code",
      "source": [
        "hist_1 = model_1.fit(train_data,\n",
        "                     epochs = 5,\n",
        "                     validation_data = test_data,\n",
        "                     callbacks =[callback])"
      ],
      "metadata": {
        "colab": {
          "base_uri": "https://localhost:8080/"
        },
        "id": "HgdIRF7EB-CY",
        "outputId": "738f6dc2-4263-4b02-96b5-23564b237674"
      },
      "execution_count": 26,
      "outputs": [
        {
          "output_type": "stream",
          "name": "stdout",
          "text": [
            "Epoch 1/5\n",
            "\u001b[1m24/24\u001b[0m \u001b[32m━━━━━━━━━━━━━━━━━━━━\u001b[0m\u001b[37m\u001b[0m \u001b[1m57s\u001b[0m 1s/step - accuracy: 0.2392 - loss: 2.1472 - val_accuracy: 0.6720 - val_loss: 1.4092\n",
            "Epoch 2/5\n",
            "\u001b[1m24/24\u001b[0m \u001b[32m━━━━━━━━━━━━━━━━━━━━\u001b[0m\u001b[37m\u001b[0m \u001b[1m42s\u001b[0m 338ms/step - accuracy: 0.7053 - loss: 1.2689 - val_accuracy: 0.7712 - val_loss: 0.9821\n",
            "Epoch 3/5\n",
            "\u001b[1m24/24\u001b[0m \u001b[32m━━━━━━━━━━━━━━━━━━━━\u001b[0m\u001b[37m\u001b[0m \u001b[1m9s\u001b[0m 371ms/step - accuracy: 0.7849 - loss: 0.9182 - val_accuracy: 0.8000 - val_loss: 0.8068\n",
            "Epoch 4/5\n",
            "\u001b[1m24/24\u001b[0m \u001b[32m━━━━━━━━━━━━━━━━━━━━\u001b[0m\u001b[37m\u001b[0m \u001b[1m7s\u001b[0m 301ms/step - accuracy: 0.8353 - loss: 0.7405 - val_accuracy: 0.8160 - val_loss: 0.7139\n",
            "Epoch 5/5\n",
            "\u001b[1m24/24\u001b[0m \u001b[32m━━━━━━━━━━━━━━━━━━━━\u001b[0m\u001b[37m\u001b[0m \u001b[1m12s\u001b[0m 525ms/step - accuracy: 0.8464 - loss: 0.6264 - val_accuracy: 0.8212 - val_loss: 0.6578\n"
          ]
        }
      ]
    },
    {
      "cell_type": "code",
      "source": [
        "for layer in base.layers[:-20]:\n",
        "  layer.trainable = False\n",
        "\n",
        "for layer in base.layers[-20:]:\n",
        "  layer.trainable = True"
      ],
      "metadata": {
        "id": "l7Ta5CNFCk_e"
      },
      "execution_count": 39,
      "outputs": []
    },
    {
      "cell_type": "code",
      "source": [
        "model_1.compile(loss = tf.keras.losses.CategoricalCrossentropy(),\n",
        "                optimizer = tf.keras.optimizers.Adam(),\n",
        "                metrics = ['accuracy'])\n",
        "\n",
        "model_1.load_weights(\"/content/model_weight.weights.h5\")"
      ],
      "metadata": {
        "colab": {
          "base_uri": "https://localhost:8080/"
        },
        "id": "dIgZOpM6C1FM",
        "outputId": "555a6510-07d1-442f-b062-466e2858bfff"
      },
      "execution_count": 40,
      "outputs": [
        {
          "output_type": "stream",
          "name": "stderr",
          "text": [
            "/usr/local/lib/python3.10/dist-packages/keras/src/saving/saving_lib.py:713: UserWarning: Skipping variable loading for optimizer 'adam', because it has 2 variables whereas the saved optimizer has 6 variables. \n",
            "  saveable.load_own_variables(weights_store.get(inner_path))\n"
          ]
        }
      ]
    },
    {
      "cell_type": "code",
      "source": [
        "for i,layer in enumerate(model_1.layers[2].layers):\n",
        "  print(i,layer, layer.trainable)"
      ],
      "metadata": {
        "colab": {
          "base_uri": "https://localhost:8080/"
        },
        "id": "rANajLaeDdXP",
        "outputId": "71d5a247-794c-45ad-a2a0-f83b1d1738b7"
      },
      "execution_count": 41,
      "outputs": [
        {
          "output_type": "stream",
          "name": "stdout",
          "text": [
            "0 <InputLayer name=input_layer_16, built=True> False\n",
            "1 <Rescaling name=rescaling_10, built=True> False\n",
            "2 <Normalization name=normalization_5, built=True> False\n",
            "3 <Rescaling name=rescaling_11, built=True> False\n",
            "4 <ZeroPadding2D name=stem_conv_pad, built=True> False\n",
            "5 <Conv2D name=stem_conv, built=True> False\n",
            "6 <BatchNormalization name=stem_bn, built=True> False\n",
            "7 <Activation name=stem_activation, built=True> False\n",
            "8 <DepthwiseConv2D name=block1a_dwconv, built=True> False\n",
            "9 <BatchNormalization name=block1a_bn, built=True> False\n",
            "10 <Activation name=block1a_activation, built=True> False\n",
            "11 <GlobalAveragePooling2D name=block1a_se_squeeze, built=True> False\n",
            "12 <Reshape name=block1a_se_reshape, built=True> False\n",
            "13 <Conv2D name=block1a_se_reduce, built=True> False\n",
            "14 <Conv2D name=block1a_se_expand, built=True> False\n",
            "15 <Multiply name=block1a_se_excite, built=True> False\n",
            "16 <Conv2D name=block1a_project_conv, built=True> False\n",
            "17 <BatchNormalization name=block1a_project_bn, built=True> False\n",
            "18 <Conv2D name=block2a_expand_conv, built=True> False\n",
            "19 <BatchNormalization name=block2a_expand_bn, built=True> False\n",
            "20 <Activation name=block2a_expand_activation, built=True> False\n",
            "21 <ZeroPadding2D name=block2a_dwconv_pad, built=True> False\n",
            "22 <DepthwiseConv2D name=block2a_dwconv, built=True> False\n",
            "23 <BatchNormalization name=block2a_bn, built=True> False\n",
            "24 <Activation name=block2a_activation, built=True> False\n",
            "25 <GlobalAveragePooling2D name=block2a_se_squeeze, built=True> False\n",
            "26 <Reshape name=block2a_se_reshape, built=True> False\n",
            "27 <Conv2D name=block2a_se_reduce, built=True> False\n",
            "28 <Conv2D name=block2a_se_expand, built=True> False\n",
            "29 <Multiply name=block2a_se_excite, built=True> False\n",
            "30 <Conv2D name=block2a_project_conv, built=True> False\n",
            "31 <BatchNormalization name=block2a_project_bn, built=True> False\n",
            "32 <Conv2D name=block2b_expand_conv, built=True> False\n",
            "33 <BatchNormalization name=block2b_expand_bn, built=True> False\n",
            "34 <Activation name=block2b_expand_activation, built=True> False\n",
            "35 <DepthwiseConv2D name=block2b_dwconv, built=True> False\n",
            "36 <BatchNormalization name=block2b_bn, built=True> False\n",
            "37 <Activation name=block2b_activation, built=True> False\n",
            "38 <GlobalAveragePooling2D name=block2b_se_squeeze, built=True> False\n",
            "39 <Reshape name=block2b_se_reshape, built=True> False\n",
            "40 <Conv2D name=block2b_se_reduce, built=True> False\n",
            "41 <Conv2D name=block2b_se_expand, built=True> False\n",
            "42 <Multiply name=block2b_se_excite, built=True> False\n",
            "43 <Conv2D name=block2b_project_conv, built=True> False\n",
            "44 <BatchNormalization name=block2b_project_bn, built=True> False\n",
            "45 <Dropout name=block2b_drop, built=True> False\n",
            "46 <Add name=block2b_add, built=True> False\n",
            "47 <Conv2D name=block3a_expand_conv, built=True> False\n",
            "48 <BatchNormalization name=block3a_expand_bn, built=True> False\n",
            "49 <Activation name=block3a_expand_activation, built=True> False\n",
            "50 <ZeroPadding2D name=block3a_dwconv_pad, built=True> False\n",
            "51 <DepthwiseConv2D name=block3a_dwconv, built=True> False\n",
            "52 <BatchNormalization name=block3a_bn, built=True> False\n",
            "53 <Activation name=block3a_activation, built=True> False\n",
            "54 <GlobalAveragePooling2D name=block3a_se_squeeze, built=True> False\n",
            "55 <Reshape name=block3a_se_reshape, built=True> False\n",
            "56 <Conv2D name=block3a_se_reduce, built=True> False\n",
            "57 <Conv2D name=block3a_se_expand, built=True> False\n",
            "58 <Multiply name=block3a_se_excite, built=True> False\n",
            "59 <Conv2D name=block3a_project_conv, built=True> False\n",
            "60 <BatchNormalization name=block3a_project_bn, built=True> False\n",
            "61 <Conv2D name=block3b_expand_conv, built=True> False\n",
            "62 <BatchNormalization name=block3b_expand_bn, built=True> False\n",
            "63 <Activation name=block3b_expand_activation, built=True> False\n",
            "64 <DepthwiseConv2D name=block3b_dwconv, built=True> False\n",
            "65 <BatchNormalization name=block3b_bn, built=True> False\n",
            "66 <Activation name=block3b_activation, built=True> False\n",
            "67 <GlobalAveragePooling2D name=block3b_se_squeeze, built=True> False\n",
            "68 <Reshape name=block3b_se_reshape, built=True> False\n",
            "69 <Conv2D name=block3b_se_reduce, built=True> False\n",
            "70 <Conv2D name=block3b_se_expand, built=True> False\n",
            "71 <Multiply name=block3b_se_excite, built=True> False\n",
            "72 <Conv2D name=block3b_project_conv, built=True> False\n",
            "73 <BatchNormalization name=block3b_project_bn, built=True> False\n",
            "74 <Dropout name=block3b_drop, built=True> False\n",
            "75 <Add name=block3b_add, built=True> False\n",
            "76 <Conv2D name=block4a_expand_conv, built=True> False\n",
            "77 <BatchNormalization name=block4a_expand_bn, built=True> False\n",
            "78 <Activation name=block4a_expand_activation, built=True> False\n",
            "79 <ZeroPadding2D name=block4a_dwconv_pad, built=True> False\n",
            "80 <DepthwiseConv2D name=block4a_dwconv, built=True> False\n",
            "81 <BatchNormalization name=block4a_bn, built=True> False\n",
            "82 <Activation name=block4a_activation, built=True> False\n",
            "83 <GlobalAveragePooling2D name=block4a_se_squeeze, built=True> False\n",
            "84 <Reshape name=block4a_se_reshape, built=True> False\n",
            "85 <Conv2D name=block4a_se_reduce, built=True> False\n",
            "86 <Conv2D name=block4a_se_expand, built=True> False\n",
            "87 <Multiply name=block4a_se_excite, built=True> False\n",
            "88 <Conv2D name=block4a_project_conv, built=True> False\n",
            "89 <BatchNormalization name=block4a_project_bn, built=True> False\n",
            "90 <Conv2D name=block4b_expand_conv, built=True> False\n",
            "91 <BatchNormalization name=block4b_expand_bn, built=True> False\n",
            "92 <Activation name=block4b_expand_activation, built=True> False\n",
            "93 <DepthwiseConv2D name=block4b_dwconv, built=True> False\n",
            "94 <BatchNormalization name=block4b_bn, built=True> False\n",
            "95 <Activation name=block4b_activation, built=True> False\n",
            "96 <GlobalAveragePooling2D name=block4b_se_squeeze, built=True> False\n",
            "97 <Reshape name=block4b_se_reshape, built=True> False\n",
            "98 <Conv2D name=block4b_se_reduce, built=True> False\n",
            "99 <Conv2D name=block4b_se_expand, built=True> False\n",
            "100 <Multiply name=block4b_se_excite, built=True> False\n",
            "101 <Conv2D name=block4b_project_conv, built=True> False\n",
            "102 <BatchNormalization name=block4b_project_bn, built=True> False\n",
            "103 <Dropout name=block4b_drop, built=True> False\n",
            "104 <Add name=block4b_add, built=True> False\n",
            "105 <Conv2D name=block4c_expand_conv, built=True> False\n",
            "106 <BatchNormalization name=block4c_expand_bn, built=True> False\n",
            "107 <Activation name=block4c_expand_activation, built=True> False\n",
            "108 <DepthwiseConv2D name=block4c_dwconv, built=True> False\n",
            "109 <BatchNormalization name=block4c_bn, built=True> False\n",
            "110 <Activation name=block4c_activation, built=True> False\n",
            "111 <GlobalAveragePooling2D name=block4c_se_squeeze, built=True> False\n",
            "112 <Reshape name=block4c_se_reshape, built=True> False\n",
            "113 <Conv2D name=block4c_se_reduce, built=True> False\n",
            "114 <Conv2D name=block4c_se_expand, built=True> False\n",
            "115 <Multiply name=block4c_se_excite, built=True> False\n",
            "116 <Conv2D name=block4c_project_conv, built=True> False\n",
            "117 <BatchNormalization name=block4c_project_bn, built=True> False\n",
            "118 <Dropout name=block4c_drop, built=True> False\n",
            "119 <Add name=block4c_add, built=True> False\n",
            "120 <Conv2D name=block5a_expand_conv, built=True> False\n",
            "121 <BatchNormalization name=block5a_expand_bn, built=True> False\n",
            "122 <Activation name=block5a_expand_activation, built=True> False\n",
            "123 <DepthwiseConv2D name=block5a_dwconv, built=True> False\n",
            "124 <BatchNormalization name=block5a_bn, built=True> False\n",
            "125 <Activation name=block5a_activation, built=True> False\n",
            "126 <GlobalAveragePooling2D name=block5a_se_squeeze, built=True> False\n",
            "127 <Reshape name=block5a_se_reshape, built=True> False\n",
            "128 <Conv2D name=block5a_se_reduce, built=True> False\n",
            "129 <Conv2D name=block5a_se_expand, built=True> False\n",
            "130 <Multiply name=block5a_se_excite, built=True> False\n",
            "131 <Conv2D name=block5a_project_conv, built=True> False\n",
            "132 <BatchNormalization name=block5a_project_bn, built=True> False\n",
            "133 <Conv2D name=block5b_expand_conv, built=True> False\n",
            "134 <BatchNormalization name=block5b_expand_bn, built=True> False\n",
            "135 <Activation name=block5b_expand_activation, built=True> False\n",
            "136 <DepthwiseConv2D name=block5b_dwconv, built=True> False\n",
            "137 <BatchNormalization name=block5b_bn, built=True> False\n",
            "138 <Activation name=block5b_activation, built=True> False\n",
            "139 <GlobalAveragePooling2D name=block5b_se_squeeze, built=True> False\n",
            "140 <Reshape name=block5b_se_reshape, built=True> False\n",
            "141 <Conv2D name=block5b_se_reduce, built=True> False\n",
            "142 <Conv2D name=block5b_se_expand, built=True> False\n",
            "143 <Multiply name=block5b_se_excite, built=True> False\n",
            "144 <Conv2D name=block5b_project_conv, built=True> False\n",
            "145 <BatchNormalization name=block5b_project_bn, built=True> False\n",
            "146 <Dropout name=block5b_drop, built=True> False\n",
            "147 <Add name=block5b_add, built=True> False\n",
            "148 <Conv2D name=block5c_expand_conv, built=True> False\n",
            "149 <BatchNormalization name=block5c_expand_bn, built=True> False\n",
            "150 <Activation name=block5c_expand_activation, built=True> False\n",
            "151 <DepthwiseConv2D name=block5c_dwconv, built=True> False\n",
            "152 <BatchNormalization name=block5c_bn, built=True> False\n",
            "153 <Activation name=block5c_activation, built=True> False\n",
            "154 <GlobalAveragePooling2D name=block5c_se_squeeze, built=True> False\n",
            "155 <Reshape name=block5c_se_reshape, built=True> False\n",
            "156 <Conv2D name=block5c_se_reduce, built=True> False\n",
            "157 <Conv2D name=block5c_se_expand, built=True> False\n",
            "158 <Multiply name=block5c_se_excite, built=True> False\n",
            "159 <Conv2D name=block5c_project_conv, built=True> False\n",
            "160 <BatchNormalization name=block5c_project_bn, built=True> False\n",
            "161 <Dropout name=block5c_drop, built=True> False\n",
            "162 <Add name=block5c_add, built=True> False\n",
            "163 <Conv2D name=block6a_expand_conv, built=True> False\n",
            "164 <BatchNormalization name=block6a_expand_bn, built=True> False\n",
            "165 <Activation name=block6a_expand_activation, built=True> False\n",
            "166 <ZeroPadding2D name=block6a_dwconv_pad, built=True> False\n",
            "167 <DepthwiseConv2D name=block6a_dwconv, built=True> False\n",
            "168 <BatchNormalization name=block6a_bn, built=True> False\n",
            "169 <Activation name=block6a_activation, built=True> False\n",
            "170 <GlobalAveragePooling2D name=block6a_se_squeeze, built=True> False\n",
            "171 <Reshape name=block6a_se_reshape, built=True> False\n",
            "172 <Conv2D name=block6a_se_reduce, built=True> False\n",
            "173 <Conv2D name=block6a_se_expand, built=True> False\n",
            "174 <Multiply name=block6a_se_excite, built=True> False\n",
            "175 <Conv2D name=block6a_project_conv, built=True> False\n",
            "176 <BatchNormalization name=block6a_project_bn, built=True> False\n",
            "177 <Conv2D name=block6b_expand_conv, built=True> False\n",
            "178 <BatchNormalization name=block6b_expand_bn, built=True> False\n",
            "179 <Activation name=block6b_expand_activation, built=True> False\n",
            "180 <DepthwiseConv2D name=block6b_dwconv, built=True> False\n",
            "181 <BatchNormalization name=block6b_bn, built=True> False\n",
            "182 <Activation name=block6b_activation, built=True> False\n",
            "183 <GlobalAveragePooling2D name=block6b_se_squeeze, built=True> False\n",
            "184 <Reshape name=block6b_se_reshape, built=True> False\n",
            "185 <Conv2D name=block6b_se_reduce, built=True> False\n",
            "186 <Conv2D name=block6b_se_expand, built=True> False\n",
            "187 <Multiply name=block6b_se_excite, built=True> False\n",
            "188 <Conv2D name=block6b_project_conv, built=True> False\n",
            "189 <BatchNormalization name=block6b_project_bn, built=True> False\n",
            "190 <Dropout name=block6b_drop, built=True> False\n",
            "191 <Add name=block6b_add, built=True> False\n",
            "192 <Conv2D name=block6c_expand_conv, built=True> False\n",
            "193 <BatchNormalization name=block6c_expand_bn, built=True> False\n",
            "194 <Activation name=block6c_expand_activation, built=True> False\n",
            "195 <DepthwiseConv2D name=block6c_dwconv, built=True> False\n",
            "196 <BatchNormalization name=block6c_bn, built=True> False\n",
            "197 <Activation name=block6c_activation, built=True> False\n",
            "198 <GlobalAveragePooling2D name=block6c_se_squeeze, built=True> False\n",
            "199 <Reshape name=block6c_se_reshape, built=True> False\n",
            "200 <Conv2D name=block6c_se_reduce, built=True> False\n",
            "201 <Conv2D name=block6c_se_expand, built=True> False\n",
            "202 <Multiply name=block6c_se_excite, built=True> False\n",
            "203 <Conv2D name=block6c_project_conv, built=True> False\n",
            "204 <BatchNormalization name=block6c_project_bn, built=True> False\n",
            "205 <Dropout name=block6c_drop, built=True> False\n",
            "206 <Add name=block6c_add, built=True> False\n",
            "207 <Conv2D name=block6d_expand_conv, built=True> False\n",
            "208 <BatchNormalization name=block6d_expand_bn, built=True> False\n",
            "209 <Activation name=block6d_expand_activation, built=True> False\n",
            "210 <DepthwiseConv2D name=block6d_dwconv, built=True> False\n",
            "211 <BatchNormalization name=block6d_bn, built=True> False\n",
            "212 <Activation name=block6d_activation, built=True> False\n",
            "213 <GlobalAveragePooling2D name=block6d_se_squeeze, built=True> False\n",
            "214 <Reshape name=block6d_se_reshape, built=True> False\n",
            "215 <Conv2D name=block6d_se_reduce, built=True> False\n",
            "216 <Conv2D name=block6d_se_expand, built=True> False\n",
            "217 <Multiply name=block6d_se_excite, built=True> False\n",
            "218 <Conv2D name=block6d_project_conv, built=True> True\n",
            "219 <BatchNormalization name=block6d_project_bn, built=True> True\n",
            "220 <Dropout name=block6d_drop, built=True> True\n",
            "221 <Add name=block6d_add, built=True> True\n",
            "222 <Conv2D name=block7a_expand_conv, built=True> True\n",
            "223 <BatchNormalization name=block7a_expand_bn, built=True> True\n",
            "224 <Activation name=block7a_expand_activation, built=True> True\n",
            "225 <DepthwiseConv2D name=block7a_dwconv, built=True> True\n",
            "226 <BatchNormalization name=block7a_bn, built=True> True\n",
            "227 <Activation name=block7a_activation, built=True> True\n",
            "228 <GlobalAveragePooling2D name=block7a_se_squeeze, built=True> True\n",
            "229 <Reshape name=block7a_se_reshape, built=True> True\n",
            "230 <Conv2D name=block7a_se_reduce, built=True> True\n",
            "231 <Conv2D name=block7a_se_expand, built=True> True\n",
            "232 <Multiply name=block7a_se_excite, built=True> True\n",
            "233 <Conv2D name=block7a_project_conv, built=True> True\n",
            "234 <BatchNormalization name=block7a_project_bn, built=True> True\n",
            "235 <Conv2D name=top_conv, built=True> True\n",
            "236 <BatchNormalization name=top_bn, built=True> True\n",
            "237 <Activation name=top_activation, built=True> True\n"
          ]
        }
      ]
    },
    {
      "cell_type": "code",
      "source": [
        "hist_2 = model_1.fit(train_data,\n",
        "                     epochs = 15,\n",
        "                     validation_data = test_data,\n",
        "                     initial_epoch = 5)"
      ],
      "metadata": {
        "colab": {
          "base_uri": "https://localhost:8080/"
        },
        "id": "vhKi-gW3DNKQ",
        "outputId": "77530de3-041e-4db1-b8e5-c660af1a1e25"
      },
      "execution_count": 43,
      "outputs": [
        {
          "output_type": "stream",
          "name": "stdout",
          "text": [
            "Epoch 6/15\n",
            "\u001b[1m24/24\u001b[0m \u001b[32m━━━━━━━━━━━━━━━━━━━━\u001b[0m\u001b[37m\u001b[0m \u001b[1m61s\u001b[0m 2s/step - accuracy: 0.8251 - loss: 0.7537 - val_accuracy: 0.8492 - val_loss: 0.4936\n",
            "Epoch 7/15\n",
            "\u001b[1m24/24\u001b[0m \u001b[32m━━━━━━━━━━━━━━━━━━━━\u001b[0m\u001b[37m\u001b[0m \u001b[1m36s\u001b[0m 284ms/step - accuracy: 0.9758 - loss: 0.1324 - val_accuracy: 0.8500 - val_loss: 0.4904\n",
            "Epoch 8/15\n",
            "\u001b[1m24/24\u001b[0m \u001b[32m━━━━━━━━━━━━━━━━━━━━\u001b[0m\u001b[37m\u001b[0m \u001b[1m11s\u001b[0m 330ms/step - accuracy: 0.9897 - loss: 0.0559 - val_accuracy: 0.8528 - val_loss: 0.5032\n",
            "Epoch 9/15\n",
            "\u001b[1m24/24\u001b[0m \u001b[32m━━━━━━━━━━━━━━━━━━━━\u001b[0m\u001b[37m\u001b[0m \u001b[1m7s\u001b[0m 289ms/step - accuracy: 0.9936 - loss: 0.0388 - val_accuracy: 0.8812 - val_loss: 0.3803\n",
            "Epoch 10/15\n",
            "\u001b[1m24/24\u001b[0m \u001b[32m━━━━━━━━━━━━━━━━━━━━\u001b[0m\u001b[37m\u001b[0m \u001b[1m7s\u001b[0m 290ms/step - accuracy: 0.9937 - loss: 0.0248 - val_accuracy: 0.8828 - val_loss: 0.3789\n",
            "Epoch 11/15\n",
            "\u001b[1m24/24\u001b[0m \u001b[32m━━━━━━━━━━━━━━━━━━━━\u001b[0m\u001b[37m\u001b[0m \u001b[1m11s\u001b[0m 319ms/step - accuracy: 0.9976 - loss: 0.0205 - val_accuracy: 0.8800 - val_loss: 0.3852\n",
            "Epoch 12/15\n",
            "\u001b[1m24/24\u001b[0m \u001b[32m━━━━━━━━━━━━━━━━━━━━\u001b[0m\u001b[37m\u001b[0m \u001b[1m7s\u001b[0m 285ms/step - accuracy: 0.9997 - loss: 0.0123 - val_accuracy: 0.8792 - val_loss: 0.3940\n",
            "Epoch 13/15\n",
            "\u001b[1m24/24\u001b[0m \u001b[32m━━━━━━━━━━━━━━━━━━━━\u001b[0m\u001b[37m\u001b[0m \u001b[1m10s\u001b[0m 253ms/step - accuracy: 0.9931 - loss: 0.0223 - val_accuracy: 0.8876 - val_loss: 0.3740\n",
            "Epoch 14/15\n",
            "\u001b[1m24/24\u001b[0m \u001b[32m━━━━━━━━━━━━━━━━━━━━\u001b[0m\u001b[37m\u001b[0m \u001b[1m7s\u001b[0m 313ms/step - accuracy: 1.0000 - loss: 0.0055 - val_accuracy: 0.8908 - val_loss: 0.3722\n",
            "Epoch 15/15\n",
            "\u001b[1m24/24\u001b[0m \u001b[32m━━━━━━━━━━━━━━━━━━━━\u001b[0m\u001b[37m\u001b[0m \u001b[1m7s\u001b[0m 281ms/step - accuracy: 0.9993 - loss: 0.0065 - val_accuracy: 0.8860 - val_loss: 0.3790\n"
          ]
        }
      ]
    },
    {
      "cell_type": "code",
      "source": [
        "for layer in base.layers[-30:]:\n",
        "  layer.trainable = True"
      ],
      "metadata": {
        "id": "KyKaQ9ufEZvU"
      },
      "execution_count": 44,
      "outputs": []
    },
    {
      "cell_type": "code",
      "source": [
        "model_1.compile(loss = tf.keras.losses.CategoricalCrossentropy(),\n",
        "                optimizer = tf.keras.optimizers.Adam(),\n",
        "                metrics = ['accuracy'])\n",
        "\n",
        "model_1.load_weights(\"/content/model_weight.weights.h5\")"
      ],
      "metadata": {
        "id": "wRaMJu7pEdWx"
      },
      "execution_count": 45,
      "outputs": []
    },
    {
      "cell_type": "code",
      "source": [
        "for i,layer in enumerate(model_1.layers[2].layers):\n",
        "  print(i,layer, layer.trainable)"
      ],
      "metadata": {
        "colab": {
          "base_uri": "https://localhost:8080/"
        },
        "id": "iGrQ7RdZEgfZ",
        "outputId": "61e045f1-f668-4598-f7f5-79a1d59ea0c4"
      },
      "execution_count": 46,
      "outputs": [
        {
          "output_type": "stream",
          "name": "stdout",
          "text": [
            "0 <InputLayer name=input_layer_16, built=True> False\n",
            "1 <Rescaling name=rescaling_10, built=True> False\n",
            "2 <Normalization name=normalization_5, built=True> False\n",
            "3 <Rescaling name=rescaling_11, built=True> False\n",
            "4 <ZeroPadding2D name=stem_conv_pad, built=True> False\n",
            "5 <Conv2D name=stem_conv, built=True> False\n",
            "6 <BatchNormalization name=stem_bn, built=True> False\n",
            "7 <Activation name=stem_activation, built=True> False\n",
            "8 <DepthwiseConv2D name=block1a_dwconv, built=True> False\n",
            "9 <BatchNormalization name=block1a_bn, built=True> False\n",
            "10 <Activation name=block1a_activation, built=True> False\n",
            "11 <GlobalAveragePooling2D name=block1a_se_squeeze, built=True> False\n",
            "12 <Reshape name=block1a_se_reshape, built=True> False\n",
            "13 <Conv2D name=block1a_se_reduce, built=True> False\n",
            "14 <Conv2D name=block1a_se_expand, built=True> False\n",
            "15 <Multiply name=block1a_se_excite, built=True> False\n",
            "16 <Conv2D name=block1a_project_conv, built=True> False\n",
            "17 <BatchNormalization name=block1a_project_bn, built=True> False\n",
            "18 <Conv2D name=block2a_expand_conv, built=True> False\n",
            "19 <BatchNormalization name=block2a_expand_bn, built=True> False\n",
            "20 <Activation name=block2a_expand_activation, built=True> False\n",
            "21 <ZeroPadding2D name=block2a_dwconv_pad, built=True> False\n",
            "22 <DepthwiseConv2D name=block2a_dwconv, built=True> False\n",
            "23 <BatchNormalization name=block2a_bn, built=True> False\n",
            "24 <Activation name=block2a_activation, built=True> False\n",
            "25 <GlobalAveragePooling2D name=block2a_se_squeeze, built=True> False\n",
            "26 <Reshape name=block2a_se_reshape, built=True> False\n",
            "27 <Conv2D name=block2a_se_reduce, built=True> False\n",
            "28 <Conv2D name=block2a_se_expand, built=True> False\n",
            "29 <Multiply name=block2a_se_excite, built=True> False\n",
            "30 <Conv2D name=block2a_project_conv, built=True> False\n",
            "31 <BatchNormalization name=block2a_project_bn, built=True> False\n",
            "32 <Conv2D name=block2b_expand_conv, built=True> False\n",
            "33 <BatchNormalization name=block2b_expand_bn, built=True> False\n",
            "34 <Activation name=block2b_expand_activation, built=True> False\n",
            "35 <DepthwiseConv2D name=block2b_dwconv, built=True> False\n",
            "36 <BatchNormalization name=block2b_bn, built=True> False\n",
            "37 <Activation name=block2b_activation, built=True> False\n",
            "38 <GlobalAveragePooling2D name=block2b_se_squeeze, built=True> False\n",
            "39 <Reshape name=block2b_se_reshape, built=True> False\n",
            "40 <Conv2D name=block2b_se_reduce, built=True> False\n",
            "41 <Conv2D name=block2b_se_expand, built=True> False\n",
            "42 <Multiply name=block2b_se_excite, built=True> False\n",
            "43 <Conv2D name=block2b_project_conv, built=True> False\n",
            "44 <BatchNormalization name=block2b_project_bn, built=True> False\n",
            "45 <Dropout name=block2b_drop, built=True> False\n",
            "46 <Add name=block2b_add, built=True> False\n",
            "47 <Conv2D name=block3a_expand_conv, built=True> False\n",
            "48 <BatchNormalization name=block3a_expand_bn, built=True> False\n",
            "49 <Activation name=block3a_expand_activation, built=True> False\n",
            "50 <ZeroPadding2D name=block3a_dwconv_pad, built=True> False\n",
            "51 <DepthwiseConv2D name=block3a_dwconv, built=True> False\n",
            "52 <BatchNormalization name=block3a_bn, built=True> False\n",
            "53 <Activation name=block3a_activation, built=True> False\n",
            "54 <GlobalAveragePooling2D name=block3a_se_squeeze, built=True> False\n",
            "55 <Reshape name=block3a_se_reshape, built=True> False\n",
            "56 <Conv2D name=block3a_se_reduce, built=True> False\n",
            "57 <Conv2D name=block3a_se_expand, built=True> False\n",
            "58 <Multiply name=block3a_se_excite, built=True> False\n",
            "59 <Conv2D name=block3a_project_conv, built=True> False\n",
            "60 <BatchNormalization name=block3a_project_bn, built=True> False\n",
            "61 <Conv2D name=block3b_expand_conv, built=True> False\n",
            "62 <BatchNormalization name=block3b_expand_bn, built=True> False\n",
            "63 <Activation name=block3b_expand_activation, built=True> False\n",
            "64 <DepthwiseConv2D name=block3b_dwconv, built=True> False\n",
            "65 <BatchNormalization name=block3b_bn, built=True> False\n",
            "66 <Activation name=block3b_activation, built=True> False\n",
            "67 <GlobalAveragePooling2D name=block3b_se_squeeze, built=True> False\n",
            "68 <Reshape name=block3b_se_reshape, built=True> False\n",
            "69 <Conv2D name=block3b_se_reduce, built=True> False\n",
            "70 <Conv2D name=block3b_se_expand, built=True> False\n",
            "71 <Multiply name=block3b_se_excite, built=True> False\n",
            "72 <Conv2D name=block3b_project_conv, built=True> False\n",
            "73 <BatchNormalization name=block3b_project_bn, built=True> False\n",
            "74 <Dropout name=block3b_drop, built=True> False\n",
            "75 <Add name=block3b_add, built=True> False\n",
            "76 <Conv2D name=block4a_expand_conv, built=True> False\n",
            "77 <BatchNormalization name=block4a_expand_bn, built=True> False\n",
            "78 <Activation name=block4a_expand_activation, built=True> False\n",
            "79 <ZeroPadding2D name=block4a_dwconv_pad, built=True> False\n",
            "80 <DepthwiseConv2D name=block4a_dwconv, built=True> False\n",
            "81 <BatchNormalization name=block4a_bn, built=True> False\n",
            "82 <Activation name=block4a_activation, built=True> False\n",
            "83 <GlobalAveragePooling2D name=block4a_se_squeeze, built=True> False\n",
            "84 <Reshape name=block4a_se_reshape, built=True> False\n",
            "85 <Conv2D name=block4a_se_reduce, built=True> False\n",
            "86 <Conv2D name=block4a_se_expand, built=True> False\n",
            "87 <Multiply name=block4a_se_excite, built=True> False\n",
            "88 <Conv2D name=block4a_project_conv, built=True> False\n",
            "89 <BatchNormalization name=block4a_project_bn, built=True> False\n",
            "90 <Conv2D name=block4b_expand_conv, built=True> False\n",
            "91 <BatchNormalization name=block4b_expand_bn, built=True> False\n",
            "92 <Activation name=block4b_expand_activation, built=True> False\n",
            "93 <DepthwiseConv2D name=block4b_dwconv, built=True> False\n",
            "94 <BatchNormalization name=block4b_bn, built=True> False\n",
            "95 <Activation name=block4b_activation, built=True> False\n",
            "96 <GlobalAveragePooling2D name=block4b_se_squeeze, built=True> False\n",
            "97 <Reshape name=block4b_se_reshape, built=True> False\n",
            "98 <Conv2D name=block4b_se_reduce, built=True> False\n",
            "99 <Conv2D name=block4b_se_expand, built=True> False\n",
            "100 <Multiply name=block4b_se_excite, built=True> False\n",
            "101 <Conv2D name=block4b_project_conv, built=True> False\n",
            "102 <BatchNormalization name=block4b_project_bn, built=True> False\n",
            "103 <Dropout name=block4b_drop, built=True> False\n",
            "104 <Add name=block4b_add, built=True> False\n",
            "105 <Conv2D name=block4c_expand_conv, built=True> False\n",
            "106 <BatchNormalization name=block4c_expand_bn, built=True> False\n",
            "107 <Activation name=block4c_expand_activation, built=True> False\n",
            "108 <DepthwiseConv2D name=block4c_dwconv, built=True> False\n",
            "109 <BatchNormalization name=block4c_bn, built=True> False\n",
            "110 <Activation name=block4c_activation, built=True> False\n",
            "111 <GlobalAveragePooling2D name=block4c_se_squeeze, built=True> False\n",
            "112 <Reshape name=block4c_se_reshape, built=True> False\n",
            "113 <Conv2D name=block4c_se_reduce, built=True> False\n",
            "114 <Conv2D name=block4c_se_expand, built=True> False\n",
            "115 <Multiply name=block4c_se_excite, built=True> False\n",
            "116 <Conv2D name=block4c_project_conv, built=True> False\n",
            "117 <BatchNormalization name=block4c_project_bn, built=True> False\n",
            "118 <Dropout name=block4c_drop, built=True> False\n",
            "119 <Add name=block4c_add, built=True> False\n",
            "120 <Conv2D name=block5a_expand_conv, built=True> False\n",
            "121 <BatchNormalization name=block5a_expand_bn, built=True> False\n",
            "122 <Activation name=block5a_expand_activation, built=True> False\n",
            "123 <DepthwiseConv2D name=block5a_dwconv, built=True> False\n",
            "124 <BatchNormalization name=block5a_bn, built=True> False\n",
            "125 <Activation name=block5a_activation, built=True> False\n",
            "126 <GlobalAveragePooling2D name=block5a_se_squeeze, built=True> False\n",
            "127 <Reshape name=block5a_se_reshape, built=True> False\n",
            "128 <Conv2D name=block5a_se_reduce, built=True> False\n",
            "129 <Conv2D name=block5a_se_expand, built=True> False\n",
            "130 <Multiply name=block5a_se_excite, built=True> False\n",
            "131 <Conv2D name=block5a_project_conv, built=True> False\n",
            "132 <BatchNormalization name=block5a_project_bn, built=True> False\n",
            "133 <Conv2D name=block5b_expand_conv, built=True> False\n",
            "134 <BatchNormalization name=block5b_expand_bn, built=True> False\n",
            "135 <Activation name=block5b_expand_activation, built=True> False\n",
            "136 <DepthwiseConv2D name=block5b_dwconv, built=True> False\n",
            "137 <BatchNormalization name=block5b_bn, built=True> False\n",
            "138 <Activation name=block5b_activation, built=True> False\n",
            "139 <GlobalAveragePooling2D name=block5b_se_squeeze, built=True> False\n",
            "140 <Reshape name=block5b_se_reshape, built=True> False\n",
            "141 <Conv2D name=block5b_se_reduce, built=True> False\n",
            "142 <Conv2D name=block5b_se_expand, built=True> False\n",
            "143 <Multiply name=block5b_se_excite, built=True> False\n",
            "144 <Conv2D name=block5b_project_conv, built=True> False\n",
            "145 <BatchNormalization name=block5b_project_bn, built=True> False\n",
            "146 <Dropout name=block5b_drop, built=True> False\n",
            "147 <Add name=block5b_add, built=True> False\n",
            "148 <Conv2D name=block5c_expand_conv, built=True> False\n",
            "149 <BatchNormalization name=block5c_expand_bn, built=True> False\n",
            "150 <Activation name=block5c_expand_activation, built=True> False\n",
            "151 <DepthwiseConv2D name=block5c_dwconv, built=True> False\n",
            "152 <BatchNormalization name=block5c_bn, built=True> False\n",
            "153 <Activation name=block5c_activation, built=True> False\n",
            "154 <GlobalAveragePooling2D name=block5c_se_squeeze, built=True> False\n",
            "155 <Reshape name=block5c_se_reshape, built=True> False\n",
            "156 <Conv2D name=block5c_se_reduce, built=True> False\n",
            "157 <Conv2D name=block5c_se_expand, built=True> False\n",
            "158 <Multiply name=block5c_se_excite, built=True> False\n",
            "159 <Conv2D name=block5c_project_conv, built=True> False\n",
            "160 <BatchNormalization name=block5c_project_bn, built=True> False\n",
            "161 <Dropout name=block5c_drop, built=True> False\n",
            "162 <Add name=block5c_add, built=True> False\n",
            "163 <Conv2D name=block6a_expand_conv, built=True> False\n",
            "164 <BatchNormalization name=block6a_expand_bn, built=True> False\n",
            "165 <Activation name=block6a_expand_activation, built=True> False\n",
            "166 <ZeroPadding2D name=block6a_dwconv_pad, built=True> False\n",
            "167 <DepthwiseConv2D name=block6a_dwconv, built=True> False\n",
            "168 <BatchNormalization name=block6a_bn, built=True> False\n",
            "169 <Activation name=block6a_activation, built=True> False\n",
            "170 <GlobalAveragePooling2D name=block6a_se_squeeze, built=True> False\n",
            "171 <Reshape name=block6a_se_reshape, built=True> False\n",
            "172 <Conv2D name=block6a_se_reduce, built=True> False\n",
            "173 <Conv2D name=block6a_se_expand, built=True> False\n",
            "174 <Multiply name=block6a_se_excite, built=True> False\n",
            "175 <Conv2D name=block6a_project_conv, built=True> False\n",
            "176 <BatchNormalization name=block6a_project_bn, built=True> False\n",
            "177 <Conv2D name=block6b_expand_conv, built=True> False\n",
            "178 <BatchNormalization name=block6b_expand_bn, built=True> False\n",
            "179 <Activation name=block6b_expand_activation, built=True> False\n",
            "180 <DepthwiseConv2D name=block6b_dwconv, built=True> False\n",
            "181 <BatchNormalization name=block6b_bn, built=True> False\n",
            "182 <Activation name=block6b_activation, built=True> False\n",
            "183 <GlobalAveragePooling2D name=block6b_se_squeeze, built=True> False\n",
            "184 <Reshape name=block6b_se_reshape, built=True> False\n",
            "185 <Conv2D name=block6b_se_reduce, built=True> False\n",
            "186 <Conv2D name=block6b_se_expand, built=True> False\n",
            "187 <Multiply name=block6b_se_excite, built=True> False\n",
            "188 <Conv2D name=block6b_project_conv, built=True> False\n",
            "189 <BatchNormalization name=block6b_project_bn, built=True> False\n",
            "190 <Dropout name=block6b_drop, built=True> False\n",
            "191 <Add name=block6b_add, built=True> False\n",
            "192 <Conv2D name=block6c_expand_conv, built=True> False\n",
            "193 <BatchNormalization name=block6c_expand_bn, built=True> False\n",
            "194 <Activation name=block6c_expand_activation, built=True> False\n",
            "195 <DepthwiseConv2D name=block6c_dwconv, built=True> False\n",
            "196 <BatchNormalization name=block6c_bn, built=True> False\n",
            "197 <Activation name=block6c_activation, built=True> False\n",
            "198 <GlobalAveragePooling2D name=block6c_se_squeeze, built=True> False\n",
            "199 <Reshape name=block6c_se_reshape, built=True> False\n",
            "200 <Conv2D name=block6c_se_reduce, built=True> False\n",
            "201 <Conv2D name=block6c_se_expand, built=True> False\n",
            "202 <Multiply name=block6c_se_excite, built=True> False\n",
            "203 <Conv2D name=block6c_project_conv, built=True> False\n",
            "204 <BatchNormalization name=block6c_project_bn, built=True> False\n",
            "205 <Dropout name=block6c_drop, built=True> False\n",
            "206 <Add name=block6c_add, built=True> False\n",
            "207 <Conv2D name=block6d_expand_conv, built=True> False\n",
            "208 <BatchNormalization name=block6d_expand_bn, built=True> True\n",
            "209 <Activation name=block6d_expand_activation, built=True> True\n",
            "210 <DepthwiseConv2D name=block6d_dwconv, built=True> True\n",
            "211 <BatchNormalization name=block6d_bn, built=True> True\n",
            "212 <Activation name=block6d_activation, built=True> True\n",
            "213 <GlobalAveragePooling2D name=block6d_se_squeeze, built=True> True\n",
            "214 <Reshape name=block6d_se_reshape, built=True> True\n",
            "215 <Conv2D name=block6d_se_reduce, built=True> True\n",
            "216 <Conv2D name=block6d_se_expand, built=True> True\n",
            "217 <Multiply name=block6d_se_excite, built=True> True\n",
            "218 <Conv2D name=block6d_project_conv, built=True> True\n",
            "219 <BatchNormalization name=block6d_project_bn, built=True> True\n",
            "220 <Dropout name=block6d_drop, built=True> True\n",
            "221 <Add name=block6d_add, built=True> True\n",
            "222 <Conv2D name=block7a_expand_conv, built=True> True\n",
            "223 <BatchNormalization name=block7a_expand_bn, built=True> True\n",
            "224 <Activation name=block7a_expand_activation, built=True> True\n",
            "225 <DepthwiseConv2D name=block7a_dwconv, built=True> True\n",
            "226 <BatchNormalization name=block7a_bn, built=True> True\n",
            "227 <Activation name=block7a_activation, built=True> True\n",
            "228 <GlobalAveragePooling2D name=block7a_se_squeeze, built=True> True\n",
            "229 <Reshape name=block7a_se_reshape, built=True> True\n",
            "230 <Conv2D name=block7a_se_reduce, built=True> True\n",
            "231 <Conv2D name=block7a_se_expand, built=True> True\n",
            "232 <Multiply name=block7a_se_excite, built=True> True\n",
            "233 <Conv2D name=block7a_project_conv, built=True> True\n",
            "234 <BatchNormalization name=block7a_project_bn, built=True> True\n",
            "235 <Conv2D name=top_conv, built=True> True\n",
            "236 <BatchNormalization name=top_bn, built=True> True\n",
            "237 <Activation name=top_activation, built=True> True\n"
          ]
        }
      ]
    },
    {
      "cell_type": "code",
      "source": [
        "hist_2 = model_1.fit(train_data,\n",
        "                     epochs = 15,\n",
        "                     validation_data = test_data,\n",
        "                     initial_epoch = 5)"
      ],
      "metadata": {
        "colab": {
          "base_uri": "https://localhost:8080/"
        },
        "id": "j3WFx5UJEiPP",
        "outputId": "919f16c5-ce04-4de3-db8d-7d12df6df2a2"
      },
      "execution_count": 47,
      "outputs": [
        {
          "output_type": "stream",
          "name": "stdout",
          "text": [
            "Epoch 6/15\n",
            "\u001b[1m24/24\u001b[0m \u001b[32m━━━━━━━━━━━━━━━━━━━━\u001b[0m\u001b[37m\u001b[0m \u001b[1m67s\u001b[0m 2s/step - accuracy: 0.8000 - loss: 0.8018 - val_accuracy: 0.8224 - val_loss: 0.5577\n",
            "Epoch 7/15\n",
            "\u001b[1m24/24\u001b[0m \u001b[32m━━━━━━━━━━━━━━━━━━━━\u001b[0m\u001b[37m\u001b[0m \u001b[1m35s\u001b[0m 327ms/step - accuracy: 0.9608 - loss: 0.1741 - val_accuracy: 0.8384 - val_loss: 0.5841\n",
            "Epoch 8/15\n",
            "\u001b[1m24/24\u001b[0m \u001b[32m━━━━━━━━━━━━━━━━━━━━\u001b[0m\u001b[37m\u001b[0m \u001b[1m12s\u001b[0m 534ms/step - accuracy: 0.9883 - loss: 0.0526 - val_accuracy: 0.8716 - val_loss: 0.4351\n",
            "Epoch 9/15\n",
            "\u001b[1m24/24\u001b[0m \u001b[32m━━━━━━━━━━━━━━━━━━━━\u001b[0m\u001b[37m\u001b[0m \u001b[1m15s\u001b[0m 276ms/step - accuracy: 0.9930 - loss: 0.0300 - val_accuracy: 0.8772 - val_loss: 0.4017\n",
            "Epoch 10/15\n",
            "\u001b[1m24/24\u001b[0m \u001b[32m━━━━━━━━━━━━━━━━━━━━\u001b[0m\u001b[37m\u001b[0m \u001b[1m8s\u001b[0m 323ms/step - accuracy: 0.9992 - loss: 0.0225 - val_accuracy: 0.8832 - val_loss: 0.3764\n",
            "Epoch 11/15\n",
            "\u001b[1m24/24\u001b[0m \u001b[32m━━━━━━━━━━━━━━━━━━━━\u001b[0m\u001b[37m\u001b[0m \u001b[1m10s\u001b[0m 326ms/step - accuracy: 0.9983 - loss: 0.0191 - val_accuracy: 0.8844 - val_loss: 0.3901\n",
            "Epoch 12/15\n",
            "\u001b[1m24/24\u001b[0m \u001b[32m━━━━━━━━━━━━━━━━━━━━\u001b[0m\u001b[37m\u001b[0m \u001b[1m9s\u001b[0m 284ms/step - accuracy: 0.9992 - loss: 0.0119 - val_accuracy: 0.8892 - val_loss: 0.3686\n",
            "Epoch 13/15\n",
            "\u001b[1m24/24\u001b[0m \u001b[32m━━━━━━━━━━━━━━━━━━━━\u001b[0m\u001b[37m\u001b[0m \u001b[1m7s\u001b[0m 304ms/step - accuracy: 0.9968 - loss: 0.0220 - val_accuracy: 0.8688 - val_loss: 0.4563\n",
            "Epoch 14/15\n",
            "\u001b[1m24/24\u001b[0m \u001b[32m━━━━━━━━━━━━━━━━━━━━\u001b[0m\u001b[37m\u001b[0m \u001b[1m7s\u001b[0m 283ms/step - accuracy: 0.9972 - loss: 0.0159 - val_accuracy: 0.8796 - val_loss: 0.3961\n",
            "Epoch 15/15\n",
            "\u001b[1m24/24\u001b[0m \u001b[32m━━━━━━━━━━━━━━━━━━━━\u001b[0m\u001b[37m\u001b[0m \u001b[1m7s\u001b[0m 300ms/step - accuracy: 0.9980 - loss: 0.0118 - val_accuracy: 0.8892 - val_loss: 0.3761\n"
          ]
        }
      ]
    }
  ]
}