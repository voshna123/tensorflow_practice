{
  "nbformat": 4,
  "nbformat_minor": 0,
  "metadata": {
    "colab": {
      "provenance": [],
      "gpuType": "T4",
      "include_colab_link": true
    },
    "kernelspec": {
      "name": "python3",
      "display_name": "Python 3"
    },
    "language_info": {
      "name": "python"
    },
    "accelerator": "GPU"
  },
  "cells": [
    {
      "cell_type": "markdown",
      "metadata": {
        "id": "view-in-github",
        "colab_type": "text"
      },
      "source": [
        "<a href=\"https://colab.research.google.com/github/voshna123/tensorflow_practice/blob/main/Practice7.ipynb\" target=\"_parent\"><img src=\"https://colab.research.google.com/assets/colab-badge.svg\" alt=\"Open In Colab\"/></a>"
      ]
    },
    {
      "cell_type": "markdown",
      "source": [
        "# imports"
      ],
      "metadata": {
        "id": "Hg-TVKZStlhP"
      }
    },
    {
      "cell_type": "code",
      "source": [
        "import tf_keras"
      ],
      "metadata": {
        "id": "ttHcBIHDF1fW"
      },
      "execution_count": 1,
      "outputs": []
    },
    {
      "cell_type": "code",
      "source": [
        "!pip install tensorflow_text\n",
        "import tensorflow_text as text  # Registers the ops.\n"
      ],
      "metadata": {
        "colab": {
          "base_uri": "https://localhost:8080/"
        },
        "id": "cOgNE1QYCPHw",
        "outputId": "ee88f9c8-90c6-43f3-acd5-6a55116d2f6f"
      },
      "execution_count": 2,
      "outputs": [
        {
          "output_type": "stream",
          "name": "stdout",
          "text": [
            "Requirement already satisfied: tensorflow_text in /usr/local/lib/python3.11/dist-packages (2.18.1)\n",
            "Requirement already satisfied: tensorflow<2.19,>=2.18.0 in /usr/local/lib/python3.11/dist-packages (from tensorflow_text) (2.18.0)\n",
            "Requirement already satisfied: absl-py>=1.0.0 in /usr/local/lib/python3.11/dist-packages (from tensorflow<2.19,>=2.18.0->tensorflow_text) (1.4.0)\n",
            "Requirement already satisfied: astunparse>=1.6.0 in /usr/local/lib/python3.11/dist-packages (from tensorflow<2.19,>=2.18.0->tensorflow_text) (1.6.3)\n",
            "Requirement already satisfied: flatbuffers>=24.3.25 in /usr/local/lib/python3.11/dist-packages (from tensorflow<2.19,>=2.18.0->tensorflow_text) (24.12.23)\n",
            "Requirement already satisfied: gast!=0.5.0,!=0.5.1,!=0.5.2,>=0.2.1 in /usr/local/lib/python3.11/dist-packages (from tensorflow<2.19,>=2.18.0->tensorflow_text) (0.6.0)\n",
            "Requirement already satisfied: google-pasta>=0.1.1 in /usr/local/lib/python3.11/dist-packages (from tensorflow<2.19,>=2.18.0->tensorflow_text) (0.2.0)\n",
            "Requirement already satisfied: libclang>=13.0.0 in /usr/local/lib/python3.11/dist-packages (from tensorflow<2.19,>=2.18.0->tensorflow_text) (18.1.1)\n",
            "Requirement already satisfied: opt-einsum>=2.3.2 in /usr/local/lib/python3.11/dist-packages (from tensorflow<2.19,>=2.18.0->tensorflow_text) (3.4.0)\n",
            "Requirement already satisfied: packaging in /usr/local/lib/python3.11/dist-packages (from tensorflow<2.19,>=2.18.0->tensorflow_text) (24.2)\n",
            "Requirement already satisfied: protobuf!=4.21.0,!=4.21.1,!=4.21.2,!=4.21.3,!=4.21.4,!=4.21.5,<6.0.0dev,>=3.20.3 in /usr/local/lib/python3.11/dist-packages (from tensorflow<2.19,>=2.18.0->tensorflow_text) (4.25.5)\n",
            "Requirement already satisfied: requests<3,>=2.21.0 in /usr/local/lib/python3.11/dist-packages (from tensorflow<2.19,>=2.18.0->tensorflow_text) (2.32.3)\n",
            "Requirement already satisfied: setuptools in /usr/local/lib/python3.11/dist-packages (from tensorflow<2.19,>=2.18.0->tensorflow_text) (75.1.0)\n",
            "Requirement already satisfied: six>=1.12.0 in /usr/local/lib/python3.11/dist-packages (from tensorflow<2.19,>=2.18.0->tensorflow_text) (1.17.0)\n",
            "Requirement already satisfied: termcolor>=1.1.0 in /usr/local/lib/python3.11/dist-packages (from tensorflow<2.19,>=2.18.0->tensorflow_text) (2.5.0)\n",
            "Requirement already satisfied: typing-extensions>=3.6.6 in /usr/local/lib/python3.11/dist-packages (from tensorflow<2.19,>=2.18.0->tensorflow_text) (4.12.2)\n",
            "Requirement already satisfied: wrapt>=1.11.0 in /usr/local/lib/python3.11/dist-packages (from tensorflow<2.19,>=2.18.0->tensorflow_text) (1.17.0)\n",
            "Requirement already satisfied: grpcio<2.0,>=1.24.3 in /usr/local/lib/python3.11/dist-packages (from tensorflow<2.19,>=2.18.0->tensorflow_text) (1.69.0)\n",
            "Requirement already satisfied: tensorboard<2.19,>=2.18 in /usr/local/lib/python3.11/dist-packages (from tensorflow<2.19,>=2.18.0->tensorflow_text) (2.18.0)\n",
            "Requirement already satisfied: keras>=3.5.0 in /usr/local/lib/python3.11/dist-packages (from tensorflow<2.19,>=2.18.0->tensorflow_text) (3.5.0)\n",
            "Requirement already satisfied: numpy<2.1.0,>=1.26.0 in /usr/local/lib/python3.11/dist-packages (from tensorflow<2.19,>=2.18.0->tensorflow_text) (1.26.4)\n",
            "Requirement already satisfied: h5py>=3.11.0 in /usr/local/lib/python3.11/dist-packages (from tensorflow<2.19,>=2.18.0->tensorflow_text) (3.12.1)\n",
            "Requirement already satisfied: ml-dtypes<0.5.0,>=0.4.0 in /usr/local/lib/python3.11/dist-packages (from tensorflow<2.19,>=2.18.0->tensorflow_text) (0.4.1)\n",
            "Requirement already satisfied: tensorflow-io-gcs-filesystem>=0.23.1 in /usr/local/lib/python3.11/dist-packages (from tensorflow<2.19,>=2.18.0->tensorflow_text) (0.37.1)\n",
            "Requirement already satisfied: wheel<1.0,>=0.23.0 in /usr/local/lib/python3.11/dist-packages (from astunparse>=1.6.0->tensorflow<2.19,>=2.18.0->tensorflow_text) (0.45.1)\n",
            "Requirement already satisfied: rich in /usr/local/lib/python3.11/dist-packages (from keras>=3.5.0->tensorflow<2.19,>=2.18.0->tensorflow_text) (13.9.4)\n",
            "Requirement already satisfied: namex in /usr/local/lib/python3.11/dist-packages (from keras>=3.5.0->tensorflow<2.19,>=2.18.0->tensorflow_text) (0.0.8)\n",
            "Requirement already satisfied: optree in /usr/local/lib/python3.11/dist-packages (from keras>=3.5.0->tensorflow<2.19,>=2.18.0->tensorflow_text) (0.13.1)\n",
            "Requirement already satisfied: charset-normalizer<4,>=2 in /usr/local/lib/python3.11/dist-packages (from requests<3,>=2.21.0->tensorflow<2.19,>=2.18.0->tensorflow_text) (3.4.1)\n",
            "Requirement already satisfied: idna<4,>=2.5 in /usr/local/lib/python3.11/dist-packages (from requests<3,>=2.21.0->tensorflow<2.19,>=2.18.0->tensorflow_text) (3.10)\n",
            "Requirement already satisfied: urllib3<3,>=1.21.1 in /usr/local/lib/python3.11/dist-packages (from requests<3,>=2.21.0->tensorflow<2.19,>=2.18.0->tensorflow_text) (2.3.0)\n",
            "Requirement already satisfied: certifi>=2017.4.17 in /usr/local/lib/python3.11/dist-packages (from requests<3,>=2.21.0->tensorflow<2.19,>=2.18.0->tensorflow_text) (2024.12.14)\n",
            "Requirement already satisfied: markdown>=2.6.8 in /usr/local/lib/python3.11/dist-packages (from tensorboard<2.19,>=2.18->tensorflow<2.19,>=2.18.0->tensorflow_text) (3.7)\n",
            "Requirement already satisfied: tensorboard-data-server<0.8.0,>=0.7.0 in /usr/local/lib/python3.11/dist-packages (from tensorboard<2.19,>=2.18->tensorflow<2.19,>=2.18.0->tensorflow_text) (0.7.2)\n",
            "Requirement already satisfied: werkzeug>=1.0.1 in /usr/local/lib/python3.11/dist-packages (from tensorboard<2.19,>=2.18->tensorflow<2.19,>=2.18.0->tensorflow_text) (3.1.3)\n",
            "Requirement already satisfied: MarkupSafe>=2.1.1 in /usr/local/lib/python3.11/dist-packages (from werkzeug>=1.0.1->tensorboard<2.19,>=2.18->tensorflow<2.19,>=2.18.0->tensorflow_text) (3.0.2)\n",
            "Requirement already satisfied: markdown-it-py>=2.2.0 in /usr/local/lib/python3.11/dist-packages (from rich->keras>=3.5.0->tensorflow<2.19,>=2.18.0->tensorflow_text) (3.0.0)\n",
            "Requirement already satisfied: pygments<3.0.0,>=2.13.0 in /usr/local/lib/python3.11/dist-packages (from rich->keras>=3.5.0->tensorflow<2.19,>=2.18.0->tensorflow_text) (2.18.0)\n",
            "Requirement already satisfied: mdurl~=0.1 in /usr/local/lib/python3.11/dist-packages (from markdown-it-py>=2.2.0->rich->keras>=3.5.0->tensorflow<2.19,>=2.18.0->tensorflow_text) (0.1.2)\n"
          ]
        }
      ]
    },
    {
      "cell_type": "code",
      "source": [
        "import tensorflow as tf\n",
        "import pandas as pd"
      ],
      "metadata": {
        "id": "tDUfkT0DqcYj"
      },
      "execution_count": 3,
      "outputs": []
    },
    {
      "cell_type": "code",
      "execution_count": 4,
      "metadata": {
        "colab": {
          "base_uri": "https://localhost:8080/"
        },
        "id": "zSmBtJkpws5v",
        "outputId": "76029772-d3b0-47e4-9a3c-f803563c1511"
      },
      "outputs": [
        {
          "output_type": "stream",
          "name": "stdout",
          "text": [
            "Cloning into 'pubmed-rct'...\n",
            "remote: Enumerating objects: 39, done.\u001b[K\n",
            "remote: Counting objects: 100% (14/14), done.\u001b[K\n",
            "remote: Compressing objects: 100% (9/9), done.\u001b[K\n",
            "remote: Total 39 (delta 8), reused 5 (delta 5), pack-reused 25 (from 1)\u001b[K\n",
            "Receiving objects: 100% (39/39), 177.08 MiB | 27.19 MiB/s, done.\n",
            "Resolving deltas: 100% (15/15), done.\n"
          ]
        }
      ],
      "source": [
        "!git clone https://github.com/Franck-Dernoncourt/pubmed-rct"
      ]
    },
    {
      "cell_type": "code",
      "execution_count": 5,
      "metadata": {
        "colab": {
          "base_uri": "https://localhost:8080/"
        },
        "id": "e5hzLLJ0z6Gb",
        "outputId": "49c2c9d4-6acd-43a0-843d-2743dbacb274"
      },
      "outputs": [
        {
          "output_type": "stream",
          "name": "stdout",
          "text": [
            "--2025-01-19 02:18:19--  https://raw.githubusercontent.com/mrdbourke/tensorflow-deep-learning/refs/heads/main/extras/helper_functions.py\n",
            "Resolving raw.githubusercontent.com (raw.githubusercontent.com)... 185.199.109.133, 185.199.108.133, 185.199.111.133, ...\n",
            "Connecting to raw.githubusercontent.com (raw.githubusercontent.com)|185.199.109.133|:443... connected.\n",
            "HTTP request sent, awaiting response... 200 OK\n",
            "Length: 10246 (10K) [text/plain]\n",
            "Saving to: ‘helper_functions.py’\n",
            "\n",
            "\rhelper_functions.py   0%[                    ]       0  --.-KB/s               \rhelper_functions.py 100%[===================>]  10.01K  --.-KB/s    in 0s      \n",
            "\n",
            "2025-01-19 02:18:20 (119 MB/s) - ‘helper_functions.py’ saved [10246/10246]\n",
            "\n"
          ]
        }
      ],
      "source": [
        "!wget https://raw.githubusercontent.com/mrdbourke/tensorflow-deep-learning/refs/heads/main/extras/helper_functions.py"
      ]
    },
    {
      "cell_type": "code",
      "source": [
        "from helper_functions import calculate_results,create_tensorboard_callback"
      ],
      "metadata": {
        "id": "vQTbQs5BqsRq"
      },
      "execution_count": 6,
      "outputs": []
    },
    {
      "cell_type": "code",
      "execution_count": 7,
      "metadata": {
        "id": "nVDllHnU1YuE"
      },
      "outputs": [],
      "source": [
        "data_dir = \"/content/pubmed-rct/PubMed_20k_RCT_numbers_replaced_with_at_sign\""
      ]
    },
    {
      "cell_type": "code",
      "execution_count": 8,
      "metadata": {
        "colab": {
          "base_uri": "https://localhost:8080/"
        },
        "id": "E6Sf1bOg1Jpd",
        "outputId": "4a29bb13-23ec-4794-bc47-c67ef67e00dd"
      },
      "outputs": [
        {
          "output_type": "execute_result",
          "data": {
            "text/plain": [
              "['/content/pubmed-rct/PubMed_20k_RCT_numbers_replaced_with_at_sign/dev.txt',\n",
              " '/content/pubmed-rct/PubMed_20k_RCT_numbers_replaced_with_at_sign/test.txt',\n",
              " '/content/pubmed-rct/PubMed_20k_RCT_numbers_replaced_with_at_sign/train.txt']"
            ]
          },
          "metadata": {},
          "execution_count": 8
        }
      ],
      "source": [
        "import os\n",
        "\n",
        "filenames = [data_dir + \"/\"+filename for filename in os.listdir(data_dir)]\n",
        "filenames"
      ]
    },
    {
      "cell_type": "markdown",
      "source": [
        "#Preprocess Data"
      ],
      "metadata": {
        "id": "Gr8gP6WQt0fL"
      }
    },
    {
      "cell_type": "code",
      "execution_count": 9,
      "metadata": {
        "id": "UcwGQJzu1fQE"
      },
      "outputs": [],
      "source": [
        "def get_lines(filename):\n",
        "  \"\"\"\n",
        "  Reads filename and return the lines of text as a list\n",
        "\n",
        "  Args:\n",
        "  filename\n",
        "\n",
        "  Returns:\n",
        "  List of lines\n",
        "  \"\"\"\n",
        "\n",
        "  with open(filename, \"r\") as f:\n",
        "    return f.read().splitlines()"
      ]
    },
    {
      "cell_type": "code",
      "execution_count": 10,
      "metadata": {
        "colab": {
          "base_uri": "https://localhost:8080/"
        },
        "id": "WhLm-s5A139Y",
        "outputId": "4ac6aad5-1637-4f4b-d36b-3c372e827e67"
      },
      "outputs": [
        {
          "output_type": "execute_result",
          "data": {
            "text/plain": [
              "['###24845963',\n",
              " 'BACKGROUND\\tThis study analyzed liver function abnormalities in heart failure patients admitted with severe acute decompensated heart failure ( ADHF ) .',\n",
              " 'RESULTS\\tA post hoc analysis was conducted with the use of data from the Evaluation Study of Congestive Heart Failure and Pulmonary Artery Catheterization Effectiveness ( ESCAPE ) .',\n",
              " 'RESULTS\\tLiver function tests ( LFTs ) were measured at @ time points from baseline , at discharge , and up to @ months follow-up .',\n",
              " 'RESULTS\\tSurvival analyses were used to assess the association between admission Model of End-Stage Liver Disease Excluding International Normalized Ratio ( MELD-XI ) scores and patient outcome.There was a high prevalence of abnormal baseline ( admission ) LFTs ( albumin @ % , aspartate transaminase @ % , alanine transaminase @ % , and total bilirubin @ % ) .',\n",
              " \"RESULTS\\tThe percentage of patients with abnormal LFTs decreased significantly from baseline to @-months ' follow-up .\",\n",
              " 'RESULTS\\tWhen mean hemodynamic profiles were compared in patients with abnormal versus normal LFTs , elevated total bilirubin was associated with a significantly lower cardiac index ( @ vs @ ; P < @ ) and higher central venous pressure ( @ vs @ ; P = @ ) .',\n",
              " 'RESULTS\\tMultivariable analyses revealed that patients with elevated MELD-XI scores ( @ ) had a @-fold ( hazard ratio@ @ , @ % confidence interval @-@ @ ) increased risk of death , rehospitalization , or transplantation after adjusting for baseline LFTs , age , sex , race , body mass index , diabetes , and systolic blood pressure .',\n",
              " 'CONCLUSIONS\\tAbnormal LFTs are common in the ADHF population and are a dynamic marker of an impaired hemodynamic state .',\n",
              " 'CONCLUSIONS\\tElevated MELD-XI scores are associated with poor outcomes among patients admitted with ADHF .']"
            ]
          },
          "metadata": {},
          "execution_count": 10
        }
      ],
      "source": [
        "train_lines = get_lines(filenames[1])\n",
        "train_lines[0:10]"
      ]
    },
    {
      "cell_type": "code",
      "source": [
        "val_lines = get_lines(filenames[2])"
      ],
      "metadata": {
        "colab": {
          "base_uri": "https://localhost:8080/",
          "height": 35
        },
        "id": "KlNvlve1aRPu",
        "outputId": "3a4c3150-0a5a-4aa5-9585-20a2d8b1b3ed"
      },
      "execution_count": 63,
      "outputs": [
        {
          "output_type": "execute_result",
          "data": {
            "text/plain": [
              "'RESULTS\\tNo association was found between socioeconomic status and changes in CVD risk factors , suggesting that treatment was equitable .'"
            ],
            "application/vnd.google.colaboratory.intrinsic+json": {
              "type": "string"
            }
          },
          "metadata": {},
          "execution_count": 63
        }
      ]
    },
    {
      "cell_type": "code",
      "source": [
        "val_lines[2003]"
      ],
      "metadata": {
        "colab": {
          "base_uri": "https://localhost:8080/",
          "height": 35
        },
        "id": "_QdJvQWsaiLa",
        "outputId": "27b246ff-8250-430a-bc9f-d36404a14066"
      },
      "execution_count": 76,
      "outputs": [
        {
          "output_type": "execute_result",
          "data": {
            "text/plain": [
              "''"
            ],
            "application/vnd.google.colaboratory.intrinsic+json": {
              "type": "string"
            }
          },
          "metadata": {},
          "execution_count": 76
        }
      ]
    },
    {
      "cell_type": "code",
      "source": [
        "train_lines[2012]"
      ],
      "metadata": {
        "colab": {
          "base_uri": "https://localhost:8080/",
          "height": 35
        },
        "id": "KOs7rnvaVOQC",
        "outputId": "160fce3c-db0d-4474-c7e8-ab7172e50646"
      },
      "execution_count": 25,
      "outputs": [
        {
          "output_type": "execute_result",
          "data": {
            "text/plain": [
              "'CONCLUSIONS\\tOne of these is explored in this article .'"
            ],
            "application/vnd.google.colaboratory.intrinsic+json": {
              "type": "string"
            }
          },
          "metadata": {},
          "execution_count": 25
        }
      ]
    },
    {
      "cell_type": "code",
      "execution_count": 77,
      "metadata": {
        "id": "0PHTEFHp2mKh"
      },
      "outputs": [],
      "source": [
        "from inspect import currentframe\n",
        "def preprocesses_line(filename, types):\n",
        "  \"\"\"\n",
        "  Returns list of dictionaries\n",
        "  \"\"\"\n",
        "\n",
        "  input_line = get_lines(filename)\n",
        "  text = []\n",
        "  category =[]\n",
        "  line_nums = []\n",
        "  max_lines =[]\n",
        "\n",
        "\n",
        "  curr_max= 0\n",
        "  num = 0\n",
        "  for line in input_line:\n",
        "\n",
        "\n",
        "    if not '###' in line:\n",
        "      if line == \"\":\n",
        "        for x in range(curr_max):\n",
        "          max_lines.append(curr_max)\n",
        "        continue\n",
        "      else:\n",
        "        curr_max += 1\n",
        "        line_nums.append(line_number)\n",
        "        line_number += 1\n",
        "        split = line.split(\"\\t\")\n",
        "        category.append(split[0])\n",
        "        text.append(split[1])\n",
        "        num += 1\n",
        "\n",
        "    else:\n",
        "\n",
        "      line_number =0\n",
        "      curr_max = 0\n",
        "      if types == 'test':\n",
        "          if num == 2005:\n",
        "            return {\"line_number\": line_nums, \"text\": text, \"category\": category, \"max\" :max_lines}\n",
        "      if types =='train':\n",
        "          if num == 2014:\n",
        "            return {\"line_number\": line_nums, \"text\": text, \"category\": category, \"max\" :max_lines}\n",
        "      if types == 'val':\n",
        "          if num == 2005:\n",
        "            return {\"line_number\": line_nums, \"text\": text, \"category\": category, \"max\" :max_lines}\n",
        "\n",
        "\n",
        ""
      ]
    },
    {
      "cell_type": "code",
      "source": [
        "len(preprocesses_line(filenames[0],'test')['line_number']),len(preprocesses_line(filenames[0],'test')['text']),len(preprocesses_line(filenames[0],'test')['category']),len(preprocesses_line(filenames[0],'test')['max'])"
      ],
      "metadata": {
        "colab": {
          "base_uri": "https://localhost:8080/"
        },
        "id": "HWJuVBhUXQy8",
        "outputId": "cd7045f6-3ee2-4753-c4e7-8b4c6c71031a"
      },
      "execution_count": 55,
      "outputs": [
        {
          "output_type": "execute_result",
          "data": {
            "text/plain": [
              "(2005, 2005, 2005, 2005)"
            ]
          },
          "metadata": {},
          "execution_count": 55
        }
      ]
    },
    {
      "cell_type": "code",
      "execution_count": 79,
      "metadata": {
        "id": "P_s_IAnd3efF"
      },
      "outputs": [],
      "source": [
        "import pandas as pd\n",
        "test_df = pd.DataFrame(preprocesses_line(filenames[0], 'test'))\n",
        "txt_dict_train = preprocesses_line(filenames[1], 'train')\n",
        "val_df = pd.DataFrame(preprocesses_line(filenames[2], 'val'))\n",
        "train_df = pd.DataFrame(txt_dict_train)"
      ]
    },
    {
      "cell_type": "code",
      "execution_count": 80,
      "metadata": {
        "colab": {
          "base_uri": "https://localhost:8080/",
          "height": 447
        },
        "id": "U2uRRzXO_3m9",
        "outputId": "a063d28c-81a7-4ba5-8072-93cc670e6735"
      },
      "outputs": [
        {
          "output_type": "execute_result",
          "data": {
            "text/plain": [
              "<Axes: ylabel='Frequency'>"
            ]
          },
          "metadata": {},
          "execution_count": 80
        },
        {
          "output_type": "display_data",
          "data": {
            "text/plain": [
              "<Figure size 640x480 with 1 Axes>"
            ],
            "image/png": "[encoded data removed]"
          },
          "metadata": {}
        }
      ],
      "source": [
        "train_df['max'].plot.hist()"
      ]
    },
    {
      "cell_type": "markdown",
      "source": [
        "## Getting list of sentences"
      ],
      "metadata": {
        "id": "XB3M5buWuDxo"
      }
    },
    {
      "cell_type": "code",
      "execution_count": 81,
      "metadata": {
        "id": "YP43wEbYAoRc"
      },
      "outputs": [],
      "source": [
        "train_sentences = train_df['text'].to_list()\n",
        "val_sentences = val_df['text'].to_list()\n",
        "test_sentences = test_df['text'].to_list()"
      ]
    },
    {
      "cell_type": "markdown",
      "source": [
        "## Encode Labels"
      ],
      "metadata": {
        "id": "5R81HqTouO1w"
      }
    },
    {
      "cell_type": "code",
      "execution_count": 82,
      "metadata": {
        "id": "Me4oFz4dBkSK"
      },
      "outputs": [],
      "source": [
        "import sklearn\n",
        "\n",
        "encoder = sklearn.preprocessing.OneHotEncoder()\n",
        "\n",
        "train_onelabels = encoder.fit_transform(train_df['category'].to_numpy().reshape(-1,1))\n",
        "train_onelabels = train_onelabels.toarray()\n",
        "test_onelabels = encoder.fit_transform(test_df['category'].to_numpy().reshape(-1,1))\n",
        "test_onelabels = test_onelabels.toarray()\n",
        "val_onelabels = encoder.fit_transform(val_df['category'].to_numpy().reshape(-1,1))\n",
        "val_onelabels = val_onelabels.toarray()"
      ]
    },
    {
      "cell_type": "code",
      "execution_count": 83,
      "metadata": {
        "colab": {
          "base_uri": "https://localhost:8080/"
        },
        "id": "5BXkNU5cBygo",
        "outputId": "dbc9dc20-f5dc-4fe6-f4fe-137afd4c7273"
      },
      "outputs": [
        {
          "output_type": "execute_result",
          "data": {
            "text/plain": [
              "(array([0, 4, 4, ..., 1, 1, 0]), 2014)"
            ]
          },
          "metadata": {},
          "execution_count": 83
        }
      ],
      "source": [
        "label_encoder = sklearn.preprocessing.LabelEncoder()\n",
        "train_labels = label_encoder.fit_transform(train_df['category'])\n",
        "test_labels = label_encoder.fit_transform(test_df['category'])\n",
        "val_labels = label_encoder.fit_transform(val_df['category'])\n",
        "train_labels, len(train_labels)\n"
      ]
    },
    {
      "cell_type": "code",
      "execution_count": 84,
      "metadata": {
        "colab": {
          "base_uri": "https://localhost:8080/"
        },
        "id": "cn4gLI57DCtm",
        "outputId": "c44ed886-7c34-4308-deb0-104e123d9f97"
      },
      "outputs": [
        {
          "output_type": "execute_result",
          "data": {
            "text/plain": [
              "array(['BACKGROUND', 'CONCLUSIONS', 'METHODS', 'OBJECTIVE', 'RESULTS'],\n",
              "      dtype=object)"
            ]
          },
          "metadata": {},
          "execution_count": 84
        }
      ],
      "source": [
        "class_names = label_encoder.classes_\n",
        "class_names"
      ]
    },
    {
      "cell_type": "markdown",
      "source": [
        "## Getting character level tokens"
      ],
      "metadata": {
        "id": "bid7W5YsvFx-"
      }
    },
    {
      "cell_type": "code",
      "execution_count": 85,
      "metadata": {
        "id": "ccAkgUf-NVEo"
      },
      "outputs": [],
      "source": [
        "def split_chars(text):\n",
        "  return \" \".join(list(text))"
      ]
    },
    {
      "cell_type": "code",
      "execution_count": 86,
      "metadata": {
        "colab": {
          "base_uri": "https://localhost:8080/"
        },
        "id": "lrEOPnpDN9Cu",
        "outputId": "38849c09-e1dd-47a0-bfd3-eba2e4410152"
      },
      "outputs": [
        {
          "output_type": "execute_result",
          "data": {
            "text/plain": [
              "['T h i s   s t u d y   a n a l y z e d   l i v e r   f u n c t i o n   a b n o r m a l i t i e s   i n   h e a r t   f a i l u r e   p a t i e n t s   a d m i t t e d   w i t h   s e v e r e   a c u t e   d e c o m p e n s a t e d   h e a r t   f a i l u r e   (   A D H F   )   .',\n",
              " 'A   p o s t   h o c   a n a l y s i s   w a s   c o n d u c t e d   w i t h   t h e   u s e   o f   d a t a   f r o m   t h e   E v a l u a t i o n   S t u d y   o f   C o n g e s t i v e   H e a r t   F a i l u r e   a n d   P u l m o n a r y   A r t e r y   C a t h e t e r i z a t i o n   E f f e c t i v e n e s s   (   E S C A P E   )   .',\n",
              " 'L i v e r   f u n c t i o n   t e s t s   (   L F T s   )   w e r e   m e a s u r e d   a t   @   t i m e   p o i n t s   f r o m   b a s e l i n e   ,   a t   d i s c h a r g e   ,   a n d   u p   t o   @   m o n t h s   f o l l o w - u p   .',\n",
              " 'S u r v i v a l   a n a l y s e s   w e r e   u s e d   t o   a s s e s s   t h e   a s s o c i a t i o n   b e t w e e n   a d m i s s i o n   M o d e l   o f   E n d - S t a g e   L i v e r   D i s e a s e   E x c l u d i n g   I n t e r n a t i o n a l   N o r m a l i z e d   R a t i o   (   M E L D - X I   )   s c o r e s   a n d   p a t i e n t   o u t c o m e . T h e r e   w a s   a   h i g h   p r e v a l e n c e   o f   a b n o r m a l   b a s e l i n e   (   a d m i s s i o n   )   L F T s   (   a l b u m i n   @   %   ,   a s p a r t a t e   t r a n s a m i n a s e   @   %   ,   a l a n i n e   t r a n s a m i n a s e   @   %   ,   a n d   t o t a l   b i l i r u b i n   @   %   )   .',\n",
              " \"T h e   p e r c e n t a g e   o f   p a t i e n t s   w i t h   a b n o r m a l   L F T s   d e c r e a s e d   s i g n i f i c a n t l y   f r o m   b a s e l i n e   t o   @ - m o n t h s   '   f o l l o w - u p   .\"]"
            ]
          },
          "metadata": {},
          "execution_count": 86
        }
      ],
      "source": [
        "train_chars = [split_chars(text) for text in train_sentences]\n",
        "test_chars = [split_chars(text) for text in test_sentences]\n",
        "val_chars = [split_chars(text) for text in val_sentences]\n",
        "train_chars[:5]"
      ]
    },
    {
      "cell_type": "markdown",
      "source": [
        "## create positional embeddings"
      ],
      "metadata": {
        "id": "pBBc4BXevfzX"
      }
    },
    {
      "cell_type": "code",
      "source": [
        "train_line_numbers_one_hot = tf.one_hot(train_df['line_number'].to_numpy(), depth = 15)\n",
        "val_line_numbers_one_hot = tf.one_hot(val_df['line_number'].to_numpy(), depth = 15)\n",
        "test_line_numbers_one_hot = tf.one_hot(test_df['line_number'].to_numpy(), depth = 15)\n",
        "train_line_numbers_one_hot.shape, train_line_numbers_one_hot[:10]"
      ],
      "metadata": {
        "colab": {
          "base_uri": "https://localhost:8080/"
        },
        "id": "sKZAulKL4OQZ",
        "outputId": "e4bfa3ca-42ed-42b8-cef3-76eb116fee0a"
      },
      "execution_count": 87,
      "outputs": [
        {
          "output_type": "execute_result",
          "data": {
            "text/plain": [
              "(TensorShape([2014, 15]),\n",
              " <tf.Tensor: shape=(10, 15), dtype=float32, numpy=\n",
              " array([[1., 0., 0., 0., 0., 0., 0., 0., 0., 0., 0., 0., 0., 0., 0.],\n",
              "        [0., 1., 0., 0., 0., 0., 0., 0., 0., 0., 0., 0., 0., 0., 0.],\n",
              "        [0., 0., 1., 0., 0., 0., 0., 0., 0., 0., 0., 0., 0., 0., 0.],\n",
              "        [0., 0., 0., 1., 0., 0., 0., 0., 0., 0., 0., 0., 0., 0., 0.],\n",
              "        [0., 0., 0., 0., 1., 0., 0., 0., 0., 0., 0., 0., 0., 0., 0.],\n",
              "        [0., 0., 0., 0., 0., 1., 0., 0., 0., 0., 0., 0., 0., 0., 0.],\n",
              "        [0., 0., 0., 0., 0., 0., 1., 0., 0., 0., 0., 0., 0., 0., 0.],\n",
              "        [0., 0., 0., 0., 0., 0., 0., 1., 0., 0., 0., 0., 0., 0., 0.],\n",
              "        [0., 0., 0., 0., 0., 0., 0., 0., 1., 0., 0., 0., 0., 0., 0.],\n",
              "        [1., 0., 0., 0., 0., 0., 0., 0., 0., 0., 0., 0., 0., 0., 0.]],\n",
              "       dtype=float32)>)"
            ]
          },
          "metadata": {},
          "execution_count": 87
        }
      ]
    },
    {
      "cell_type": "code",
      "source": [
        "import numpy as np\n",
        "\n",
        "np.percentile(train_df['max'], 98)"
      ],
      "metadata": {
        "colab": {
          "base_uri": "https://localhost:8080/"
        },
        "id": "Ei0VubVI7jle",
        "outputId": "f64922cd-8033-4d42-fb47-924eb6d46ade"
      },
      "execution_count": 88,
      "outputs": [
        {
          "output_type": "execute_result",
          "data": {
            "text/plain": [
              "20.0"
            ]
          },
          "metadata": {},
          "execution_count": 88
        }
      ]
    },
    {
      "cell_type": "code",
      "source": [
        "train_max_one_hot = tf.one_hot(train_df['max'].to_numpy(), depth = 20)\n",
        "val_max_one_hot = tf.one_hot(val_df['max'].to_numpy(), depth = 20)\n",
        "test_max_one_hot = tf.one_hot(test_df['max'].to_numpy(), depth = 20)"
      ],
      "metadata": {
        "id": "syfbKvDY7U8-"
      },
      "execution_count": 89,
      "outputs": []
    },
    {
      "cell_type": "code",
      "source": [
        "train_max_one_hot"
      ],
      "metadata": {
        "id": "Ql2HfNhqZC07",
        "outputId": "7a5a5bfd-fa22-4a52-e842-345fdd4c757c",
        "colab": {
          "base_uri": "https://localhost:8080/"
        }
      },
      "execution_count": 90,
      "outputs": [
        {
          "output_type": "execute_result",
          "data": {
            "text/plain": [
              "<tf.Tensor: shape=(2014, 20), dtype=float32, numpy=\n",
              "array([[0., 0., 0., ..., 0., 0., 0.],\n",
              "       [0., 0., 0., ..., 0., 0., 0.],\n",
              "       [0., 0., 0., ..., 0., 0., 0.],\n",
              "       ...,\n",
              "       [0., 0., 0., ..., 0., 0., 0.],\n",
              "       [0., 0., 0., ..., 0., 0., 0.],\n",
              "       [0., 0., 0., ..., 0., 0., 0.]], dtype=float32)>"
            ]
          },
          "metadata": {},
          "execution_count": 90
        }
      ]
    },
    {
      "cell_type": "markdown",
      "source": [
        "# Creating char model, line number and max_line model"
      ],
      "metadata": {
        "id": "oul75kvOvtOz"
      }
    },
    {
      "cell_type": "code",
      "source": [
        "txt_vectoriser = tf_keras.layers.TextVectorization(max_tokens = 6800,\n",
        "                                                   output_sequence_length = 55)\n",
        "\n",
        "txt_vectoriser.adapt(train_sentences)"
      ],
      "metadata": {
        "id": "Br2h2ujzXdab"
      },
      "execution_count": 91,
      "outputs": []
    },
    {
      "cell_type": "code",
      "source": [
        "embedding_layer = tf_keras.layers.Embedding(input_dim = txt_vectoriser.vocabulary_size(),\n",
        "                                            output_dim = 128,\n",
        "                                            embeddings_initializer = \"uniform\",\n",
        "                                            mask_zero = True)"
      ],
      "metadata": {
        "id": "nDjfKO1MXhKm"
      },
      "execution_count": 92,
      "outputs": []
    },
    {
      "cell_type": "code",
      "source": [
        "char_vectoriser = tf_keras.layers.TextVectorization(max_tokens = 60,\n",
        "                                                    output_sequence_length = 290,\n",
        "                                                    standardize =None)\n",
        "\n",
        "char_vectoriser.adapt(train_chars)"
      ],
      "metadata": {
        "id": "KUZV7PbkXmOm"
      },
      "execution_count": 93,
      "outputs": []
    },
    {
      "cell_type": "code",
      "source": [
        "embedding_layer_char = tf_keras.layers.Embedding(input_dim = 60,\n",
        "                                                 output_dim = 25,\n",
        "                                                 mask_zero = True)"
      ],
      "metadata": {
        "id": "Zx630wNNXpSA"
      },
      "execution_count": 94,
      "outputs": []
    },
    {
      "cell_type": "markdown",
      "source": [
        "# Creating datasets"
      ],
      "metadata": {
        "id": "uDB8TN4twFny"
      }
    },
    {
      "cell_type": "markdown",
      "source": [
        "# Using BERT"
      ],
      "metadata": {
        "id": "IfEFaUDZ1G5U"
      }
    },
    {
      "cell_type": "code",
      "source": [
        "import tensorflow_hub as hub\n",
        "Inputs= tf_keras.layers.Input(shape = (), dtype = tf.string)\n",
        "preprocess = hub.KerasLayer(\"https://tfhub.dev/tensorflow/bert_en_uncased_preprocess/3\")\n",
        "bert = hub.KerasLayer(\"https://tfhub.dev/tensorflow/small_bert/bert_en_uncased_L-10_H-128_A-2/2\", trainable = False)\n",
        "x  = preprocess(Inputs)\n",
        "x = bert(x)"
      ],
      "metadata": {
        "id": "f0nUOGEA1P1-"
      },
      "execution_count": 179,
      "outputs": []
    },
    {
      "cell_type": "code",
      "source": [
        "x"
      ],
      "metadata": {
        "colab": {
          "base_uri": "https://localhost:8080/"
        },
        "id": "B0dKi01fgZzr",
        "outputId": "503f47f4-84c0-40f5-c201-a4f34d8841bf"
      },
      "execution_count": 180,
      "outputs": [
        {
          "output_type": "execute_result",
          "data": {
            "text/plain": [
              "{'pooled_output': <KerasTensor: shape=(None, 128) dtype=float32 (created by layer 'keras_layer_11')>,\n",
              " 'sequence_output': <KerasTensor: shape=(None, 128, 128) dtype=float32 (created by layer 'keras_layer_11')>,\n",
              " 'encoder_outputs': [<KerasTensor: shape=(None, 128, 128) dtype=float32 (created by layer 'keras_layer_11')>,\n",
              "  <KerasTensor: shape=(None, 128, 128) dtype=float32 (created by layer 'keras_layer_11')>,\n",
              "  <KerasTensor: shape=(None, 128, 128) dtype=float32 (created by layer 'keras_layer_11')>,\n",
              "  <KerasTensor: shape=(None, 128, 128) dtype=float32 (created by layer 'keras_layer_11')>,\n",
              "  <KerasTensor: shape=(None, 128, 128) dtype=float32 (created by layer 'keras_layer_11')>,\n",
              "  <KerasTensor: shape=(None, 128, 128) dtype=float32 (created by layer 'keras_layer_11')>,\n",
              "  <KerasTensor: shape=(None, 128, 128) dtype=float32 (created by layer 'keras_layer_11')>,\n",
              "  <KerasTensor: shape=(None, 128, 128) dtype=float32 (created by layer 'keras_layer_11')>,\n",
              "  <KerasTensor: shape=(None, 128, 128) dtype=float32 (created by layer 'keras_layer_11')>,\n",
              "  <KerasTensor: shape=(None, 128, 128) dtype=float32 (created by layer 'keras_layer_11')>],\n",
              " 'default': <KerasTensor: shape=(None, 128) dtype=float32 (created by layer 'keras_layer_11')>}"
            ]
          },
          "metadata": {},
          "execution_count": 180
        }
      ]
    },
    {
      "cell_type": "code",
      "source": [
        "model = tf_keras.Model(Inputs,x)"
      ],
      "metadata": {
        "id": "AjDP379hfCPT"
      },
      "execution_count": 181,
      "outputs": []
    },
    {
      "cell_type": "code",
      "source": [
        "model.output['default'], char_model.output"
      ],
      "metadata": {
        "colab": {
          "base_uri": "https://localhost:8080/"
        },
        "id": "C_eSL3P6iIov",
        "outputId": "646fe8d9-4bb9-4097-8ad0-d9bd01f88a36"
      },
      "execution_count": 182,
      "outputs": [
        {
          "output_type": "execute_result",
          "data": {
            "text/plain": [
              "(<KerasTensor: shape=(None, 128) dtype=float32 (created by layer 'keras_layer_11')>,\n",
              " <KerasTensor: shape=(None, 32) dtype=float32 (created by layer 'bidirectional_3')>)"
            ]
          },
          "metadata": {},
          "execution_count": 182
        }
      ]
    },
    {
      "cell_type": "code",
      "source": [
        "train_token_char_dataset = tf.data.Dataset.from_tensor_slices((train_line_numbers_one_hot, train_max_one_hot, train_chars, train_sentences))\n",
        "train_token_char_labels = tf.data.Dataset.from_tensor_slices(train_onelabels)\n",
        "train_token_char_dataset = tf.data.Dataset.zip((train_token_char_dataset, train_token_char_labels))\n",
        "\n",
        "train_token_char_dataset = train_token_char_dataset.batch(16).prefetch(tf.data.AUTOTUNE)"
      ],
      "metadata": {
        "id": "pmZpWiHgcIyG"
      },
      "execution_count": 188,
      "outputs": []
    },
    {
      "cell_type": "code",
      "source": [
        "test_token_char_dataset = tf.data.Dataset.from_tensor_slices((test_line_numbers_one_hot,test_max_one_hot,test_sentences, test_chars))\n",
        "test_token_char_labels = tf.data.Dataset.from_tensor_slices(test_onelabels)\n",
        "test_token_char_dataset = tf.data.Dataset.zip((test_token_char_dataset, test_token_char_labels))\n",
        "\n",
        "test_token_char_dataset = test_token_char_dataset.batch(32).prefetch(tf.data.AUTOTUNE)"
      ],
      "metadata": {
        "id": "HODEqvJedE7F"
      },
      "execution_count": 189,
      "outputs": []
    },
    {
      "cell_type": "code",
      "source": [
        "val_token_char_dataset = tf.data.Dataset.from_tensor_slices((val_line_numbers_one_hot, val_max_one_hot, val_sentences, val_chars))\n",
        "val_token_char_labels = tf.data.Dataset.from_tensor_slices(val_onelabels)\n",
        "val_token_char_dataset = tf.data.Dataset.zip((val_token_char_dataset, val_token_char_labels))\n",
        "\n",
        "val_token_char_dataset = val_token_char_dataset.batch(32).prefetch(tf.data.AUTOTUNE)"
      ],
      "metadata": {
        "id": "GcYddEK3dmx9"
      },
      "execution_count": 190,
      "outputs": []
    },
    {
      "cell_type": "code",
      "source": [
        "print(tf.__version__)\n",
        "print(hub.__version__)"
      ],
      "metadata": {
        "colab": {
          "base_uri": "https://localhost:8080/"
        },
        "id": "eiESWXUmimFg",
        "outputId": "ea27c2aa-0a03-4c70-b4e1-b826a132b2b6"
      },
      "execution_count": 193,
      "outputs": [
        {
          "output_type": "stream",
          "name": "stdout",
          "text": [
            "2.18.0\n",
            "0.16.1\n"
          ]
        }
      ]
    },
    {
      "cell_type": "code",
      "source": [
        "def create_combined_model():\n",
        "    # Input layers\n",
        "    line_input = tf_keras.layers.Input(shape=(15,), dtype=tf.float32, name=\"line_number_inputs\")\n",
        "    max_input = tf_keras.layers.Input(shape=(20,), dtype=tf.float32, name=\"max_lines\")\n",
        "    char_input = tf_keras.layers.Input(shape=(1,), dtype=tf.string, name=\"char_input\")\n",
        "    text_input = tf_keras.layers.Input(shape=(), dtype=tf.string, name=\"text_input\")\n",
        "\n",
        "    # Process BERT\n",
        "    bert_preprocessed = preprocess(text_input)\n",
        "    bert_outputs = bert(bert_preprocessed)['default']\n",
        "\n",
        "    # Process char input\n",
        "    char_vec = char_vectoriser(char_input)\n",
        "    char_embed = embedding_layer_char(char_vec)\n",
        "    char_conv = tf_keras.layers.Conv1D(32, 3, activation='relu')(char_embed)\n",
        "    char_pool = tf_keras.layers.GlobalAveragePooling1D()(char_conv)\n",
        "\n",
        "\n",
        "    # Process line and max inputs\n",
        "    line_dense = tf_keras.layers.Dense(32, activation='relu')(line_input)\n",
        "    max_dense = tf_keras.layers.Dense(32, activation='relu')(max_input)\n",
        "\n",
        "    # Concatenate BERT and char outputs\n",
        "    token_char = tf_keras.layers.Concatenate(name=\"token_char_hybrid\")(\n",
        "        [bert_outputs, char_pool]\n",
        "    )\n",
        "\n",
        "    # Dense layer after first concatenation\n",
        "    combined_dense = tf_keras.layers.Dense(256, activation='relu')(token_char)\n",
        "    combined_dropout = tf_keras.layers.Dropout(0.5)(combined_dense)\n",
        "\n",
        "    # Final concatenation\n",
        "    final_concat = tf_keras.layers.Concatenate(name=\"everything_combined\")(\n",
        "        [combined_dropout, line_dense, max_dense]\n",
        "    )\n",
        "\n",
        "    # Output layer\n",
        "    outputs = tf_keras.layers.Dense(5, activation='softmax')(final_concat)\n",
        "\n",
        "    # Create model\n",
        "    model = tf_keras.Model(\n",
        "        inputs=[line_input, max_input, char_input, text_input],\n",
        "        outputs=outputs\n",
        "    )\n",
        "\n",
        "    return model"
      ],
      "metadata": {
        "id": "SePiZiTsi51l"
      },
      "execution_count": 216,
      "outputs": []
    },
    {
      "cell_type": "code",
      "source": [
        "# Create and compile the model\n",
        "combined_model = create_combined_model()\n",
        "combined_model.compile(\n",
        "    loss=tf_keras.losses.CategoricalCrossentropy(),\n",
        "    optimizer=tf_keras.optimizers.Adam(clipnorm=1.0),\n",
        "    metrics=['accuracy']\n",
        ")"
      ],
      "metadata": {
        "id": "YL_RcZm4j7r_"
      },
      "execution_count": 217,
      "outputs": []
    },
    {
      "cell_type": "code",
      "source": [
        "try:\n",
        "    combined_model.fit(\n",
        "        train_token_char_dataset,\n",
        "        epochs=1,\n",
        "        verbose=1\n",
        "    )\n",
        "except Exception as e:\n",
        "    print(\"Error occurred:\", e)"
      ],
      "metadata": {
        "colab": {
          "base_uri": "https://localhost:8080/"
        },
        "id": "o9CNSxh9j_HP",
        "outputId": "17158ef3-e108-4f2f-a754-6f94eec5f3ca"
      },
      "execution_count": 218,
      "outputs": [
        {
          "output_type": "stream",
          "name": "stdout",
          "text": [
            "Error occurred: Graph execution error:\n",
            "\n",
            "Detected at node model_27/conv1d_1/Conv1D defined at (most recent call last):\n",
            "  File \"<frozen runpy>\", line 198, in _run_module_as_main\n",
            "\n",
            "  File \"<frozen runpy>\", line 88, in _run_code\n",
            "\n",
            "  File \"/usr/local/lib/python3.11/dist-packages/colab_kernel_launcher.py\", line 37, in <module>\n",
            "\n",
            "  File \"/usr/local/lib/python3.11/dist-packages/traitlets/config/application.py\", line 992, in launch_instance\n",
            "\n",
            "  File \"/usr/local/lib/python3.11/dist-packages/ipykernel/kernelapp.py\", line 619, in start\n",
            "\n",
            "  File \"/usr/local/lib/python3.11/dist-packages/tornado/platform/asyncio.py\", line 195, in start\n",
            "\n",
            "  File \"/usr/lib/python3.11/asyncio/base_events.py\", line 608, in run_forever\n",
            "\n",
            "  File \"/usr/lib/python3.11/asyncio/base_events.py\", line 1936, in _run_once\n",
            "\n",
            "  File \"/usr/lib/python3.11/asyncio/events.py\", line 84, in _run\n",
            "\n",
            "  File \"/usr/local/lib/python3.11/dist-packages/tornado/ioloop.py\", line 685, in <lambda>\n",
            "\n",
            "  File \"/usr/local/lib/python3.11/dist-packages/tornado/ioloop.py\", line 738, in _run_callback\n",
            "\n",
            "  File \"/usr/local/lib/python3.11/dist-packages/tornado/gen.py\", line 825, in inner\n",
            "\n",
            "  File \"/usr/local/lib/python3.11/dist-packages/tornado/gen.py\", line 786, in run\n",
            "\n",
            "  File \"/usr/local/lib/python3.11/dist-packages/ipykernel/kernelbase.py\", line 361, in process_one\n",
            "\n",
            "  File \"/usr/local/lib/python3.11/dist-packages/tornado/gen.py\", line 234, in wrapper\n",
            "\n",
            "  File \"/usr/local/lib/python3.11/dist-packages/ipykernel/kernelbase.py\", line 261, in dispatch_shell\n",
            "\n",
            "  File \"/usr/local/lib/python3.11/dist-packages/tornado/gen.py\", line 234, in wrapper\n",
            "\n",
            "  File \"/usr/local/lib/python3.11/dist-packages/ipykernel/kernelbase.py\", line 539, in execute_request\n",
            "\n",
            "  File \"/usr/local/lib/python3.11/dist-packages/tornado/gen.py\", line 234, in wrapper\n",
            "\n",
            "  File \"/usr/local/lib/python3.11/dist-packages/ipykernel/ipkernel.py\", line 302, in do_execute\n",
            "\n",
            "  File \"/usr/local/lib/python3.11/dist-packages/ipykernel/zmqshell.py\", line 539, in run_cell\n",
            "\n",
            "  File \"/usr/local/lib/python3.11/dist-packages/IPython/core/interactiveshell.py\", line 2975, in run_cell\n",
            "\n",
            "  File \"/usr/local/lib/python3.11/dist-packages/IPython/core/interactiveshell.py\", line 3030, in _run_cell\n",
            "\n",
            "  File \"/usr/local/lib/python3.11/dist-packages/IPython/core/async_helpers.py\", line 78, in _pseudo_sync_runner\n",
            "\n",
            "  File \"/usr/local/lib/python3.11/dist-packages/IPython/core/interactiveshell.py\", line 3257, in run_cell_async\n",
            "\n",
            "  File \"/usr/local/lib/python3.11/dist-packages/IPython/core/interactiveshell.py\", line 3473, in run_ast_nodes\n",
            "\n",
            "  File \"/usr/local/lib/python3.11/dist-packages/IPython/core/interactiveshell.py\", line 3553, in run_code\n",
            "\n",
            "  File \"<ipython-input-218-f60a34ede54d>\", line 2, in <cell line: 0>\n",
            "\n",
            "  File \"/usr/local/lib/python3.11/dist-packages/tf_keras/src/utils/traceback_utils.py\", line 65, in error_handler\n",
            "\n",
            "  File \"/usr/local/lib/python3.11/dist-packages/tf_keras/src/engine/training.py\", line 1804, in fit\n",
            "\n",
            "  File \"/usr/local/lib/python3.11/dist-packages/tf_keras/src/engine/training.py\", line 1398, in train_function\n",
            "\n",
            "  File \"/usr/local/lib/python3.11/dist-packages/tf_keras/src/engine/training.py\", line 1381, in step_function\n",
            "\n",
            "  File \"/usr/local/lib/python3.11/dist-packages/tf_keras/src/engine/training.py\", line 1370, in run_step\n",
            "\n",
            "  File \"/usr/local/lib/python3.11/dist-packages/tf_keras/src/engine/training.py\", line 1147, in train_step\n",
            "\n",
            "  File \"/usr/local/lib/python3.11/dist-packages/tf_keras/src/utils/traceback_utils.py\", line 65, in error_handler\n",
            "\n",
            "  File \"/usr/local/lib/python3.11/dist-packages/tf_keras/src/engine/training.py\", line 588, in __call__\n",
            "\n",
            "  File \"/usr/local/lib/python3.11/dist-packages/tf_keras/src/utils/traceback_utils.py\", line 65, in error_handler\n",
            "\n",
            "  File \"/usr/local/lib/python3.11/dist-packages/tf_keras/src/engine/base_layer.py\", line 1136, in __call__\n",
            "\n",
            "  File \"/usr/local/lib/python3.11/dist-packages/tf_keras/src/utils/traceback_utils.py\", line 96, in error_handler\n",
            "\n",
            "  File \"/usr/local/lib/python3.11/dist-packages/tf_keras/src/engine/functional.py\", line 514, in call\n",
            "\n",
            "  File \"/usr/local/lib/python3.11/dist-packages/tf_keras/src/engine/functional.py\", line 671, in _run_internal_graph\n",
            "\n",
            "  File \"/usr/local/lib/python3.11/dist-packages/tf_keras/src/utils/traceback_utils.py\", line 65, in error_handler\n",
            "\n",
            "  File \"/usr/local/lib/python3.11/dist-packages/tf_keras/src/engine/base_layer.py\", line 1136, in __call__\n",
            "\n",
            "  File \"/usr/local/lib/python3.11/dist-packages/tf_keras/src/utils/traceback_utils.py\", line 96, in error_handler\n",
            "\n",
            "  File \"/usr/local/lib/python3.11/dist-packages/tf_keras/src/layers/convolutional/base_conv.py\", line 289, in call\n",
            "\n",
            "  File \"/usr/local/lib/python3.11/dist-packages/tf_keras/src/layers/convolutional/base_conv.py\", line 261, in convolution_op\n",
            "\n",
            "No DNN in stream executor.\n",
            "\t [[{{node model_27/conv1d_1/Conv1D}}]] [Op:__inference_train_function_500738]\n"
          ]
        }
      ]
    }
  ]
}