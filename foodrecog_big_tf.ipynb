{
  "nbformat": 4,
  "nbformat_minor": 0,
  "metadata": {
    "colab": {
      "provenance": [],
      "gpuType": "T4",
      "include_colab_link": true
    },
    "kernelspec": {
      "name": "python3",
      "display_name": "Python 3"
    },
    "language_info": {
      "name": "python"
    },
    "accelerator": "GPU"
  },
  "cells": [
    {
      "cell_type": "markdown",
      "metadata": {
        "id": "view-in-github",
        "colab_type": "text"
      },
      "source": [
        "<a href=\"https://colab.research.google.com/github/voshna123/tensorflow_practice/blob/main/foodrecog_big_tf.ipynb\" target=\"_parent\"><img src=\"https://colab.research.google.com/assets/colab-badge.svg\" alt=\"Open In Colab\"/></a>"
      ]
    },
    {
      "cell_type": "code",
      "execution_count": 1,
      "metadata": {
        "colab": {
          "base_uri": "https://localhost:8080/"
        },
        "id": "jl0F4G_8DLHT",
        "outputId": "66531fdb-6760-4f7c-b665-2154aaaffacf"
      },
      "outputs": [
        {
          "output_type": "stream",
          "name": "stdout",
          "text": [
            "--2025-01-10 02:22:14--  https://raw.githubusercontent.com/mrdbourke/tensorflow-deep-learning/refs/heads/main/extras/helper_functions.py\n",
            "Resolving raw.githubusercontent.com (raw.githubusercontent.com)... 185.199.108.133, 185.199.109.133, 185.199.110.133, ...\n",
            "Connecting to raw.githubusercontent.com (raw.githubusercontent.com)|185.199.108.133|:443... connected.\n",
            "HTTP request sent, awaiting response... 200 OK\n",
            "Length: 10246 (10K) [text/plain]\n",
            "Saving to: ‘helper_functions.py’\n",
            "\n",
            "helper_functions.py 100%[===================>]  10.01K  --.-KB/s    in 0s      \n",
            "\n",
            "2025-01-10 02:22:14 (97.6 MB/s) - ‘helper_functions.py’ saved [10246/10246]\n",
            "\n"
          ]
        }
      ],
      "source": [
        "!wget https://raw.githubusercontent.com/mrdbourke/tensorflow-deep-learning/refs/heads/main/extras/helper_functions.py"
      ]
    },
    {
      "cell_type": "code",
      "source": [
        "from helper_functions import create_tensorboard_callback, plot_loss_curves,compare_historys"
      ],
      "metadata": {
        "id": "VN_rUNzBF_Cl"
      },
      "execution_count": 2,
      "outputs": []
    },
    {
      "cell_type": "markdown",
      "source": [
        "## Loading 101Food Dataset"
      ],
      "metadata": {
        "id": "7qB2B_-ZGjoQ"
      }
    },
    {
      "cell_type": "code",
      "source": [
        "!wget http://data.vision.ee.ethz.ch/cvl/food-101.tar.gz"
      ],
      "metadata": {
        "id": "brbP0LUIyClS",
        "outputId": "5be718ed-aaad-4e75-dd03-2f5a10d99a67",
        "colab": {
          "base_uri": "https://localhost:8080/"
        }
      },
      "execution_count": 3,
      "outputs": [
        {
          "output_type": "stream",
          "name": "stdout",
          "text": [
            "--2025-01-10 02:22:22--  http://data.vision.ee.ethz.ch/cvl/food-101.tar.gz\n",
            "Resolving data.vision.ee.ethz.ch (data.vision.ee.ethz.ch)... 129.132.52.178, 2001:67c:10ec:36c2::178\n",
            "Connecting to data.vision.ee.ethz.ch (data.vision.ee.ethz.ch)|129.132.52.178|:80... connected.\n",
            "HTTP request sent, awaiting response... 302 Found\n",
            "Location: https://data.vision.ee.ethz.ch/cvl/food-101.tar.gz [following]\n",
            "--2025-01-10 02:22:23--  https://data.vision.ee.ethz.ch/cvl/food-101.tar.gz\n",
            "Connecting to data.vision.ee.ethz.ch (data.vision.ee.ethz.ch)|129.132.52.178|:443... connected.\n",
            "HTTP request sent, awaiting response... 200 OK\n",
            "Length: 4996278331 (4.7G) [application/x-gzip]\n",
            "Saving to: ‘food-101.tar.gz’\n",
            "\n",
            "food-101.tar.gz     100%[===================>]   4.65G  18.6MB/s    in 4m 9s   \n",
            "\n",
            "2025-01-10 02:26:32 (19.2 MB/s) - ‘food-101.tar.gz’ saved [4996278331/4996278331]\n",
            "\n"
          ]
        }
      ]
    },
    {
      "cell_type": "code",
      "source": [
        "# importing the \"tarfile\" module\n",
        "import tarfile\n",
        "\n",
        "# open file\n",
        "file = tarfile.open('/content/food-101.tar.gz')\n",
        "\n",
        "# extracting file\n",
        "file.extractall()\n",
        "\n",
        "file.close()"
      ],
      "metadata": {
        "id": "hYGkavwS0EGp"
      },
      "execution_count": 4,
      "outputs": []
    },
    {
      "cell_type": "markdown",
      "source": [
        "## plot the img"
      ],
      "metadata": {
        "id": "GVKyFyZ0Mkm_"
      }
    },
    {
      "cell_type": "code",
      "source": [
        "import os\n",
        "import shutil\n",
        "import random\n",
        "from pathlib import Path\n",
        "from typing import Dict\n",
        "\n",
        "def split_nested_folders(\n",
        "    source_folder: str,\n",
        "    train_folder: str,\n",
        "    test_folder: str,\n",
        "    split_ratio: float = 0.8,\n",
        "    random_seed: int = 42\n",
        ") -> Dict[str, Dict[str, int]]:\n",
        "    \"\"\"\n",
        "    Split a nested folder structure into training and test sets while preserving hierarchy.\n",
        "\n",
        "    Args:\n",
        "        source_folder: Path to the root folder containing nested folders\n",
        "        train_folder: Path where training files will be copied\n",
        "        test_folder: Path where test files will be copied\n",
        "        split_ratio: Proportion of files to use for training (default: 0.8)\n",
        "        random_seed: Random seed for reproducibility (default: 42)\n",
        "\n",
        "    Returns:\n",
        "        Dict containing statistics for each subfolder\n",
        "    \"\"\"\n",
        "    random.seed(random_seed)\n",
        "\n",
        "    # Convert to Path objects\n",
        "    source_path = Path(source_folder)\n",
        "    train_path = Path(train_folder)\n",
        "    test_path = Path(test_folder)\n",
        "\n",
        "    # Create output root directories\n",
        "    train_path.mkdir(parents=True, exist_ok=True)\n",
        "    test_path.mkdir(parents=True, exist_ok=True)\n",
        "\n",
        "    stats = {}\n",
        "\n",
        "    # Walk through all subdirectories\n",
        "    for root, dirs, files in os.walk(source_path):\n",
        "        if not files:\n",
        "            continue\n",
        "\n",
        "        # Get the relative path from source root\n",
        "        rel_path = Path(root).relative_to(source_path)\n",
        "\n",
        "        # Create corresponding directories in train and test\n",
        "        train_subdir = train_path / rel_path\n",
        "        test_subdir = test_path / rel_path\n",
        "\n",
        "        train_subdir.mkdir(parents=True, exist_ok=True)\n",
        "        test_subdir.mkdir(parents=True, exist_ok=True)\n",
        "\n",
        "        # Shuffle files\n",
        "        random.shuffle(files)\n",
        "\n",
        "        # Calculate split point\n",
        "        split_idx = int(len(files) * split_ratio)\n",
        "        train_files = files[:split_idx]\n",
        "        test_files = files[split_idx:]\n",
        "\n",
        "        # Copy files to respective directories\n",
        "        for file in train_files:\n",
        "            src_file = Path(root) / file\n",
        "            dst_file = train_subdir / file\n",
        "            shutil.copy2(src_file, dst_file)\n",
        "\n",
        "        for file in test_files:\n",
        "            src_file = Path(root) / file\n",
        "            dst_file = test_subdir / file\n",
        "            shutil.copy2(src_file, dst_file)\n",
        "\n",
        "        # Store statistics\n",
        "        stats[str(rel_path)] = {\n",
        "            'train': len(train_files),\n",
        "            'test': len(test_files),\n",
        "            'total': len(files)\n",
        "        }\n",
        "\n",
        "    # Calculate total statistics\n",
        "    total_stats = {\n",
        "        'train': sum(s['train'] for s in stats.values()),\n",
        "        'test': sum(s['test'] for s in stats.values()),\n",
        "        'total': sum(s['total'] for s in stats.values())\n",
        "    }\n",
        "    stats['total'] = total_stats\n",
        "\n",
        "    return stats"
      ],
      "metadata": {
        "id": "C3Kh5rgG0RLt"
      },
      "execution_count": 5,
      "outputs": []
    },
    {
      "cell_type": "code",
      "source": [
        "stats = split_nested_folders(\"food-101/images\",\n",
        "                                     \"train\",\n",
        "                                     \"test\")"
      ],
      "metadata": {
        "id": "EK38GJL60vS8"
      },
      "execution_count": 6,
      "outputs": []
    },
    {
      "cell_type": "code",
      "source": [
        "import tensorflow as tf\n",
        "\n",
        "train_data = tf.keras.preprocessing.image_dataset_from_directory(\n",
        "    \"/content/train\",\n",
        "    label_mode=\"categorical\",\n",
        "    image_size=(224, 224),\n",
        "    batch_size=32,\n",
        "    shuffle = True,\n",
        "    seed = 42\n",
        ")\n",
        "\n",
        "test_data = tf.keras.preprocessing.image_dataset_from_directory(\n",
        "    \"/content/test\",\n",
        "    label_mode=\"categorical\",\n",
        "    image_size=(224, 224),\n",
        "    batch_size=32,\n",
        "    shuffle = False,\n",
        "    seed = 42\n",
        ")\n"
      ],
      "metadata": {
        "id": "MpWVuRtk1fzx",
        "outputId": "3b131164-bed6-4950-f36b-28a2ff4e3529",
        "colab": {
          "base_uri": "https://localhost:8080/"
        }
      },
      "execution_count": 7,
      "outputs": [
        {
          "output_type": "stream",
          "name": "stdout",
          "text": [
            "Found 80800 files belonging to 101 classes.\n",
            "Found 20200 files belonging to 101 classes.\n"
          ]
        }
      ]
    },
    {
      "cell_type": "markdown",
      "source": [
        "## Preprocessing data"
      ],
      "metadata": {
        "id": "y9uFDWBbNSK1"
      }
    },
    {
      "cell_type": "code",
      "source": [
        "train_data = train_data.prefetch(tf.data.AUTOTUNE)\n",
        "test_data = test_data.prefetch(tf.data.AUTOTUNE)"
      ],
      "metadata": {
        "id": "gK8LyQ5s2Ndn"
      },
      "execution_count": 8,
      "outputs": []
    },
    {
      "cell_type": "code",
      "source": [
        "train_data, test_data"
      ],
      "metadata": {
        "id": "w4ZNUyCP4L3i",
        "outputId": "10ebdb17-11c9-4b0c-c7b0-284510ee1e98",
        "colab": {
          "base_uri": "https://localhost:8080/"
        }
      },
      "execution_count": 9,
      "outputs": [
        {
          "output_type": "execute_result",
          "data": {
            "text/plain": [
              "(<_PrefetchDataset element_spec=(TensorSpec(shape=(None, 224, 224, 3), dtype=tf.float32, name=None), TensorSpec(shape=(None, 101), dtype=tf.float32, name=None))>,\n",
              " <_PrefetchDataset element_spec=(TensorSpec(shape=(None, 224, 224, 3), dtype=tf.float32, name=None), TensorSpec(shape=(None, 101), dtype=tf.float32, name=None))>)"
            ]
          },
          "metadata": {},
          "execution_count": 9
        }
      ]
    },
    {
      "cell_type": "markdown",
      "source": [
        "## Creating chck callback"
      ],
      "metadata": {
        "id": "IWv8wJu55ZJL"
      }
    },
    {
      "cell_type": "code",
      "source": [
        "chck_path =\"chck.weights.h5\"\n",
        "\n",
        "chck = tf.keras.callbacks.ModelCheckpoint(chck_path,\n",
        "                                          monitor = 'val_accuracy',\n",
        "                                          save_best_only = True,\n",
        "                                          save_weights_only = True)"
      ],
      "metadata": {
        "id": "U8pC2B415TqA"
      },
      "execution_count": 10,
      "outputs": []
    },
    {
      "cell_type": "markdown",
      "source": [
        "## setup mixed precision"
      ],
      "metadata": {
        "id": "-PykXjSd53ny"
      }
    },
    {
      "cell_type": "code",
      "source": [
        "## this must be run on at least T4 GPU\n",
        "tf.keras.mixed_precision.set_global_policy('mixed_float16')"
      ],
      "metadata": {
        "id": "2oXWw5S55tsm"
      },
      "execution_count": 11,
      "outputs": []
    },
    {
      "cell_type": "markdown",
      "source": [
        "## build model"
      ],
      "metadata": {
        "id": "0fSss1rn6nvH"
      }
    },
    {
      "cell_type": "code",
      "source": [
        "base = tf.keras.applications.EfficientNetB0(include_top = False)\n",
        "base.trainable = False"
      ],
      "metadata": {
        "id": "5sfCZc3j6pYZ",
        "outputId": "d755d901-5364-4c6b-bb0e-35f131942b25",
        "colab": {
          "base_uri": "https://localhost:8080/"
        }
      },
      "execution_count": 12,
      "outputs": [
        {
          "output_type": "stream",
          "name": "stdout",
          "text": [
            "Downloading data from https://storage.googleapis.com/keras-applications/efficientnetb0_notop.h5\n",
            "\u001b[1m16705208/16705208\u001b[0m \u001b[32m━━━━━━━━━━━━━━━━━━━━\u001b[0m\u001b[37m\u001b[0m \u001b[1m2s\u001b[0m 0us/step\n"
          ]
        }
      ]
    },
    {
      "cell_type": "code",
      "source": [
        "Inputs = tf.keras.layers.Input(shape = (224,224,3),name = \"input_layer\")\n",
        "x = base(Inputs,training = False)\n",
        "x = tf.keras.layers.GlobalAveragePooling2D()(x)\n",
        "outputs = tf.keras.layers.Dense(101,activation = \"softmax\", dtype = tf.float32)(x)\n",
        "\n",
        "model = tf.keras.Model(Inputs,outputs)"
      ],
      "metadata": {
        "id": "w_YXuz8O6zf0"
      },
      "execution_count": 13,
      "outputs": []
    },
    {
      "cell_type": "code",
      "source": [
        "model.compile(loss = tf.keras.losses.CategoricalCrossentropy(),\n",
        "              optimizer = tf.keras.optimizers.Adam(),\n",
        "              metrics = [\"accuracy\"])"
      ],
      "metadata": {
        "id": "vnBsRN607oUb"
      },
      "execution_count": 14,
      "outputs": []
    },
    {
      "cell_type": "code",
      "source": [
        "for x in model.layers:\n",
        "  print(x.name, x.dtype, x.trainable, x.dtype_policy)"
      ],
      "metadata": {
        "id": "b_kX75448Noz",
        "outputId": "8ef7c198-7947-4691-b689-dbec6e7078fd",
        "colab": {
          "base_uri": "https://localhost:8080/"
        }
      },
      "execution_count": 15,
      "outputs": [
        {
          "output_type": "stream",
          "name": "stdout",
          "text": [
            "input_layer float32 True <DTypePolicy \"mixed_float16\">\n",
            "efficientnetb0 float32 False <DTypePolicy \"mixed_float16\">\n",
            "global_average_pooling2d float32 True <DTypePolicy \"mixed_float16\">\n",
            "dense float32 True <DTypePolicy \"float32\">\n"
          ]
        }
      ]
    },
    {
      "cell_type": "code",
      "source": [
        "for x in model.layers[1].layers:\n",
        "  print(x.name, x.dtype, x.trainable, x.dtype_policy)"
      ],
      "metadata": {
        "id": "lHcu7ypY8sZ5",
        "outputId": "06bbe783-f721-4a63-9c57-933be3118148",
        "colab": {
          "base_uri": "https://localhost:8080/"
        }
      },
      "execution_count": 16,
      "outputs": [
        {
          "output_type": "stream",
          "name": "stdout",
          "text": [
            "input_layer float32 False <DTypePolicy \"mixed_float16\">\n",
            "rescaling float32 False <DTypePolicy \"mixed_float16\">\n",
            "normalization float32 False <DTypePolicy \"mixed_float16\">\n",
            "rescaling_1 float32 False <DTypePolicy \"mixed_float16\">\n",
            "stem_conv_pad float32 False <DTypePolicy \"mixed_float16\">\n",
            "stem_conv float32 False <DTypePolicy \"mixed_float16\">\n",
            "stem_bn float32 False <DTypePolicy \"mixed_float16\">\n",
            "stem_activation float32 False <DTypePolicy \"mixed_float16\">\n",
            "block1a_dwconv float32 False <DTypePolicy \"mixed_float16\">\n",
            "block1a_bn float32 False <DTypePolicy \"mixed_float16\">\n",
            "block1a_activation float32 False <DTypePolicy \"mixed_float16\">\n",
            "block1a_se_squeeze float32 False <DTypePolicy \"mixed_float16\">\n",
            "block1a_se_reshape float32 False <DTypePolicy \"mixed_float16\">\n",
            "block1a_se_reduce float32 False <DTypePolicy \"mixed_float16\">\n",
            "block1a_se_expand float32 False <DTypePolicy \"mixed_float16\">\n",
            "block1a_se_excite float32 False <DTypePolicy \"mixed_float16\">\n",
            "block1a_project_conv float32 False <DTypePolicy \"mixed_float16\">\n",
            "block1a_project_bn float32 False <DTypePolicy \"mixed_float16\">\n",
            "block2a_expand_conv float32 False <DTypePolicy \"mixed_float16\">\n",
            "block2a_expand_bn float32 False <DTypePolicy \"mixed_float16\">\n",
            "block2a_expand_activation float32 False <DTypePolicy \"mixed_float16\">\n",
            "block2a_dwconv_pad float32 False <DTypePolicy \"mixed_float16\">\n",
            "block2a_dwconv float32 False <DTypePolicy \"mixed_float16\">\n",
            "block2a_bn float32 False <DTypePolicy \"mixed_float16\">\n",
            "block2a_activation float32 False <DTypePolicy \"mixed_float16\">\n",
            "block2a_se_squeeze float32 False <DTypePolicy \"mixed_float16\">\n",
            "block2a_se_reshape float32 False <DTypePolicy \"mixed_float16\">\n",
            "block2a_se_reduce float32 False <DTypePolicy \"mixed_float16\">\n",
            "block2a_se_expand float32 False <DTypePolicy \"mixed_float16\">\n",
            "block2a_se_excite float32 False <DTypePolicy \"mixed_float16\">\n",
            "block2a_project_conv float32 False <DTypePolicy \"mixed_float16\">\n",
            "block2a_project_bn float32 False <DTypePolicy \"mixed_float16\">\n",
            "block2b_expand_conv float32 False <DTypePolicy \"mixed_float16\">\n",
            "block2b_expand_bn float32 False <DTypePolicy \"mixed_float16\">\n",
            "block2b_expand_activation float32 False <DTypePolicy \"mixed_float16\">\n",
            "block2b_dwconv float32 False <DTypePolicy \"mixed_float16\">\n",
            "block2b_bn float32 False <DTypePolicy \"mixed_float16\">\n",
            "block2b_activation float32 False <DTypePolicy \"mixed_float16\">\n",
            "block2b_se_squeeze float32 False <DTypePolicy \"mixed_float16\">\n",
            "block2b_se_reshape float32 False <DTypePolicy \"mixed_float16\">\n",
            "block2b_se_reduce float32 False <DTypePolicy \"mixed_float16\">\n",
            "block2b_se_expand float32 False <DTypePolicy \"mixed_float16\">\n",
            "block2b_se_excite float32 False <DTypePolicy \"mixed_float16\">\n",
            "block2b_project_conv float32 False <DTypePolicy \"mixed_float16\">\n",
            "block2b_project_bn float32 False <DTypePolicy \"mixed_float16\">\n",
            "block2b_drop float32 False <DTypePolicy \"mixed_float16\">\n",
            "block2b_add float32 False <DTypePolicy \"mixed_float16\">\n",
            "block3a_expand_conv float32 False <DTypePolicy \"mixed_float16\">\n",
            "block3a_expand_bn float32 False <DTypePolicy \"mixed_float16\">\n",
            "block3a_expand_activation float32 False <DTypePolicy \"mixed_float16\">\n",
            "block3a_dwconv_pad float32 False <DTypePolicy \"mixed_float16\">\n",
            "block3a_dwconv float32 False <DTypePolicy \"mixed_float16\">\n",
            "block3a_bn float32 False <DTypePolicy \"mixed_float16\">\n",
            "block3a_activation float32 False <DTypePolicy \"mixed_float16\">\n",
            "block3a_se_squeeze float32 False <DTypePolicy \"mixed_float16\">\n",
            "block3a_se_reshape float32 False <DTypePolicy \"mixed_float16\">\n",
            "block3a_se_reduce float32 False <DTypePolicy \"mixed_float16\">\n",
            "block3a_se_expand float32 False <DTypePolicy \"mixed_float16\">\n",
            "block3a_se_excite float32 False <DTypePolicy \"mixed_float16\">\n",
            "block3a_project_conv float32 False <DTypePolicy \"mixed_float16\">\n",
            "block3a_project_bn float32 False <DTypePolicy \"mixed_float16\">\n",
            "block3b_expand_conv float32 False <DTypePolicy \"mixed_float16\">\n",
            "block3b_expand_bn float32 False <DTypePolicy \"mixed_float16\">\n",
            "block3b_expand_activation float32 False <DTypePolicy \"mixed_float16\">\n",
            "block3b_dwconv float32 False <DTypePolicy \"mixed_float16\">\n",
            "block3b_bn float32 False <DTypePolicy \"mixed_float16\">\n",
            "block3b_activation float32 False <DTypePolicy \"mixed_float16\">\n",
            "block3b_se_squeeze float32 False <DTypePolicy \"mixed_float16\">\n",
            "block3b_se_reshape float32 False <DTypePolicy \"mixed_float16\">\n",
            "block3b_se_reduce float32 False <DTypePolicy \"mixed_float16\">\n",
            "block3b_se_expand float32 False <DTypePolicy \"mixed_float16\">\n",
            "block3b_se_excite float32 False <DTypePolicy \"mixed_float16\">\n",
            "block3b_project_conv float32 False <DTypePolicy \"mixed_float16\">\n",
            "block3b_project_bn float32 False <DTypePolicy \"mixed_float16\">\n",
            "block3b_drop float32 False <DTypePolicy \"mixed_float16\">\n",
            "block3b_add float32 False <DTypePolicy \"mixed_float16\">\n",
            "block4a_expand_conv float32 False <DTypePolicy \"mixed_float16\">\n",
            "block4a_expand_bn float32 False <DTypePolicy \"mixed_float16\">\n",
            "block4a_expand_activation float32 False <DTypePolicy \"mixed_float16\">\n",
            "block4a_dwconv_pad float32 False <DTypePolicy \"mixed_float16\">\n",
            "block4a_dwconv float32 False <DTypePolicy \"mixed_float16\">\n",
            "block4a_bn float32 False <DTypePolicy \"mixed_float16\">\n",
            "block4a_activation float32 False <DTypePolicy \"mixed_float16\">\n",
            "block4a_se_squeeze float32 False <DTypePolicy \"mixed_float16\">\n",
            "block4a_se_reshape float32 False <DTypePolicy \"mixed_float16\">\n",
            "block4a_se_reduce float32 False <DTypePolicy \"mixed_float16\">\n",
            "block4a_se_expand float32 False <DTypePolicy \"mixed_float16\">\n",
            "block4a_se_excite float32 False <DTypePolicy \"mixed_float16\">\n",
            "block4a_project_conv float32 False <DTypePolicy \"mixed_float16\">\n",
            "block4a_project_bn float32 False <DTypePolicy \"mixed_float16\">\n",
            "block4b_expand_conv float32 False <DTypePolicy \"mixed_float16\">\n",
            "block4b_expand_bn float32 False <DTypePolicy \"mixed_float16\">\n",
            "block4b_expand_activation float32 False <DTypePolicy \"mixed_float16\">\n",
            "block4b_dwconv float32 False <DTypePolicy \"mixed_float16\">\n",
            "block4b_bn float32 False <DTypePolicy \"mixed_float16\">\n",
            "block4b_activation float32 False <DTypePolicy \"mixed_float16\">\n",
            "block4b_se_squeeze float32 False <DTypePolicy \"mixed_float16\">\n",
            "block4b_se_reshape float32 False <DTypePolicy \"mixed_float16\">\n",
            "block4b_se_reduce float32 False <DTypePolicy \"mixed_float16\">\n",
            "block4b_se_expand float32 False <DTypePolicy \"mixed_float16\">\n",
            "block4b_se_excite float32 False <DTypePolicy \"mixed_float16\">\n",
            "block4b_project_conv float32 False <DTypePolicy \"mixed_float16\">\n",
            "block4b_project_bn float32 False <DTypePolicy \"mixed_float16\">\n",
            "block4b_drop float32 False <DTypePolicy \"mixed_float16\">\n",
            "block4b_add float32 False <DTypePolicy \"mixed_float16\">\n",
            "block4c_expand_conv float32 False <DTypePolicy \"mixed_float16\">\n",
            "block4c_expand_bn float32 False <DTypePolicy \"mixed_float16\">\n",
            "block4c_expand_activation float32 False <DTypePolicy \"mixed_float16\">\n",
            "block4c_dwconv float32 False <DTypePolicy \"mixed_float16\">\n",
            "block4c_bn float32 False <DTypePolicy \"mixed_float16\">\n",
            "block4c_activation float32 False <DTypePolicy \"mixed_float16\">\n",
            "block4c_se_squeeze float32 False <DTypePolicy \"mixed_float16\">\n",
            "block4c_se_reshape float32 False <DTypePolicy \"mixed_float16\">\n",
            "block4c_se_reduce float32 False <DTypePolicy \"mixed_float16\">\n",
            "block4c_se_expand float32 False <DTypePolicy \"mixed_float16\">\n",
            "block4c_se_excite float32 False <DTypePolicy \"mixed_float16\">\n",
            "block4c_project_conv float32 False <DTypePolicy \"mixed_float16\">\n",
            "block4c_project_bn float32 False <DTypePolicy \"mixed_float16\">\n",
            "block4c_drop float32 False <DTypePolicy \"mixed_float16\">\n",
            "block4c_add float32 False <DTypePolicy \"mixed_float16\">\n",
            "block5a_expand_conv float32 False <DTypePolicy \"mixed_float16\">\n",
            "block5a_expand_bn float32 False <DTypePolicy \"mixed_float16\">\n",
            "block5a_expand_activation float32 False <DTypePolicy \"mixed_float16\">\n",
            "block5a_dwconv float32 False <DTypePolicy \"mixed_float16\">\n",
            "block5a_bn float32 False <DTypePolicy \"mixed_float16\">\n",
            "block5a_activation float32 False <DTypePolicy \"mixed_float16\">\n",
            "block5a_se_squeeze float32 False <DTypePolicy \"mixed_float16\">\n",
            "block5a_se_reshape float32 False <DTypePolicy \"mixed_float16\">\n",
            "block5a_se_reduce float32 False <DTypePolicy \"mixed_float16\">\n",
            "block5a_se_expand float32 False <DTypePolicy \"mixed_float16\">\n",
            "block5a_se_excite float32 False <DTypePolicy \"mixed_float16\">\n",
            "block5a_project_conv float32 False <DTypePolicy \"mixed_float16\">\n",
            "block5a_project_bn float32 False <DTypePolicy \"mixed_float16\">\n",
            "block5b_expand_conv float32 False <DTypePolicy \"mixed_float16\">\n",
            "block5b_expand_bn float32 False <DTypePolicy \"mixed_float16\">\n",
            "block5b_expand_activation float32 False <DTypePolicy \"mixed_float16\">\n",
            "block5b_dwconv float32 False <DTypePolicy \"mixed_float16\">\n",
            "block5b_bn float32 False <DTypePolicy \"mixed_float16\">\n",
            "block5b_activation float32 False <DTypePolicy \"mixed_float16\">\n",
            "block5b_se_squeeze float32 False <DTypePolicy \"mixed_float16\">\n",
            "block5b_se_reshape float32 False <DTypePolicy \"mixed_float16\">\n",
            "block5b_se_reduce float32 False <DTypePolicy \"mixed_float16\">\n",
            "block5b_se_expand float32 False <DTypePolicy \"mixed_float16\">\n",
            "block5b_se_excite float32 False <DTypePolicy \"mixed_float16\">\n",
            "block5b_project_conv float32 False <DTypePolicy \"mixed_float16\">\n",
            "block5b_project_bn float32 False <DTypePolicy \"mixed_float16\">\n",
            "block5b_drop float32 False <DTypePolicy \"mixed_float16\">\n",
            "block5b_add float32 False <DTypePolicy \"mixed_float16\">\n",
            "block5c_expand_conv float32 False <DTypePolicy \"mixed_float16\">\n",
            "block5c_expand_bn float32 False <DTypePolicy \"mixed_float16\">\n",
            "block5c_expand_activation float32 False <DTypePolicy \"mixed_float16\">\n",
            "block5c_dwconv float32 False <DTypePolicy \"mixed_float16\">\n",
            "block5c_bn float32 False <DTypePolicy \"mixed_float16\">\n",
            "block5c_activation float32 False <DTypePolicy \"mixed_float16\">\n",
            "block5c_se_squeeze float32 False <DTypePolicy \"mixed_float16\">\n",
            "block5c_se_reshape float32 False <DTypePolicy \"mixed_float16\">\n",
            "block5c_se_reduce float32 False <DTypePolicy \"mixed_float16\">\n",
            "block5c_se_expand float32 False <DTypePolicy \"mixed_float16\">\n",
            "block5c_se_excite float32 False <DTypePolicy \"mixed_float16\">\n",
            "block5c_project_conv float32 False <DTypePolicy \"mixed_float16\">\n",
            "block5c_project_bn float32 False <DTypePolicy \"mixed_float16\">\n",
            "block5c_drop float32 False <DTypePolicy \"mixed_float16\">\n",
            "block5c_add float32 False <DTypePolicy \"mixed_float16\">\n",
            "block6a_expand_conv float32 False <DTypePolicy \"mixed_float16\">\n",
            "block6a_expand_bn float32 False <DTypePolicy \"mixed_float16\">\n",
            "block6a_expand_activation float32 False <DTypePolicy \"mixed_float16\">\n",
            "block6a_dwconv_pad float32 False <DTypePolicy \"mixed_float16\">\n",
            "block6a_dwconv float32 False <DTypePolicy \"mixed_float16\">\n",
            "block6a_bn float32 False <DTypePolicy \"mixed_float16\">\n",
            "block6a_activation float32 False <DTypePolicy \"mixed_float16\">\n",
            "block6a_se_squeeze float32 False <DTypePolicy \"mixed_float16\">\n",
            "block6a_se_reshape float32 False <DTypePolicy \"mixed_float16\">\n",
            "block6a_se_reduce float32 False <DTypePolicy \"mixed_float16\">\n",
            "block6a_se_expand float32 False <DTypePolicy \"mixed_float16\">\n",
            "block6a_se_excite float32 False <DTypePolicy \"mixed_float16\">\n",
            "block6a_project_conv float32 False <DTypePolicy \"mixed_float16\">\n",
            "block6a_project_bn float32 False <DTypePolicy \"mixed_float16\">\n",
            "block6b_expand_conv float32 False <DTypePolicy \"mixed_float16\">\n",
            "block6b_expand_bn float32 False <DTypePolicy \"mixed_float16\">\n",
            "block6b_expand_activation float32 False <DTypePolicy \"mixed_float16\">\n",
            "block6b_dwconv float32 False <DTypePolicy \"mixed_float16\">\n",
            "block6b_bn float32 False <DTypePolicy \"mixed_float16\">\n",
            "block6b_activation float32 False <DTypePolicy \"mixed_float16\">\n",
            "block6b_se_squeeze float32 False <DTypePolicy \"mixed_float16\">\n",
            "block6b_se_reshape float32 False <DTypePolicy \"mixed_float16\">\n",
            "block6b_se_reduce float32 False <DTypePolicy \"mixed_float16\">\n",
            "block6b_se_expand float32 False <DTypePolicy \"mixed_float16\">\n",
            "block6b_se_excite float32 False <DTypePolicy \"mixed_float16\">\n",
            "block6b_project_conv float32 False <DTypePolicy \"mixed_float16\">\n",
            "block6b_project_bn float32 False <DTypePolicy \"mixed_float16\">\n",
            "block6b_drop float32 False <DTypePolicy \"mixed_float16\">\n",
            "block6b_add float32 False <DTypePolicy \"mixed_float16\">\n",
            "block6c_expand_conv float32 False <DTypePolicy \"mixed_float16\">\n",
            "block6c_expand_bn float32 False <DTypePolicy \"mixed_float16\">\n",
            "block6c_expand_activation float32 False <DTypePolicy \"mixed_float16\">\n",
            "block6c_dwconv float32 False <DTypePolicy \"mixed_float16\">\n",
            "block6c_bn float32 False <DTypePolicy \"mixed_float16\">\n",
            "block6c_activation float32 False <DTypePolicy \"mixed_float16\">\n",
            "block6c_se_squeeze float32 False <DTypePolicy \"mixed_float16\">\n",
            "block6c_se_reshape float32 False <DTypePolicy \"mixed_float16\">\n",
            "block6c_se_reduce float32 False <DTypePolicy \"mixed_float16\">\n",
            "block6c_se_expand float32 False <DTypePolicy \"mixed_float16\">\n",
            "block6c_se_excite float32 False <DTypePolicy \"mixed_float16\">\n",
            "block6c_project_conv float32 False <DTypePolicy \"mixed_float16\">\n",
            "block6c_project_bn float32 False <DTypePolicy \"mixed_float16\">\n",
            "block6c_drop float32 False <DTypePolicy \"mixed_float16\">\n",
            "block6c_add float32 False <DTypePolicy \"mixed_float16\">\n",
            "block6d_expand_conv float32 False <DTypePolicy \"mixed_float16\">\n",
            "block6d_expand_bn float32 False <DTypePolicy \"mixed_float16\">\n",
            "block6d_expand_activation float32 False <DTypePolicy \"mixed_float16\">\n",
            "block6d_dwconv float32 False <DTypePolicy \"mixed_float16\">\n",
            "block6d_bn float32 False <DTypePolicy \"mixed_float16\">\n",
            "block6d_activation float32 False <DTypePolicy \"mixed_float16\">\n",
            "block6d_se_squeeze float32 False <DTypePolicy \"mixed_float16\">\n",
            "block6d_se_reshape float32 False <DTypePolicy \"mixed_float16\">\n",
            "block6d_se_reduce float32 False <DTypePolicy \"mixed_float16\">\n",
            "block6d_se_expand float32 False <DTypePolicy \"mixed_float16\">\n",
            "block6d_se_excite float32 False <DTypePolicy \"mixed_float16\">\n",
            "block6d_project_conv float32 False <DTypePolicy \"mixed_float16\">\n",
            "block6d_project_bn float32 False <DTypePolicy \"mixed_float16\">\n",
            "block6d_drop float32 False <DTypePolicy \"mixed_float16\">\n",
            "block6d_add float32 False <DTypePolicy \"mixed_float16\">\n",
            "block7a_expand_conv float32 False <DTypePolicy \"mixed_float16\">\n",
            "block7a_expand_bn float32 False <DTypePolicy \"mixed_float16\">\n",
            "block7a_expand_activation float32 False <DTypePolicy \"mixed_float16\">\n",
            "block7a_dwconv float32 False <DTypePolicy \"mixed_float16\">\n",
            "block7a_bn float32 False <DTypePolicy \"mixed_float16\">\n",
            "block7a_activation float32 False <DTypePolicy \"mixed_float16\">\n",
            "block7a_se_squeeze float32 False <DTypePolicy \"mixed_float16\">\n",
            "block7a_se_reshape float32 False <DTypePolicy \"mixed_float16\">\n",
            "block7a_se_reduce float32 False <DTypePolicy \"mixed_float16\">\n",
            "block7a_se_expand float32 False <DTypePolicy \"mixed_float16\">\n",
            "block7a_se_excite float32 False <DTypePolicy \"mixed_float16\">\n",
            "block7a_project_conv float32 False <DTypePolicy \"mixed_float16\">\n",
            "block7a_project_bn float32 False <DTypePolicy \"mixed_float16\">\n",
            "top_conv float32 False <DTypePolicy \"mixed_float16\">\n",
            "top_bn float32 False <DTypePolicy \"mixed_float16\">\n",
            "top_activation float32 False <DTypePolicy \"mixed_float16\">\n"
          ]
        }
      ]
    },
    {
      "cell_type": "code",
      "source": [
        "hist = model.fit(train_data,\n",
        "          epochs = 3,\n",
        "          validation_data = test_data,\n",
        "          validation_steps = int(0.15 * len(test_data)),\n",
        "          callbacks = [chck,create_tensorboard_callback(\"exp\", \"3_ep_base\")])"
      ],
      "metadata": {
        "id": "du4WazW19GHW",
        "outputId": "40f20442-eb04-4446-8721-e2491c6a1446",
        "colab": {
          "base_uri": "https://localhost:8080/"
        }
      },
      "execution_count": 18,
      "outputs": [
        {
          "output_type": "stream",
          "name": "stdout",
          "text": [
            "Saving TensorBoard log files to: exp/3_ep_base/20250110-023037\n",
            "Epoch 1/3\n",
            "\u001b[1m2525/2525\u001b[0m \u001b[32m━━━━━━━━━━━━━━━━━━━━\u001b[0m\u001b[37m\u001b[0m \u001b[1m213s\u001b[0m 84ms/step - accuracy: 0.5687 - loss: 1.7767 - val_accuracy: 0.5947 - val_loss: 1.5683\n",
            "Epoch 2/3\n",
            "\u001b[1m2525/2525\u001b[0m \u001b[32m━━━━━━━━━━━━━━━━━━━━\u001b[0m\u001b[37m\u001b[0m \u001b[1m201s\u001b[0m 80ms/step - accuracy: 0.6507 - loss: 1.3392 - val_accuracy: 0.6080 - val_loss: 1.5110\n",
            "Epoch 3/3\n",
            "\u001b[1m2525/2525\u001b[0m \u001b[32m━━━━━━━━━━━━━━━━━━━━\u001b[0m\u001b[37m\u001b[0m \u001b[1m178s\u001b[0m 70ms/step - accuracy: 0.6855 - loss: 1.2042 - val_accuracy: 0.6912 - val_loss: 1.2151\n"
          ]
        }
      ]
    },
    {
      "cell_type": "code",
      "source": [
        "model.evaluate(test_data)"
      ],
      "metadata": {
        "id": "5uj77m9u9nya",
        "outputId": "197b125c-7ebd-4998-d2e8-69f98f871f0b",
        "colab": {
          "base_uri": "https://localhost:8080/"
        }
      },
      "execution_count": 19,
      "outputs": [
        {
          "output_type": "stream",
          "name": "stdout",
          "text": [
            "\u001b[1m632/632\u001b[0m \u001b[32m━━━━━━━━━━━━━━━━━━━━\u001b[0m\u001b[37m\u001b[0m \u001b[1m55s\u001b[0m 87ms/step - accuracy: 0.6395 - loss: 1.3914\n"
          ]
        },
        {
          "output_type": "execute_result",
          "data": {
            "text/plain": [
              "[1.3138246536254883, 0.659900963306427]"
            ]
          },
          "metadata": {},
          "execution_count": 19
        }
      ]
    },
    {
      "cell_type": "code",
      "source": [
        "plot_loss_curves(hist)"
      ],
      "metadata": {
        "id": "R1USm8d4DYxh",
        "outputId": "39101553-2d43-4f70-b49e-115cd569ab99",
        "colab": {
          "base_uri": "https://localhost:8080/",
          "height": 927
        }
      },
      "execution_count": 20,
      "outputs": [
        {
          "output_type": "display_data",
          "data": {
            "text/plain": [
              "<Figure size 640x480 with 1 Axes>"
            ],
            "image/png": "[encoded data removed]"
          },
          "metadata": {}
        },
        {
          "output_type": "display_data",
          "data": {
            "text/plain": [
              "<Figure size 640x480 with 1 Axes>"
            ],
            "image/png": "[encoded data removed]"
          },
          "metadata": {}
        }
      ]
    },
    {
      "cell_type": "markdown",
      "source": [
        "## with fine tuning"
      ],
      "metadata": {
        "id": "KF1Qs6GdCMwv"
      }
    },
    {
      "cell_type": "code",
      "source": [
        "for layer in base.layers[-10:]:\n",
        "  layer.trainable = True"
      ],
      "metadata": {
        "id": "qXLaHvhxCPpA"
      },
      "execution_count": 21,
      "outputs": []
    },
    {
      "cell_type": "code",
      "source": [
        "model.compile(loss = tf.keras.losses.CategoricalCrossentropy(),\n",
        "              optimizer = tf.keras.optimizers.Adam(1e-4),\n",
        "              metrics = [\"accuracy\"])"
      ],
      "metadata": {
        "id": "QQiEAmvlCX0F"
      },
      "execution_count": 22,
      "outputs": []
    },
    {
      "cell_type": "code",
      "source": [
        "for layer in model.layers[1].layers:\n",
        "  print(layer, layer.trainable)"
      ],
      "metadata": {
        "id": "XhJhM2oOCd7t",
        "outputId": "18cb7587-effd-497b-d074-d5437fc0094a",
        "colab": {
          "base_uri": "https://localhost:8080/"
        }
      },
      "execution_count": 23,
      "outputs": [
        {
          "output_type": "stream",
          "name": "stdout",
          "text": [
            "<InputLayer name=input_layer, built=True> False\n",
            "<Rescaling name=rescaling, built=True> False\n",
            "<Normalization name=normalization, built=True> False\n",
            "<Rescaling name=rescaling_1, built=True> False\n",
            "<ZeroPadding2D name=stem_conv_pad, built=True> False\n",
            "<Conv2D name=stem_conv, built=True> False\n",
            "<BatchNormalization name=stem_bn, built=True> False\n",
            "<Activation name=stem_activation, built=True> False\n",
            "<DepthwiseConv2D name=block1a_dwconv, built=True> False\n",
            "<BatchNormalization name=block1a_bn, built=True> False\n",
            "<Activation name=block1a_activation, built=True> False\n",
            "<GlobalAveragePooling2D name=block1a_se_squeeze, built=True> False\n",
            "<Reshape name=block1a_se_reshape, built=True> False\n",
            "<Conv2D name=block1a_se_reduce, built=True> False\n",
            "<Conv2D name=block1a_se_expand, built=True> False\n",
            "<Multiply name=block1a_se_excite, built=True> False\n",
            "<Conv2D name=block1a_project_conv, built=True> False\n",
            "<BatchNormalization name=block1a_project_bn, built=True> False\n",
            "<Conv2D name=block2a_expand_conv, built=True> False\n",
            "<BatchNormalization name=block2a_expand_bn, built=True> False\n",
            "<Activation name=block2a_expand_activation, built=True> False\n",
            "<ZeroPadding2D name=block2a_dwconv_pad, built=True> False\n",
            "<DepthwiseConv2D name=block2a_dwconv, built=True> False\n",
            "<BatchNormalization name=block2a_bn, built=True> False\n",
            "<Activation name=block2a_activation, built=True> False\n",
            "<GlobalAveragePooling2D name=block2a_se_squeeze, built=True> False\n",
            "<Reshape name=block2a_se_reshape, built=True> False\n",
            "<Conv2D name=block2a_se_reduce, built=True> False\n",
            "<Conv2D name=block2a_se_expand, built=True> False\n",
            "<Multiply name=block2a_se_excite, built=True> False\n",
            "<Conv2D name=block2a_project_conv, built=True> False\n",
            "<BatchNormalization name=block2a_project_bn, built=True> False\n",
            "<Conv2D name=block2b_expand_conv, built=True> False\n",
            "<BatchNormalization name=block2b_expand_bn, built=True> False\n",
            "<Activation name=block2b_expand_activation, built=True> False\n",
            "<DepthwiseConv2D name=block2b_dwconv, built=True> False\n",
            "<BatchNormalization name=block2b_bn, built=True> False\n",
            "<Activation name=block2b_activation, built=True> False\n",
            "<GlobalAveragePooling2D name=block2b_se_squeeze, built=True> False\n",
            "<Reshape name=block2b_se_reshape, built=True> False\n",
            "<Conv2D name=block2b_se_reduce, built=True> False\n",
            "<Conv2D name=block2b_se_expand, built=True> False\n",
            "<Multiply name=block2b_se_excite, built=True> False\n",
            "<Conv2D name=block2b_project_conv, built=True> False\n",
            "<BatchNormalization name=block2b_project_bn, built=True> False\n",
            "<Dropout name=block2b_drop, built=True> False\n",
            "<Add name=block2b_add, built=True> False\n",
            "<Conv2D name=block3a_expand_conv, built=True> False\n",
            "<BatchNormalization name=block3a_expand_bn, built=True> False\n",
            "<Activation name=block3a_expand_activation, built=True> False\n",
            "<ZeroPadding2D name=block3a_dwconv_pad, built=True> False\n",
            "<DepthwiseConv2D name=block3a_dwconv, built=True> False\n",
            "<BatchNormalization name=block3a_bn, built=True> False\n",
            "<Activation name=block3a_activation, built=True> False\n",
            "<GlobalAveragePooling2D name=block3a_se_squeeze, built=True> False\n",
            "<Reshape name=block3a_se_reshape, built=True> False\n",
            "<Conv2D name=block3a_se_reduce, built=True> False\n",
            "<Conv2D name=block3a_se_expand, built=True> False\n",
            "<Multiply name=block3a_se_excite, built=True> False\n",
            "<Conv2D name=block3a_project_conv, built=True> False\n",
            "<BatchNormalization name=block3a_project_bn, built=True> False\n",
            "<Conv2D name=block3b_expand_conv, built=True> False\n",
            "<BatchNormalization name=block3b_expand_bn, built=True> False\n",
            "<Activation name=block3b_expand_activation, built=True> False\n",
            "<DepthwiseConv2D name=block3b_dwconv, built=True> False\n",
            "<BatchNormalization name=block3b_bn, built=True> False\n",
            "<Activation name=block3b_activation, built=True> False\n",
            "<GlobalAveragePooling2D name=block3b_se_squeeze, built=True> False\n",
            "<Reshape name=block3b_se_reshape, built=True> False\n",
            "<Conv2D name=block3b_se_reduce, built=True> False\n",
            "<Conv2D name=block3b_se_expand, built=True> False\n",
            "<Multiply name=block3b_se_excite, built=True> False\n",
            "<Conv2D name=block3b_project_conv, built=True> False\n",
            "<BatchNormalization name=block3b_project_bn, built=True> False\n",
            "<Dropout name=block3b_drop, built=True> False\n",
            "<Add name=block3b_add, built=True> False\n",
            "<Conv2D name=block4a_expand_conv, built=True> False\n",
            "<BatchNormalization name=block4a_expand_bn, built=True> False\n",
            "<Activation name=block4a_expand_activation, built=True> False\n",
            "<ZeroPadding2D name=block4a_dwconv_pad, built=True> False\n",
            "<DepthwiseConv2D name=block4a_dwconv, built=True> False\n",
            "<BatchNormalization name=block4a_bn, built=True> False\n",
            "<Activation name=block4a_activation, built=True> False\n",
            "<GlobalAveragePooling2D name=block4a_se_squeeze, built=True> False\n",
            "<Reshape name=block4a_se_reshape, built=True> False\n",
            "<Conv2D name=block4a_se_reduce, built=True> False\n",
            "<Conv2D name=block4a_se_expand, built=True> False\n",
            "<Multiply name=block4a_se_excite, built=True> False\n",
            "<Conv2D name=block4a_project_conv, built=True> False\n",
            "<BatchNormalization name=block4a_project_bn, built=True> False\n",
            "<Conv2D name=block4b_expand_conv, built=True> False\n",
            "<BatchNormalization name=block4b_expand_bn, built=True> False\n",
            "<Activation name=block4b_expand_activation, built=True> False\n",
            "<DepthwiseConv2D name=block4b_dwconv, built=True> False\n",
            "<BatchNormalization name=block4b_bn, built=True> False\n",
            "<Activation name=block4b_activation, built=True> False\n",
            "<GlobalAveragePooling2D name=block4b_se_squeeze, built=True> False\n",
            "<Reshape name=block4b_se_reshape, built=True> False\n",
            "<Conv2D name=block4b_se_reduce, built=True> False\n",
            "<Conv2D name=block4b_se_expand, built=True> False\n",
            "<Multiply name=block4b_se_excite, built=True> False\n",
            "<Conv2D name=block4b_project_conv, built=True> False\n",
            "<BatchNormalization name=block4b_project_bn, built=True> False\n",
            "<Dropout name=block4b_drop, built=True> False\n",
            "<Add name=block4b_add, built=True> False\n",
            "<Conv2D name=block4c_expand_conv, built=True> False\n",
            "<BatchNormalization name=block4c_expand_bn, built=True> False\n",
            "<Activation name=block4c_expand_activation, built=True> False\n",
            "<DepthwiseConv2D name=block4c_dwconv, built=True> False\n",
            "<BatchNormalization name=block4c_bn, built=True> False\n",
            "<Activation name=block4c_activation, built=True> False\n",
            "<GlobalAveragePooling2D name=block4c_se_squeeze, built=True> False\n",
            "<Reshape name=block4c_se_reshape, built=True> False\n",
            "<Conv2D name=block4c_se_reduce, built=True> False\n",
            "<Conv2D name=block4c_se_expand, built=True> False\n",
            "<Multiply name=block4c_se_excite, built=True> False\n",
            "<Conv2D name=block4c_project_conv, built=True> False\n",
            "<BatchNormalization name=block4c_project_bn, built=True> False\n",
            "<Dropout name=block4c_drop, built=True> False\n",
            "<Add name=block4c_add, built=True> False\n",
            "<Conv2D name=block5a_expand_conv, built=True> False\n",
            "<BatchNormalization name=block5a_expand_bn, built=True> False\n",
            "<Activation name=block5a_expand_activation, built=True> False\n",
            "<DepthwiseConv2D name=block5a_dwconv, built=True> False\n",
            "<BatchNormalization name=block5a_bn, built=True> False\n",
            "<Activation name=block5a_activation, built=True> False\n",
            "<GlobalAveragePooling2D name=block5a_se_squeeze, built=True> False\n",
            "<Reshape name=block5a_se_reshape, built=True> False\n",
            "<Conv2D name=block5a_se_reduce, built=True> False\n",
            "<Conv2D name=block5a_se_expand, built=True> False\n",
            "<Multiply name=block5a_se_excite, built=True> False\n",
            "<Conv2D name=block5a_project_conv, built=True> False\n",
            "<BatchNormalization name=block5a_project_bn, built=True> False\n",
            "<Conv2D name=block5b_expand_conv, built=True> False\n",
            "<BatchNormalization name=block5b_expand_bn, built=True> False\n",
            "<Activation name=block5b_expand_activation, built=True> False\n",
            "<DepthwiseConv2D name=block5b_dwconv, built=True> False\n",
            "<BatchNormalization name=block5b_bn, built=True> False\n",
            "<Activation name=block5b_activation, built=True> False\n",
            "<GlobalAveragePooling2D name=block5b_se_squeeze, built=True> False\n",
            "<Reshape name=block5b_se_reshape, built=True> False\n",
            "<Conv2D name=block5b_se_reduce, built=True> False\n",
            "<Conv2D name=block5b_se_expand, built=True> False\n",
            "<Multiply name=block5b_se_excite, built=True> False\n",
            "<Conv2D name=block5b_project_conv, built=True> False\n",
            "<BatchNormalization name=block5b_project_bn, built=True> False\n",
            "<Dropout name=block5b_drop, built=True> False\n",
            "<Add name=block5b_add, built=True> False\n",
            "<Conv2D name=block5c_expand_conv, built=True> False\n",
            "<BatchNormalization name=block5c_expand_bn, built=True> False\n",
            "<Activation name=block5c_expand_activation, built=True> False\n",
            "<DepthwiseConv2D name=block5c_dwconv, built=True> False\n",
            "<BatchNormalization name=block5c_bn, built=True> False\n",
            "<Activation name=block5c_activation, built=True> False\n",
            "<GlobalAveragePooling2D name=block5c_se_squeeze, built=True> False\n",
            "<Reshape name=block5c_se_reshape, built=True> False\n",
            "<Conv2D name=block5c_se_reduce, built=True> False\n",
            "<Conv2D name=block5c_se_expand, built=True> False\n",
            "<Multiply name=block5c_se_excite, built=True> False\n",
            "<Conv2D name=block5c_project_conv, built=True> False\n",
            "<BatchNormalization name=block5c_project_bn, built=True> False\n",
            "<Dropout name=block5c_drop, built=True> False\n",
            "<Add name=block5c_add, built=True> False\n",
            "<Conv2D name=block6a_expand_conv, built=True> False\n",
            "<BatchNormalization name=block6a_expand_bn, built=True> False\n",
            "<Activation name=block6a_expand_activation, built=True> False\n",
            "<ZeroPadding2D name=block6a_dwconv_pad, built=True> False\n",
            "<DepthwiseConv2D name=block6a_dwconv, built=True> False\n",
            "<BatchNormalization name=block6a_bn, built=True> False\n",
            "<Activation name=block6a_activation, built=True> False\n",
            "<GlobalAveragePooling2D name=block6a_se_squeeze, built=True> False\n",
            "<Reshape name=block6a_se_reshape, built=True> False\n",
            "<Conv2D name=block6a_se_reduce, built=True> False\n",
            "<Conv2D name=block6a_se_expand, built=True> False\n",
            "<Multiply name=block6a_se_excite, built=True> False\n",
            "<Conv2D name=block6a_project_conv, built=True> False\n",
            "<BatchNormalization name=block6a_project_bn, built=True> False\n",
            "<Conv2D name=block6b_expand_conv, built=True> False\n",
            "<BatchNormalization name=block6b_expand_bn, built=True> False\n",
            "<Activation name=block6b_expand_activation, built=True> False\n",
            "<DepthwiseConv2D name=block6b_dwconv, built=True> False\n",
            "<BatchNormalization name=block6b_bn, built=True> False\n",
            "<Activation name=block6b_activation, built=True> False\n",
            "<GlobalAveragePooling2D name=block6b_se_squeeze, built=True> False\n",
            "<Reshape name=block6b_se_reshape, built=True> False\n",
            "<Conv2D name=block6b_se_reduce, built=True> False\n",
            "<Conv2D name=block6b_se_expand, built=True> False\n",
            "<Multiply name=block6b_se_excite, built=True> False\n",
            "<Conv2D name=block6b_project_conv, built=True> False\n",
            "<BatchNormalization name=block6b_project_bn, built=True> False\n",
            "<Dropout name=block6b_drop, built=True> False\n",
            "<Add name=block6b_add, built=True> False\n",
            "<Conv2D name=block6c_expand_conv, built=True> False\n",
            "<BatchNormalization name=block6c_expand_bn, built=True> False\n",
            "<Activation name=block6c_expand_activation, built=True> False\n",
            "<DepthwiseConv2D name=block6c_dwconv, built=True> False\n",
            "<BatchNormalization name=block6c_bn, built=True> False\n",
            "<Activation name=block6c_activation, built=True> False\n",
            "<GlobalAveragePooling2D name=block6c_se_squeeze, built=True> False\n",
            "<Reshape name=block6c_se_reshape, built=True> False\n",
            "<Conv2D name=block6c_se_reduce, built=True> False\n",
            "<Conv2D name=block6c_se_expand, built=True> False\n",
            "<Multiply name=block6c_se_excite, built=True> False\n",
            "<Conv2D name=block6c_project_conv, built=True> False\n",
            "<BatchNormalization name=block6c_project_bn, built=True> False\n",
            "<Dropout name=block6c_drop, built=True> False\n",
            "<Add name=block6c_add, built=True> False\n",
            "<Conv2D name=block6d_expand_conv, built=True> False\n",
            "<BatchNormalization name=block6d_expand_bn, built=True> False\n",
            "<Activation name=block6d_expand_activation, built=True> False\n",
            "<DepthwiseConv2D name=block6d_dwconv, built=True> False\n",
            "<BatchNormalization name=block6d_bn, built=True> False\n",
            "<Activation name=block6d_activation, built=True> False\n",
            "<GlobalAveragePooling2D name=block6d_se_squeeze, built=True> False\n",
            "<Reshape name=block6d_se_reshape, built=True> False\n",
            "<Conv2D name=block6d_se_reduce, built=True> False\n",
            "<Conv2D name=block6d_se_expand, built=True> False\n",
            "<Multiply name=block6d_se_excite, built=True> False\n",
            "<Conv2D name=block6d_project_conv, built=True> False\n",
            "<BatchNormalization name=block6d_project_bn, built=True> False\n",
            "<Dropout name=block6d_drop, built=True> False\n",
            "<Add name=block6d_add, built=True> False\n",
            "<Conv2D name=block7a_expand_conv, built=True> False\n",
            "<BatchNormalization name=block7a_expand_bn, built=True> False\n",
            "<Activation name=block7a_expand_activation, built=True> False\n",
            "<DepthwiseConv2D name=block7a_dwconv, built=True> False\n",
            "<BatchNormalization name=block7a_bn, built=True> False\n",
            "<Activation name=block7a_activation, built=True> False\n",
            "<GlobalAveragePooling2D name=block7a_se_squeeze, built=True> True\n",
            "<Reshape name=block7a_se_reshape, built=True> True\n",
            "<Conv2D name=block7a_se_reduce, built=True> True\n",
            "<Conv2D name=block7a_se_expand, built=True> True\n",
            "<Multiply name=block7a_se_excite, built=True> True\n",
            "<Conv2D name=block7a_project_conv, built=True> True\n",
            "<BatchNormalization name=block7a_project_bn, built=True> True\n",
            "<Conv2D name=top_conv, built=True> True\n",
            "<BatchNormalization name=top_bn, built=True> True\n",
            "<Activation name=top_activation, built=True> True\n"
          ]
        }
      ]
    },
    {
      "cell_type": "code",
      "source": [
        "hist_2 = model.fit(train_data,\n",
        "          epochs = 6,\n",
        "          validation_data = test_data,\n",
        "          validation_steps = int(0.15 * len(test_data)),\n",
        "          callbacks = [create_tensorboard_callback(\"exp\", \"3_ep_base_fine_tune\")],\n",
        "          initial_epoch=3)"
      ],
      "metadata": {
        "id": "WAXcTD3QC1zw",
        "outputId": "81fe889f-072b-4ba5-ccc5-91762e2968ac",
        "colab": {
          "base_uri": "https://localhost:8080/"
        }
      },
      "execution_count": 24,
      "outputs": [
        {
          "output_type": "stream",
          "name": "stdout",
          "text": [
            "Saving TensorBoard log files to: exp/3_ep_base_fine_tune/20250110-024214\n",
            "Epoch 4/6\n",
            "\u001b[1m2525/2525\u001b[0m \u001b[32m━━━━━━━━━━━━━━━━━━━━\u001b[0m\u001b[37m\u001b[0m \u001b[1m231s\u001b[0m 81ms/step - accuracy: 0.6978 - loss: 1.1528 - val_accuracy: 0.6636 - val_loss: 1.3053\n",
            "Epoch 5/6\n",
            "\u001b[1m2525/2525\u001b[0m \u001b[32m━━━━━━━━━━━━━━━━━━━━\u001b[0m\u001b[37m\u001b[0m \u001b[1m226s\u001b[0m 72ms/step - accuracy: 0.7459 - loss: 0.9635 - val_accuracy: 0.6822 - val_loss: 1.2458\n",
            "Epoch 6/6\n",
            "\u001b[1m2525/2525\u001b[0m \u001b[32m━━━━━━━━━━━━━━━━━━━━\u001b[0m\u001b[37m\u001b[0m \u001b[1m177s\u001b[0m 70ms/step - accuracy: 0.7680 - loss: 0.8733 - val_accuracy: 0.7271 - val_loss: 1.0582\n"
          ]
        }
      ]
    },
    {
      "cell_type": "code",
      "source": [
        "model.evaluate(test_data)"
      ],
      "metadata": {
        "id": "YpUVUaUdDbbd",
        "outputId": "a78a4cf0-17d2-4db9-bdaf-e23cb3bfc2cb",
        "colab": {
          "base_uri": "https://localhost:8080/"
        }
      },
      "execution_count": 25,
      "outputs": [
        {
          "output_type": "stream",
          "name": "stdout",
          "text": [
            "\u001b[1m632/632\u001b[0m \u001b[32m━━━━━━━━━━━━━━━━━━━━\u001b[0m\u001b[37m\u001b[0m \u001b[1m50s\u001b[0m 79ms/step - accuracy: 0.6880 - loss: 1.1922\n"
          ]
        },
        {
          "output_type": "execute_result",
          "data": {
            "text/plain": [
              "[1.1436885595321655, 0.7023762464523315]"
            ]
          },
          "metadata": {},
          "execution_count": 25
        }
      ]
    },
    {
      "cell_type": "code",
      "source": [
        "compare_historys(hist, hist_2,3)"
      ],
      "metadata": {
        "id": "cyseJzv1D7jg",
        "outputId": "d31933fd-46da-4f11-fb2d-8e7bb5d72991",
        "colab": {
          "base_uri": "https://localhost:8080/",
          "height": 718
        }
      },
      "execution_count": 27,
      "outputs": [
        {
          "output_type": "display_data",
          "data": {
            "text/plain": [
              "<Figure size 800x800 with 2 Axes>"
            ],
            "image/png": "[encoded data removed]"
          },
          "metadata": {}
        }
      ]
    },
    {
      "cell_type": "markdown",
      "source": [
        "## with data augment"
      ],
      "metadata": {
        "id": "V_yPmpgiCLL6"
      }
    },
    {
      "cell_type": "code",
      "source": [
        "data_augment = tf.keras.Sequential([\n",
        "    tf.keras.layers.RandomFlip(\"horizontal\"),\n",
        "    tf.keras.layers.RandomRotation(0.2),\n",
        "    tf.keras.layers.RandomZoom(0.2),\n",
        "    tf.keras.layers.RandomHeight(0.2),\n",
        "])"
      ],
      "metadata": {
        "id": "Iwn23YYeBQgS"
      },
      "execution_count": 28,
      "outputs": []
    },
    {
      "cell_type": "code",
      "source": [
        "base = tf.keras.applications.EfficientNetB0(include_top = False)\n",
        "base.trainable = False"
      ],
      "metadata": {
        "id": "K0KSKl0MGftp"
      },
      "execution_count": 29,
      "outputs": []
    },
    {
      "cell_type": "code",
      "source": [
        "Inputs = tf.keras.layers.Input(shape = (224,224,3),name = \"input_layer\")\n",
        "x = data_augment(Inputs)\n",
        "x = base(x,training = False)\n",
        "x = tf.keras.layers.GlobalAveragePooling2D()(x)\n",
        "outputs = tf.keras.layers.Dense(101,activation = \"softmax\", dtype = tf.float32)(x)\n",
        "\n",
        "model_1 = tf.keras.Model(Inputs,outputs)"
      ],
      "metadata": {
        "id": "FJ0vBz0OBWcP"
      },
      "execution_count": 30,
      "outputs": []
    },
    {
      "cell_type": "code",
      "source": [
        "model_1.compile(loss = tf.keras.losses.CategoricalCrossentropy(),\n",
        "              optimizer = tf.keras.optimizers.Adam(),\n",
        "              metrics = [\"accuracy\"])"
      ],
      "metadata": {
        "id": "A-EtIYV-C-yc"
      },
      "execution_count": 31,
      "outputs": []
    },
    {
      "cell_type": "code",
      "source": [
        "chck_2_path =\"chck_data_aug.weights.h5\"\n",
        "\n",
        "chck_2 = tf.keras.callbacks.ModelCheckpoint(chck_2_path,\n",
        "                                          monitor = 'val_accuracy',\n",
        "                                          save_best_only = True,\n",
        "                                          save_weights_only = True)"
      ],
      "metadata": {
        "id": "mMJw8WgpDgFu"
      },
      "execution_count": 32,
      "outputs": []
    },
    {
      "cell_type": "code",
      "source": [
        "hist_3 = model_1.fit(train_data,\n",
        "          epochs = 3,\n",
        "          validation_data = test_data,\n",
        "          validation_steps = int(0.15 * len(test_data)),\n",
        "          callbacks = [chck_2,create_tensorboard_callback(\"exp\", \"3_ep_data_aug\")])"
      ],
      "metadata": {
        "id": "v0E4xLNyDGXV",
        "outputId": "ca52d67d-e6c3-488e-bbe8-9286d845d627",
        "colab": {
          "base_uri": "https://localhost:8080/"
        }
      },
      "execution_count": null,
      "outputs": [
        {
          "output_type": "stream",
          "name": "stdout",
          "text": [
            "Saving TensorBoard log files to: exp/3_ep_data_aug/20250110-025457\n",
            "Epoch 1/3\n",
            "\u001b[1m2525/2525\u001b[0m \u001b[32m━━━━━━━━━━━━━━━━━━━━\u001b[0m\u001b[37m\u001b[0m \u001b[1m227s\u001b[0m 84ms/step - accuracy: 0.3677 - loss: 2.7551 - val_accuracy: 0.5678 - val_loss: 1.6993\n",
            "Epoch 2/3\n",
            "\u001b[1m2525/2525\u001b[0m \u001b[32m━━━━━━━━━━━━━━━━━━━━\u001b[0m\u001b[37m\u001b[0m \u001b[1m246s\u001b[0m 80ms/step - accuracy: 0.5333 - loss: 1.8348 - val_accuracy: 0.5605 - val_loss: 1.7204\n",
            "Epoch 3/3\n",
            "\u001b[1m 813/2525\u001b[0m \u001b[32m━━━━━━\u001b[0m\u001b[37m━━━━━━━━━━━━━━\u001b[0m \u001b[1m2:06\u001b[0m 74ms/step - accuracy: 0.5663 - loss: 1.6840"
          ]
        }
      ]
    },
    {
      "cell_type": "code",
      "source": [
        "model_1.evaluate(test_data)"
      ],
      "metadata": {
        "id": "kL03oooiDwdy"
      },
      "execution_count": null,
      "outputs": []
    },
    {
      "cell_type": "code",
      "source": [
        "plot_loss_curves(hist_3)"
      ],
      "metadata": {
        "id": "Y_p8UnvjD630"
      },
      "execution_count": null,
      "outputs": []
    },
    {
      "cell_type": "markdown",
      "source": [
        "## data aug fine tune"
      ],
      "metadata": {
        "id": "VBBXMhBiGYiQ"
      }
    },
    {
      "cell_type": "code",
      "source": [
        "for layer in base.layers[-10:]:\n",
        "  layer.trainable = True"
      ],
      "metadata": {
        "id": "6J1GwGszGjd-"
      },
      "execution_count": null,
      "outputs": []
    },
    {
      "cell_type": "code",
      "source": [
        "model_1.compile(loss = tf.keras.losses.CategoricalCrossentropy(),\n",
        "              optimizer = tf.keras.optimizers.Adam(1e-4),\n",
        "              metrics = [\"accuracy\"])"
      ],
      "metadata": {
        "id": "UlxV29-RGkL9"
      },
      "execution_count": null,
      "outputs": []
    },
    {
      "cell_type": "code",
      "source": [
        "for layer in model.layers[1].layers:\n",
        "  print(layer, layer.trainable)"
      ],
      "metadata": {
        "id": "FbI-djNCGkKu"
      },
      "execution_count": null,
      "outputs": []
    },
    {
      "cell_type": "code",
      "source": [
        "hist_4 = model_1.fit(train_data,\n",
        "          epochs = 6,\n",
        "          validation_data = test_data,\n",
        "          validation_steps = int(0.15 * len(test_data)),\n",
        "          callbacks = [create_tensorboard_callback(\"exp\", \"3_ep_data_aug_fine_tune\")],\n",
        "          initial_epoch=3)"
      ],
      "metadata": {
        "id": "VwfbETTeGsTY"
      },
      "execution_count": null,
      "outputs": []
    },
    {
      "cell_type": "code",
      "source": [
        "model_1.evaluate(test_data)"
      ],
      "metadata": {
        "id": "5oDyt0hPG59n"
      },
      "execution_count": null,
      "outputs": []
    },
    {
      "cell_type": "code",
      "source": [
        "compare_historys(hist_3, hist_4)"
      ],
      "metadata": {
        "id": "QvrloRGaG81N"
      },
      "execution_count": null,
      "outputs": []
    }
  ]
}