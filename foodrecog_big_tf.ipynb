{
  "nbformat": 4,
  "nbformat_minor": 0,
  "metadata": {
    "colab": {
      "provenance": [],
      "gpuType": "T4",
      "include_colab_link": true
    },
    "kernelspec": {
      "name": "python3",
      "display_name": "Python 3"
    },
    "language_info": {
      "name": "python"
    },
    "accelerator": "GPU"
  },
  "cells": [
    {
      "cell_type": "markdown",
      "metadata": {
        "id": "view-in-github",
        "colab_type": "text"
      },
      "source": [
        "<a href=\"https://colab.research.google.com/github/voshna123/tensorflow_practice/blob/main/foodrecog_big_tf.ipynb\" target=\"_parent\"><img src=\"https://colab.research.google.com/assets/colab-badge.svg\" alt=\"Open In Colab\"/></a>"
      ]
    },
    {
      "cell_type": "code",
      "execution_count": 15,
      "metadata": {
        "colab": {
          "base_uri": "https://localhost:8080/"
        },
        "id": "jl0F4G_8DLHT",
        "outputId": "1b9e2833-80cb-4aa9-d9e2-e0a94cd8df21"
      },
      "outputs": [
        {
          "output_type": "stream",
          "name": "stdout",
          "text": [
            "--2025-01-10 01:35:49--  https://raw.githubusercontent.com/mrdbourke/tensorflow-deep-learning/refs/heads/main/extras/helper_functions.py\n",
            "Resolving raw.githubusercontent.com (raw.githubusercontent.com)... 185.199.108.133, 185.199.109.133, 185.199.110.133, ...\n",
            "Connecting to raw.githubusercontent.com (raw.githubusercontent.com)|185.199.108.133|:443... connected.\n",
            "HTTP request sent, awaiting response... 200 OK\n",
            "Length: 10246 (10K) [text/plain]\n",
            "Saving to: ‘helper_functions.py’\n",
            "\n",
            "helper_functions.py 100%[===================>]  10.01K  --.-KB/s    in 0s      \n",
            "\n",
            "2025-01-10 01:35:50 (25.1 MB/s) - ‘helper_functions.py’ saved [10246/10246]\n",
            "\n"
          ]
        }
      ],
      "source": [
        "!wget https://raw.githubusercontent.com/mrdbourke/tensorflow-deep-learning/refs/heads/main/extras/helper_functions.py"
      ]
    },
    {
      "cell_type": "code",
      "source": [
        "from helper_functions import create_tensorboard_callback, plot_loss_curves,compare_historys"
      ],
      "metadata": {
        "id": "VN_rUNzBF_Cl"
      },
      "execution_count": 16,
      "outputs": []
    },
    {
      "cell_type": "markdown",
      "source": [
        "## Loading 101Food Dataset"
      ],
      "metadata": {
        "id": "7qB2B_-ZGjoQ"
      }
    },
    {
      "cell_type": "code",
      "source": [
        "!wget http://data.vision.ee.ethz.ch/cvl/food-101.tar.gz"
      ],
      "metadata": {
        "id": "brbP0LUIyClS",
        "outputId": "a87e0f8e-cd59-47cb-f95e-00ff769676ec",
        "colab": {
          "base_uri": "https://localhost:8080/"
        }
      },
      "execution_count": 2,
      "outputs": [
        {
          "output_type": "stream",
          "name": "stdout",
          "text": [
            "--2025-01-10 01:16:55--  http://data.vision.ee.ethz.ch/cvl/food-101.tar.gz\n",
            "Resolving data.vision.ee.ethz.ch (data.vision.ee.ethz.ch)... 129.132.52.178, 2001:67c:10ec:36c2::178\n",
            "Connecting to data.vision.ee.ethz.ch (data.vision.ee.ethz.ch)|129.132.52.178|:80... connected.\n",
            "HTTP request sent, awaiting response... 302 Found\n",
            "Location: https://data.vision.ee.ethz.ch/cvl/food-101.tar.gz [following]\n",
            "--2025-01-10 01:16:55--  https://data.vision.ee.ethz.ch/cvl/food-101.tar.gz\n",
            "Connecting to data.vision.ee.ethz.ch (data.vision.ee.ethz.ch)|129.132.52.178|:443... connected.\n",
            "HTTP request sent, awaiting response... 200 OK\n",
            "Length: 4996278331 (4.7G) [application/x-gzip]\n",
            "Saving to: ‘food-101.tar.gz’\n",
            "\n",
            "food-101.tar.gz     100%[===================>]   4.65G  21.7MB/s    in 3m 55s  \n",
            "\n",
            "2025-01-10 01:20:51 (20.3 MB/s) - ‘food-101.tar.gz’ saved [4996278331/4996278331]\n",
            "\n"
          ]
        }
      ]
    },
    {
      "cell_type": "code",
      "source": [
        "# importing the \"tarfile\" module\n",
        "import tarfile\n",
        "\n",
        "# open file\n",
        "file = tarfile.open('/content/food-101.tar.gz')\n",
        "\n",
        "# extracting file\n",
        "file.extractall()\n",
        "\n",
        "file.close()"
      ],
      "metadata": {
        "id": "hYGkavwS0EGp"
      },
      "execution_count": 7,
      "outputs": []
    },
    {
      "cell_type": "markdown",
      "source": [
        "## plot the img"
      ],
      "metadata": {
        "id": "GVKyFyZ0Mkm_"
      }
    },
    {
      "cell_type": "code",
      "source": [
        "import os\n",
        "import shutil\n",
        "import random\n",
        "from pathlib import Path\n",
        "from typing import Dict\n",
        "\n",
        "def split_nested_folders(\n",
        "    source_folder: str,\n",
        "    train_folder: str,\n",
        "    test_folder: str,\n",
        "    split_ratio: float = 0.8,\n",
        "    random_seed: int = 42\n",
        ") -> Dict[str, Dict[str, int]]:\n",
        "    \"\"\"\n",
        "    Split a nested folder structure into training and test sets while preserving hierarchy.\n",
        "\n",
        "    Args:\n",
        "        source_folder: Path to the root folder containing nested folders\n",
        "        train_folder: Path where training files will be copied\n",
        "        test_folder: Path where test files will be copied\n",
        "        split_ratio: Proportion of files to use for training (default: 0.8)\n",
        "        random_seed: Random seed for reproducibility (default: 42)\n",
        "\n",
        "    Returns:\n",
        "        Dict containing statistics for each subfolder\n",
        "    \"\"\"\n",
        "    random.seed(random_seed)\n",
        "\n",
        "    # Convert to Path objects\n",
        "    source_path = Path(source_folder)\n",
        "    train_path = Path(train_folder)\n",
        "    test_path = Path(test_folder)\n",
        "\n",
        "    # Create output root directories\n",
        "    train_path.mkdir(parents=True, exist_ok=True)\n",
        "    test_path.mkdir(parents=True, exist_ok=True)\n",
        "\n",
        "    stats = {}\n",
        "\n",
        "    # Walk through all subdirectories\n",
        "    for root, dirs, files in os.walk(source_path):\n",
        "        if not files:\n",
        "            continue\n",
        "\n",
        "        # Get the relative path from source root\n",
        "        rel_path = Path(root).relative_to(source_path)\n",
        "\n",
        "        # Create corresponding directories in train and test\n",
        "        train_subdir = train_path / rel_path\n",
        "        test_subdir = test_path / rel_path\n",
        "\n",
        "        train_subdir.mkdir(parents=True, exist_ok=True)\n",
        "        test_subdir.mkdir(parents=True, exist_ok=True)\n",
        "\n",
        "        # Shuffle files\n",
        "        random.shuffle(files)\n",
        "\n",
        "        # Calculate split point\n",
        "        split_idx = int(len(files) * split_ratio)\n",
        "        train_files = files[:split_idx]\n",
        "        test_files = files[split_idx:]\n",
        "\n",
        "        # Copy files to respective directories\n",
        "        for file in train_files:\n",
        "            src_file = Path(root) / file\n",
        "            dst_file = train_subdir / file\n",
        "            shutil.copy2(src_file, dst_file)\n",
        "\n",
        "        for file in test_files:\n",
        "            src_file = Path(root) / file\n",
        "            dst_file = test_subdir / file\n",
        "            shutil.copy2(src_file, dst_file)\n",
        "\n",
        "        # Store statistics\n",
        "        stats[str(rel_path)] = {\n",
        "            'train': len(train_files),\n",
        "            'test': len(test_files),\n",
        "            'total': len(files)\n",
        "        }\n",
        "\n",
        "    # Calculate total statistics\n",
        "    total_stats = {\n",
        "        'train': sum(s['train'] for s in stats.values()),\n",
        "        'test': sum(s['test'] for s in stats.values()),\n",
        "        'total': sum(s['total'] for s in stats.values())\n",
        "    }\n",
        "    stats['total'] = total_stats\n",
        "\n",
        "    return stats"
      ],
      "metadata": {
        "id": "C3Kh5rgG0RLt"
      },
      "execution_count": 12,
      "outputs": []
    },
    {
      "cell_type": "code",
      "source": [
        "stats = split_nested_folders(\"food-101/images\",\n",
        "                                     \"train\",\n",
        "                                     \"test\")"
      ],
      "metadata": {
        "id": "EK38GJL60vS8",
        "outputId": "91bbc995-efb0-43e3-d050-54c7e97c8a01",
        "colab": {
          "base_uri": "https://localhost:8080/",
          "height": 176
        }
      },
      "execution_count": 13,
      "outputs": [
        {
          "output_type": "error",
          "ename": "ValueError",
          "evalue": "too many values to unpack (expected 2)",
          "traceback": [
            "\u001b[0;31m---------------------------------------------------------------------------\u001b[0m",
            "\u001b[0;31mValueError\u001b[0m                                Traceback (most recent call last)",
            "\u001b[0;32m<ipython-input-13-673a3fb7187a>\u001b[0m in \u001b[0;36m<cell line: 1>\u001b[0;34m()\u001b[0m\n\u001b[0;32m----> 1\u001b[0;31m (train_num, test_num) = split_nested_folders(\"food-101/images\",\n\u001b[0m\u001b[1;32m      2\u001b[0m                                      \u001b[0;34m\"train\"\u001b[0m\u001b[0;34m,\u001b[0m\u001b[0;34m\u001b[0m\u001b[0;34m\u001b[0m\u001b[0m\n\u001b[1;32m      3\u001b[0m                                      \"test\")\n",
            "\u001b[0;31mValueError\u001b[0m: too many values to unpack (expected 2)"
          ]
        }
      ]
    },
    {
      "cell_type": "code",
      "source": [
        "import tensorflow as tf\n",
        "\n",
        "train_data = tf.keras.preprocessing.image_dataset_from_directory(\n",
        "    \"/content/train\",\n",
        "    label_mode=\"categorical\",\n",
        "    image_size=(224, 224),\n",
        "    batch_size=32,\n",
        "    shuffle = True,\n",
        "    seed = 42\n",
        ")\n",
        "\n",
        "test_data = tf.keras.preprocessing.image_dataset_from_directory(\n",
        "    \"/content/test\",\n",
        "    label_mode=\"categorical\",\n",
        "    image_size=(224, 224),\n",
        "    batch_size=32,\n",
        "    shuffle = False,\n",
        "    seed = 42\n",
        ")\n"
      ],
      "metadata": {
        "id": "MpWVuRtk1fzx",
        "outputId": "d8792f0e-e4ad-4292-825a-b08c5b15e246",
        "colab": {
          "base_uri": "https://localhost:8080/"
        }
      },
      "execution_count": 14,
      "outputs": [
        {
          "output_type": "stream",
          "name": "stdout",
          "text": [
            "Found 80800 files belonging to 101 classes.\n",
            "Found 20200 files belonging to 101 classes.\n"
          ]
        }
      ]
    },
    {
      "cell_type": "markdown",
      "source": [
        "## Preprocessing data"
      ],
      "metadata": {
        "id": "y9uFDWBbNSK1"
      }
    },
    {
      "cell_type": "code",
      "source": [
        "train_data = train_data.prefetch(tf.data.AUTOTUNE)\n",
        "test_data = test_data.prefetch(tf.data.AUTOTUNE)"
      ],
      "metadata": {
        "id": "gK8LyQ5s2Ndn"
      },
      "execution_count": 17,
      "outputs": []
    },
    {
      "cell_type": "code",
      "source": [
        "train_data, test_data"
      ],
      "metadata": {
        "id": "w4ZNUyCP4L3i",
        "outputId": "9a61e6b1-c00a-4ce2-ac85-36b201fb82aa",
        "colab": {
          "base_uri": "https://localhost:8080/"
        }
      },
      "execution_count": 18,
      "outputs": [
        {
          "output_type": "execute_result",
          "data": {
            "text/plain": [
              "(<_PrefetchDataset element_spec=(TensorSpec(shape=(None, 224, 224, 3), dtype=tf.float32, name=None), TensorSpec(shape=(None, 101), dtype=tf.float32, name=None))>,\n",
              " <_PrefetchDataset element_spec=(TensorSpec(shape=(None, 224, 224, 3), dtype=tf.float32, name=None), TensorSpec(shape=(None, 101), dtype=tf.float32, name=None))>)"
            ]
          },
          "metadata": {},
          "execution_count": 18
        }
      ]
    },
    {
      "cell_type": "markdown",
      "source": [
        "## Creating chck callback"
      ],
      "metadata": {
        "id": "IWv8wJu55ZJL"
      }
    },
    {
      "cell_type": "code",
      "source": [
        "chck_path =\"chck.weights.h5\"\n",
        "\n",
        "chck = tf.keras.callbacks.ModelCheckpoint(chck_path,\n",
        "                                          monitor = 'val_accuracy',\n",
        "                                          save_best_only = True,\n",
        "                                          save_weights_only = True)"
      ],
      "metadata": {
        "id": "U8pC2B415TqA"
      },
      "execution_count": 19,
      "outputs": []
    },
    {
      "cell_type": "markdown",
      "source": [
        "## setup mixed precision"
      ],
      "metadata": {
        "id": "-PykXjSd53ny"
      }
    },
    {
      "cell_type": "code",
      "source": [
        "## this must be run on at least T4 GPU\n",
        "tf.keras.mixed_precision.set_global_policy('mixed_float16')"
      ],
      "metadata": {
        "id": "2oXWw5S55tsm"
      },
      "execution_count": 21,
      "outputs": []
    },
    {
      "cell_type": "markdown",
      "source": [
        "## build model"
      ],
      "metadata": {
        "id": "0fSss1rn6nvH"
      }
    },
    {
      "cell_type": "code",
      "source": [
        "base = tf.keras.applications.EfficientNetB0(include_top = False)\n",
        "base.trainable = False"
      ],
      "metadata": {
        "id": "5sfCZc3j6pYZ",
        "outputId": "f3027408-12b3-4cd1-d2d1-ce9d2ca417fd",
        "colab": {
          "base_uri": "https://localhost:8080/"
        }
      },
      "execution_count": 22,
      "outputs": [
        {
          "output_type": "stream",
          "name": "stdout",
          "text": [
            "Downloading data from https://storage.googleapis.com/keras-applications/efficientnetb0_notop.h5\n",
            "\u001b[1m16705208/16705208\u001b[0m \u001b[32m━━━━━━━━━━━━━━━━━━━━\u001b[0m\u001b[37m\u001b[0m \u001b[1m0s\u001b[0m 0us/step\n"
          ]
        }
      ]
    },
    {
      "cell_type": "code",
      "source": [
        "Inputs = tf.keras.layers.Input(shape = (224,224,3),name = \"input_layer\")\n",
        "x = base(Inputs,training = False)\n",
        "x = tf.keras.layers.GlobalAveragePooling2D()(x)\n",
        "outputs = tf.keras.layers.Dense(101,activation = \"softmax\", dtype = tf.float32)(x)\n",
        "\n",
        "model = tf.keras.Model(Inputs,outputs)"
      ],
      "metadata": {
        "id": "w_YXuz8O6zf0"
      },
      "execution_count": 32,
      "outputs": []
    },
    {
      "cell_type": "code",
      "source": [
        "model.compile(loss = tf.keras.losses.CategoricalCrossentropy(),\n",
        "              optimizer = tf.keras.optimizers.Adam(),\n",
        "              metrics = [\"accuracy\"])"
      ],
      "metadata": {
        "id": "vnBsRN607oUb"
      },
      "execution_count": 33,
      "outputs": []
    },
    {
      "cell_type": "code",
      "source": [
        "for x in model.layers:\n",
        "  print(x.name, x.dtype, x.trainable, x.dtype_policy)"
      ],
      "metadata": {
        "id": "b_kX75448Noz",
        "outputId": "3f5d61d3-0bf3-4d9a-aee4-c9f6742b73e0",
        "colab": {
          "base_uri": "https://localhost:8080/"
        }
      },
      "execution_count": 39,
      "outputs": [
        {
          "output_type": "stream",
          "name": "stdout",
          "text": [
            "input_layer float32 True <DTypePolicy \"mixed_float16\">\n",
            "efficientnetb0 float32 False <DTypePolicy \"mixed_float16\">\n",
            "global_average_pooling2d_6 float32 True <DTypePolicy \"mixed_float16\">\n",
            "dense float32 True <DTypePolicy \"float32\">\n"
          ]
        }
      ]
    },
    {
      "cell_type": "code",
      "source": [
        "for x in model.layers[1].layers:\n",
        "  print(x.name, x.dtype, x.trainable, x.dtype_policy)"
      ],
      "metadata": {
        "id": "lHcu7ypY8sZ5",
        "outputId": "a571df5c-5a54-44b6-e49f-5909dfbf743e",
        "colab": {
          "base_uri": "https://localhost:8080/"
        }
      },
      "execution_count": 40,
      "outputs": [
        {
          "output_type": "stream",
          "name": "stdout",
          "text": [
            "input_layer float32 False <DTypePolicy \"mixed_float16\">\n",
            "rescaling float32 False <DTypePolicy \"mixed_float16\">\n",
            "normalization float32 False <DTypePolicy \"mixed_float16\">\n",
            "rescaling_1 float32 False <DTypePolicy \"mixed_float16\">\n",
            "stem_conv_pad float32 False <DTypePolicy \"mixed_float16\">\n",
            "stem_conv float32 False <DTypePolicy \"mixed_float16\">\n",
            "stem_bn float32 False <DTypePolicy \"mixed_float16\">\n",
            "stem_activation float32 False <DTypePolicy \"mixed_float16\">\n",
            "block1a_dwconv float32 False <DTypePolicy \"mixed_float16\">\n",
            "block1a_bn float32 False <DTypePolicy \"mixed_float16\">\n",
            "block1a_activation float32 False <DTypePolicy \"mixed_float16\">\n",
            "block1a_se_squeeze float32 False <DTypePolicy \"mixed_float16\">\n",
            "block1a_se_reshape float32 False <DTypePolicy \"mixed_float16\">\n",
            "block1a_se_reduce float32 False <DTypePolicy \"mixed_float16\">\n",
            "block1a_se_expand float32 False <DTypePolicy \"mixed_float16\">\n",
            "block1a_se_excite float32 False <DTypePolicy \"mixed_float16\">\n",
            "block1a_project_conv float32 False <DTypePolicy \"mixed_float16\">\n",
            "block1a_project_bn float32 False <DTypePolicy \"mixed_float16\">\n",
            "block2a_expand_conv float32 False <DTypePolicy \"mixed_float16\">\n",
            "block2a_expand_bn float32 False <DTypePolicy \"mixed_float16\">\n",
            "block2a_expand_activation float32 False <DTypePolicy \"mixed_float16\">\n",
            "block2a_dwconv_pad float32 False <DTypePolicy \"mixed_float16\">\n",
            "block2a_dwconv float32 False <DTypePolicy \"mixed_float16\">\n",
            "block2a_bn float32 False <DTypePolicy \"mixed_float16\">\n",
            "block2a_activation float32 False <DTypePolicy \"mixed_float16\">\n",
            "block2a_se_squeeze float32 False <DTypePolicy \"mixed_float16\">\n",
            "block2a_se_reshape float32 False <DTypePolicy \"mixed_float16\">\n",
            "block2a_se_reduce float32 False <DTypePolicy \"mixed_float16\">\n",
            "block2a_se_expand float32 False <DTypePolicy \"mixed_float16\">\n",
            "block2a_se_excite float32 False <DTypePolicy \"mixed_float16\">\n",
            "block2a_project_conv float32 False <DTypePolicy \"mixed_float16\">\n",
            "block2a_project_bn float32 False <DTypePolicy \"mixed_float16\">\n",
            "block2b_expand_conv float32 False <DTypePolicy \"mixed_float16\">\n",
            "block2b_expand_bn float32 False <DTypePolicy \"mixed_float16\">\n",
            "block2b_expand_activation float32 False <DTypePolicy \"mixed_float16\">\n",
            "block2b_dwconv float32 False <DTypePolicy \"mixed_float16\">\n",
            "block2b_bn float32 False <DTypePolicy \"mixed_float16\">\n",
            "block2b_activation float32 False <DTypePolicy \"mixed_float16\">\n",
            "block2b_se_squeeze float32 False <DTypePolicy \"mixed_float16\">\n",
            "block2b_se_reshape float32 False <DTypePolicy \"mixed_float16\">\n",
            "block2b_se_reduce float32 False <DTypePolicy \"mixed_float16\">\n",
            "block2b_se_expand float32 False <DTypePolicy \"mixed_float16\">\n",
            "block2b_se_excite float32 False <DTypePolicy \"mixed_float16\">\n",
            "block2b_project_conv float32 False <DTypePolicy \"mixed_float16\">\n",
            "block2b_project_bn float32 False <DTypePolicy \"mixed_float16\">\n",
            "block2b_drop float32 False <DTypePolicy \"mixed_float16\">\n",
            "block2b_add float32 False <DTypePolicy \"mixed_float16\">\n",
            "block3a_expand_conv float32 False <DTypePolicy \"mixed_float16\">\n",
            "block3a_expand_bn float32 False <DTypePolicy \"mixed_float16\">\n",
            "block3a_expand_activation float32 False <DTypePolicy \"mixed_float16\">\n",
            "block3a_dwconv_pad float32 False <DTypePolicy \"mixed_float16\">\n",
            "block3a_dwconv float32 False <DTypePolicy \"mixed_float16\">\n",
            "block3a_bn float32 False <DTypePolicy \"mixed_float16\">\n",
            "block3a_activation float32 False <DTypePolicy \"mixed_float16\">\n",
            "block3a_se_squeeze float32 False <DTypePolicy \"mixed_float16\">\n",
            "block3a_se_reshape float32 False <DTypePolicy \"mixed_float16\">\n",
            "block3a_se_reduce float32 False <DTypePolicy \"mixed_float16\">\n",
            "block3a_se_expand float32 False <DTypePolicy \"mixed_float16\">\n",
            "block3a_se_excite float32 False <DTypePolicy \"mixed_float16\">\n",
            "block3a_project_conv float32 False <DTypePolicy \"mixed_float16\">\n",
            "block3a_project_bn float32 False <DTypePolicy \"mixed_float16\">\n",
            "block3b_expand_conv float32 False <DTypePolicy \"mixed_float16\">\n",
            "block3b_expand_bn float32 False <DTypePolicy \"mixed_float16\">\n",
            "block3b_expand_activation float32 False <DTypePolicy \"mixed_float16\">\n",
            "block3b_dwconv float32 False <DTypePolicy \"mixed_float16\">\n",
            "block3b_bn float32 False <DTypePolicy \"mixed_float16\">\n",
            "block3b_activation float32 False <DTypePolicy \"mixed_float16\">\n",
            "block3b_se_squeeze float32 False <DTypePolicy \"mixed_float16\">\n",
            "block3b_se_reshape float32 False <DTypePolicy \"mixed_float16\">\n",
            "block3b_se_reduce float32 False <DTypePolicy \"mixed_float16\">\n",
            "block3b_se_expand float32 False <DTypePolicy \"mixed_float16\">\n",
            "block3b_se_excite float32 False <DTypePolicy \"mixed_float16\">\n",
            "block3b_project_conv float32 False <DTypePolicy \"mixed_float16\">\n",
            "block3b_project_bn float32 False <DTypePolicy \"mixed_float16\">\n",
            "block3b_drop float32 False <DTypePolicy \"mixed_float16\">\n",
            "block3b_add float32 False <DTypePolicy \"mixed_float16\">\n",
            "block4a_expand_conv float32 False <DTypePolicy \"mixed_float16\">\n",
            "block4a_expand_bn float32 False <DTypePolicy \"mixed_float16\">\n",
            "block4a_expand_activation float32 False <DTypePolicy \"mixed_float16\">\n",
            "block4a_dwconv_pad float32 False <DTypePolicy \"mixed_float16\">\n",
            "block4a_dwconv float32 False <DTypePolicy \"mixed_float16\">\n",
            "block4a_bn float32 False <DTypePolicy \"mixed_float16\">\n",
            "block4a_activation float32 False <DTypePolicy \"mixed_float16\">\n",
            "block4a_se_squeeze float32 False <DTypePolicy \"mixed_float16\">\n",
            "block4a_se_reshape float32 False <DTypePolicy \"mixed_float16\">\n",
            "block4a_se_reduce float32 False <DTypePolicy \"mixed_float16\">\n",
            "block4a_se_expand float32 False <DTypePolicy \"mixed_float16\">\n",
            "block4a_se_excite float32 False <DTypePolicy \"mixed_float16\">\n",
            "block4a_project_conv float32 False <DTypePolicy \"mixed_float16\">\n",
            "block4a_project_bn float32 False <DTypePolicy \"mixed_float16\">\n",
            "block4b_expand_conv float32 False <DTypePolicy \"mixed_float16\">\n",
            "block4b_expand_bn float32 False <DTypePolicy \"mixed_float16\">\n",
            "block4b_expand_activation float32 False <DTypePolicy \"mixed_float16\">\n",
            "block4b_dwconv float32 False <DTypePolicy \"mixed_float16\">\n",
            "block4b_bn float32 False <DTypePolicy \"mixed_float16\">\n",
            "block4b_activation float32 False <DTypePolicy \"mixed_float16\">\n",
            "block4b_se_squeeze float32 False <DTypePolicy \"mixed_float16\">\n",
            "block4b_se_reshape float32 False <DTypePolicy \"mixed_float16\">\n",
            "block4b_se_reduce float32 False <DTypePolicy \"mixed_float16\">\n",
            "block4b_se_expand float32 False <DTypePolicy \"mixed_float16\">\n",
            "block4b_se_excite float32 False <DTypePolicy \"mixed_float16\">\n",
            "block4b_project_conv float32 False <DTypePolicy \"mixed_float16\">\n",
            "block4b_project_bn float32 False <DTypePolicy \"mixed_float16\">\n",
            "block4b_drop float32 False <DTypePolicy \"mixed_float16\">\n",
            "block4b_add float32 False <DTypePolicy \"mixed_float16\">\n",
            "block4c_expand_conv float32 False <DTypePolicy \"mixed_float16\">\n",
            "block4c_expand_bn float32 False <DTypePolicy \"mixed_float16\">\n",
            "block4c_expand_activation float32 False <DTypePolicy \"mixed_float16\">\n",
            "block4c_dwconv float32 False <DTypePolicy \"mixed_float16\">\n",
            "block4c_bn float32 False <DTypePolicy \"mixed_float16\">\n",
            "block4c_activation float32 False <DTypePolicy \"mixed_float16\">\n",
            "block4c_se_squeeze float32 False <DTypePolicy \"mixed_float16\">\n",
            "block4c_se_reshape float32 False <DTypePolicy \"mixed_float16\">\n",
            "block4c_se_reduce float32 False <DTypePolicy \"mixed_float16\">\n",
            "block4c_se_expand float32 False <DTypePolicy \"mixed_float16\">\n",
            "block4c_se_excite float32 False <DTypePolicy \"mixed_float16\">\n",
            "block4c_project_conv float32 False <DTypePolicy \"mixed_float16\">\n",
            "block4c_project_bn float32 False <DTypePolicy \"mixed_float16\">\n",
            "block4c_drop float32 False <DTypePolicy \"mixed_float16\">\n",
            "block4c_add float32 False <DTypePolicy \"mixed_float16\">\n",
            "block5a_expand_conv float32 False <DTypePolicy \"mixed_float16\">\n",
            "block5a_expand_bn float32 False <DTypePolicy \"mixed_float16\">\n",
            "block5a_expand_activation float32 False <DTypePolicy \"mixed_float16\">\n",
            "block5a_dwconv float32 False <DTypePolicy \"mixed_float16\">\n",
            "block5a_bn float32 False <DTypePolicy \"mixed_float16\">\n",
            "block5a_activation float32 False <DTypePolicy \"mixed_float16\">\n",
            "block5a_se_squeeze float32 False <DTypePolicy \"mixed_float16\">\n",
            "block5a_se_reshape float32 False <DTypePolicy \"mixed_float16\">\n",
            "block5a_se_reduce float32 False <DTypePolicy \"mixed_float16\">\n",
            "block5a_se_expand float32 False <DTypePolicy \"mixed_float16\">\n",
            "block5a_se_excite float32 False <DTypePolicy \"mixed_float16\">\n",
            "block5a_project_conv float32 False <DTypePolicy \"mixed_float16\">\n",
            "block5a_project_bn float32 False <DTypePolicy \"mixed_float16\">\n",
            "block5b_expand_conv float32 False <DTypePolicy \"mixed_float16\">\n",
            "block5b_expand_bn float32 False <DTypePolicy \"mixed_float16\">\n",
            "block5b_expand_activation float32 False <DTypePolicy \"mixed_float16\">\n",
            "block5b_dwconv float32 False <DTypePolicy \"mixed_float16\">\n",
            "block5b_bn float32 False <DTypePolicy \"mixed_float16\">\n",
            "block5b_activation float32 False <DTypePolicy \"mixed_float16\">\n",
            "block5b_se_squeeze float32 False <DTypePolicy \"mixed_float16\">\n",
            "block5b_se_reshape float32 False <DTypePolicy \"mixed_float16\">\n",
            "block5b_se_reduce float32 False <DTypePolicy \"mixed_float16\">\n",
            "block5b_se_expand float32 False <DTypePolicy \"mixed_float16\">\n",
            "block5b_se_excite float32 False <DTypePolicy \"mixed_float16\">\n",
            "block5b_project_conv float32 False <DTypePolicy \"mixed_float16\">\n",
            "block5b_project_bn float32 False <DTypePolicy \"mixed_float16\">\n",
            "block5b_drop float32 False <DTypePolicy \"mixed_float16\">\n",
            "block5b_add float32 False <DTypePolicy \"mixed_float16\">\n",
            "block5c_expand_conv float32 False <DTypePolicy \"mixed_float16\">\n",
            "block5c_expand_bn float32 False <DTypePolicy \"mixed_float16\">\n",
            "block5c_expand_activation float32 False <DTypePolicy \"mixed_float16\">\n",
            "block5c_dwconv float32 False <DTypePolicy \"mixed_float16\">\n",
            "block5c_bn float32 False <DTypePolicy \"mixed_float16\">\n",
            "block5c_activation float32 False <DTypePolicy \"mixed_float16\">\n",
            "block5c_se_squeeze float32 False <DTypePolicy \"mixed_float16\">\n",
            "block5c_se_reshape float32 False <DTypePolicy \"mixed_float16\">\n",
            "block5c_se_reduce float32 False <DTypePolicy \"mixed_float16\">\n",
            "block5c_se_expand float32 False <DTypePolicy \"mixed_float16\">\n",
            "block5c_se_excite float32 False <DTypePolicy \"mixed_float16\">\n",
            "block5c_project_conv float32 False <DTypePolicy \"mixed_float16\">\n",
            "block5c_project_bn float32 False <DTypePolicy \"mixed_float16\">\n",
            "block5c_drop float32 False <DTypePolicy \"mixed_float16\">\n",
            "block5c_add float32 False <DTypePolicy \"mixed_float16\">\n",
            "block6a_expand_conv float32 False <DTypePolicy \"mixed_float16\">\n",
            "block6a_expand_bn float32 False <DTypePolicy \"mixed_float16\">\n",
            "block6a_expand_activation float32 False <DTypePolicy \"mixed_float16\">\n",
            "block6a_dwconv_pad float32 False <DTypePolicy \"mixed_float16\">\n",
            "block6a_dwconv float32 False <DTypePolicy \"mixed_float16\">\n",
            "block6a_bn float32 False <DTypePolicy \"mixed_float16\">\n",
            "block6a_activation float32 False <DTypePolicy \"mixed_float16\">\n",
            "block6a_se_squeeze float32 False <DTypePolicy \"mixed_float16\">\n",
            "block6a_se_reshape float32 False <DTypePolicy \"mixed_float16\">\n",
            "block6a_se_reduce float32 False <DTypePolicy \"mixed_float16\">\n",
            "block6a_se_expand float32 False <DTypePolicy \"mixed_float16\">\n",
            "block6a_se_excite float32 False <DTypePolicy \"mixed_float16\">\n",
            "block6a_project_conv float32 False <DTypePolicy \"mixed_float16\">\n",
            "block6a_project_bn float32 False <DTypePolicy \"mixed_float16\">\n",
            "block6b_expand_conv float32 False <DTypePolicy \"mixed_float16\">\n",
            "block6b_expand_bn float32 False <DTypePolicy \"mixed_float16\">\n",
            "block6b_expand_activation float32 False <DTypePolicy \"mixed_float16\">\n",
            "block6b_dwconv float32 False <DTypePolicy \"mixed_float16\">\n",
            "block6b_bn float32 False <DTypePolicy \"mixed_float16\">\n",
            "block6b_activation float32 False <DTypePolicy \"mixed_float16\">\n",
            "block6b_se_squeeze float32 False <DTypePolicy \"mixed_float16\">\n",
            "block6b_se_reshape float32 False <DTypePolicy \"mixed_float16\">\n",
            "block6b_se_reduce float32 False <DTypePolicy \"mixed_float16\">\n",
            "block6b_se_expand float32 False <DTypePolicy \"mixed_float16\">\n",
            "block6b_se_excite float32 False <DTypePolicy \"mixed_float16\">\n",
            "block6b_project_conv float32 False <DTypePolicy \"mixed_float16\">\n",
            "block6b_project_bn float32 False <DTypePolicy \"mixed_float16\">\n",
            "block6b_drop float32 False <DTypePolicy \"mixed_float16\">\n",
            "block6b_add float32 False <DTypePolicy \"mixed_float16\">\n",
            "block6c_expand_conv float32 False <DTypePolicy \"mixed_float16\">\n",
            "block6c_expand_bn float32 False <DTypePolicy \"mixed_float16\">\n",
            "block6c_expand_activation float32 False <DTypePolicy \"mixed_float16\">\n",
            "block6c_dwconv float32 False <DTypePolicy \"mixed_float16\">\n",
            "block6c_bn float32 False <DTypePolicy \"mixed_float16\">\n",
            "block6c_activation float32 False <DTypePolicy \"mixed_float16\">\n",
            "block6c_se_squeeze float32 False <DTypePolicy \"mixed_float16\">\n",
            "block6c_se_reshape float32 False <DTypePolicy \"mixed_float16\">\n",
            "block6c_se_reduce float32 False <DTypePolicy \"mixed_float16\">\n",
            "block6c_se_expand float32 False <DTypePolicy \"mixed_float16\">\n",
            "block6c_se_excite float32 False <DTypePolicy \"mixed_float16\">\n",
            "block6c_project_conv float32 False <DTypePolicy \"mixed_float16\">\n",
            "block6c_project_bn float32 False <DTypePolicy \"mixed_float16\">\n",
            "block6c_drop float32 False <DTypePolicy \"mixed_float16\">\n",
            "block6c_add float32 False <DTypePolicy \"mixed_float16\">\n",
            "block6d_expand_conv float32 False <DTypePolicy \"mixed_float16\">\n",
            "block6d_expand_bn float32 False <DTypePolicy \"mixed_float16\">\n",
            "block6d_expand_activation float32 False <DTypePolicy \"mixed_float16\">\n",
            "block6d_dwconv float32 False <DTypePolicy \"mixed_float16\">\n",
            "block6d_bn float32 False <DTypePolicy \"mixed_float16\">\n",
            "block6d_activation float32 False <DTypePolicy \"mixed_float16\">\n",
            "block6d_se_squeeze float32 False <DTypePolicy \"mixed_float16\">\n",
            "block6d_se_reshape float32 False <DTypePolicy \"mixed_float16\">\n",
            "block6d_se_reduce float32 False <DTypePolicy \"mixed_float16\">\n",
            "block6d_se_expand float32 False <DTypePolicy \"mixed_float16\">\n",
            "block6d_se_excite float32 False <DTypePolicy \"mixed_float16\">\n",
            "block6d_project_conv float32 False <DTypePolicy \"mixed_float16\">\n",
            "block6d_project_bn float32 False <DTypePolicy \"mixed_float16\">\n",
            "block6d_drop float32 False <DTypePolicy \"mixed_float16\">\n",
            "block6d_add float32 False <DTypePolicy \"mixed_float16\">\n",
            "block7a_expand_conv float32 False <DTypePolicy \"mixed_float16\">\n",
            "block7a_expand_bn float32 False <DTypePolicy \"mixed_float16\">\n",
            "block7a_expand_activation float32 False <DTypePolicy \"mixed_float16\">\n",
            "block7a_dwconv float32 False <DTypePolicy \"mixed_float16\">\n",
            "block7a_bn float32 False <DTypePolicy \"mixed_float16\">\n",
            "block7a_activation float32 False <DTypePolicy \"mixed_float16\">\n",
            "block7a_se_squeeze float32 False <DTypePolicy \"mixed_float16\">\n",
            "block7a_se_reshape float32 False <DTypePolicy \"mixed_float16\">\n",
            "block7a_se_reduce float32 False <DTypePolicy \"mixed_float16\">\n",
            "block7a_se_expand float32 False <DTypePolicy \"mixed_float16\">\n",
            "block7a_se_excite float32 False <DTypePolicy \"mixed_float16\">\n",
            "block7a_project_conv float32 False <DTypePolicy \"mixed_float16\">\n",
            "block7a_project_bn float32 False <DTypePolicy \"mixed_float16\">\n",
            "top_conv float32 False <DTypePolicy \"mixed_float16\">\n",
            "top_bn float32 False <DTypePolicy \"mixed_float16\">\n",
            "top_activation float32 False <DTypePolicy \"mixed_float16\">\n"
          ]
        }
      ]
    },
    {
      "cell_type": "code",
      "source": [
        "hist = model.fit(train_data,\n",
        "          epochs = 5,\n",
        "          validation_data = test_data,\n",
        "          validation_steps = int(0.15 * len(test_data)),\n",
        "          callbacks = [chck])"
      ],
      "metadata": {
        "id": "du4WazW19GHW",
        "outputId": "1f32879d-078a-41fa-e282-c1a528da4a67",
        "colab": {
          "base_uri": "https://localhost:8080/"
        }
      },
      "execution_count": null,
      "outputs": [
        {
          "output_type": "stream",
          "name": "stdout",
          "text": [
            "Epoch 1/5\n",
            "\u001b[1m2525/2525\u001b[0m \u001b[32m━━━━━━━━━━━━━━━━━━━━\u001b[0m\u001b[37m\u001b[0m \u001b[1m206s\u001b[0m 81ms/step - accuracy: 0.5707 - loss: 1.7513 - val_accuracy: 0.5918 - val_loss: 1.5636\n",
            "Epoch 2/5\n",
            "\u001b[1m2525/2525\u001b[0m \u001b[32m━━━━━━━━━━━━━━━━━━━━\u001b[0m\u001b[37m\u001b[0m \u001b[1m243s\u001b[0m 74ms/step - accuracy: 0.6566 - loss: 1.3333 - val_accuracy: 0.6200 - val_loss: 1.5039\n",
            "Epoch 3/5\n",
            "\u001b[1m2525/2525\u001b[0m \u001b[32m━━━━━━━━━━━━━━━━━━━━\u001b[0m\u001b[37m\u001b[0m \u001b[1m181s\u001b[0m 66ms/step - accuracy: 0.6862 - loss: 1.2007 - val_accuracy: 0.6951 - val_loss: 1.1957\n",
            "Epoch 4/5\n",
            "\u001b[1m2525/2525\u001b[0m \u001b[32m━━━━━━━━━━━━━━━━━━━━\u001b[0m\u001b[37m\u001b[0m \u001b[1m165s\u001b[0m 65ms/step - accuracy: 0.7058 - loss: 1.1175 - val_accuracy: 0.6439 - val_loss: 1.3744\n",
            "Epoch 5/5\n",
            "\u001b[1m 934/2525\u001b[0m \u001b[32m━━━━━━━\u001b[0m\u001b[37m━━━━━━━━━━━━━\u001b[0m \u001b[1m1:38\u001b[0m 62ms/step - accuracy: 0.7217 - loss: 1.0448"
          ]
        }
      ]
    },
    {
      "cell_type": "code",
      "source": [
        "model.evaluate(test_data)"
      ],
      "metadata": {
        "id": "5uj77m9u9nya"
      },
      "execution_count": null,
      "outputs": []
    }
  ]
}